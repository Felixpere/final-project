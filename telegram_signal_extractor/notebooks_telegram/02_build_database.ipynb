{
 "cells": [
  {
   "cell_type": "markdown",
   "id": "46b1121d",
   "metadata": {},
   "source": [
    "# 02 – Build SQLite Database from Clean CSV Files\n",
    "\n",
    "Build SQLite Database from Telegram Signals\n",
    "\n",
    "This notebook is responsible for transforming pre-cleaned CSV data from Telegram trading signals into a structured SQLite database. The process includes:\n",
    "\n",
    "1. **Loading Data**: Reads two cleaned CSV files:\n",
    "   - `telegram_signals_clean.csv`: Main signal entries.\n",
    "   - `telegram_updates_clean.csv`: Follow-up messages or edits.\n",
    "\n",
    "2. **Database Creation**:  \n",
    "   Creates a local SQLite database (`trading_signals.db`) and stores the datasets as two separate tables:\n",
    "   - `telegram_signals`\n",
    "   - `telegram_updates`\n",
    "\n",
    "3. **Data Preview**:  \n",
    "   Displays a quick sample of the loaded data to verify content integrity.\n",
    "\n",
    "This setup prepares the dataset for further analysis or visualization, such as in Streamlit dashboards or backtesting pipelines."
   ]
  },
  {
   "cell_type": "code",
   "execution_count": null,
   "id": "28c1086b",
   "metadata": {},
   "outputs": [],
   "source": [
    "import pandas as pd\n",
    "import sqlite3\n",
    "from pathlib import Path"
   ]
  },
  {
   "cell_type": "code",
   "execution_count": null,
   "id": "a1fe0e2c",
   "metadata": {},
   "outputs": [],
   "source": [
    "# Define file paths\n",
    "signals_path = Path(\"../data/telegram_signals_clean.csv\")\n",
    "updates_path = Path(\"../data/telegram_updates_clean.csv\")\n",
    "\n",
    "# Load data into DataFrames\n",
    "df_signals = pd.read_csv(signals_path)\n",
    "df_updates = pd.read_csv(updates_path)\n",
    "\n",
    "# Check structure\n",
    "print(\"Signals:\", df_signals.shape)\n",
    "print(\"Updates:\", df_updates.shape)"
   ]
  },
  {
   "cell_type": "code",
   "execution_count": null,
   "id": "801b7e4a",
   "metadata": {},
   "outputs": [],
   "source": [
    "# Define database path\n",
    "db_path = Path(\"../data/trading_signals.db\")\n",
    "\n",
    "# Connect and save to SQLite\n",
    "conn = sqlite3.connect(db_path)\n",
    "df_signals.to_sql(\"telegram_signals\", conn, if_exists=\"replace\", index=False)\n",
    "df_updates.to_sql(\"telegram_updates\", conn, if_exists=\"replace\", index=False)\n",
    "conn.close()\n",
    "\n",
    "print(\"Database created and saved to trading_signals.db\")"
   ]
  },
  {
   "cell_type": "code",
   "execution_count": null,
   "id": "77e28261",
   "metadata": {},
   "outputs": [],
   "source": [
    "# Show sample data\n",
    "print(\"\\nSample signals:\")\n",
    "display(df_signals.tail())\n",
    "\n",
    "print(\"\\nSample updates:\")\n",
    "display(df_updates.head())"
   ]
  },
  {
   "cell_type": "code",
   "execution_count": null,
   "id": "fae4010b-0fdd-4b53-867a-109578c93c00",
   "metadata": {},
   "outputs": [],
   "source": []
  }
 ],
 "metadata": {
  "kernelspec": {
   "display_name": "Python (final_proyect_env)",
   "language": "python",
   "name": "final_proyect_env"
  },
  "language_info": {
   "codemirror_mode": {
    "name": "ipython",
    "version": 3
   },
   "file_extension": ".py",
   "mimetype": "text/x-python",
   "name": "python",
   "nbconvert_exporter": "python",
   "pygments_lexer": "ipython3",
   "version": "3.13.2"
  }
 },
 "nbformat": 4,
 "nbformat_minor": 5
}
