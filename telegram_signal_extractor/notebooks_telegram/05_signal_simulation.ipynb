{
 "cells": [
  {
   "cell_type": "markdown",
   "id": "02f251e7-6475-4b0f-b789-a56179d5f306",
   "metadata": {},
   "source": [
    "# Monthly Signal Return Simulation\n",
    "\n",
    "## Goal\n",
    "\n",
    "This notebook simulates the monthly performance of trading signals extracted from a Telegram channel. It assumes a fixed investment per signal and evaluates the resulting gains or losses based on which Take Profit (TP) level was reached.\n",
    "\n",
    "## Key Objectives\n",
    "\n",
    "- Assign a return percentage to each signal based on the TP level hit\n",
    "- Apply a fixed investment (e.g. $100 per signal)\n",
    "- Simulate gain/loss per signal\n",
    "- Aggregate results on a monthly basis\n",
    "- Calculate:\n",
    "  - Monthly net profit/loss\n",
    "  - Hit rate (% of signals that reached at least TP_40)\n",
    "  - Number of signals per month\n",
    "- Visualize:\n",
    "  - Monthly profit/loss trend\n",
    "  - Distribution of returns across months\n",
    "\n",
    "## Assumptions\n",
    "\n",
    "- TP_40 → +40% return  \n",
    "- TP_60 → +60% return  \n",
    "- TP_80 → +80% return  \n",
    "- TP_100 → +100% return  \n",
    "- No TP hit → -40% loss (Stop Loss assumption)  \n",
    "- Only the highest TP reached is counted\n",
    "\n",
    "## Dataset Used\n",
    "\n",
    "- `signals_all_tp_results.csv`\n",
    "  - Includes symbol, direction, entry price, TP values, and result timestamps\n",
    "\n",
    "---\n",
    "\n"
   ]
  },
  {
   "cell_type": "code",
   "execution_count": 30,
   "id": "89f66bee-f545-466c-821c-8282562a4635",
   "metadata": {},
   "outputs": [
    {
     "data": {
      "text/html": [
       "<div>\n",
       "<style scoped>\n",
       "    .dataframe tbody tr th:only-of-type {\n",
       "        vertical-align: middle;\n",
       "    }\n",
       "\n",
       "    .dataframe tbody tr th {\n",
       "        vertical-align: top;\n",
       "    }\n",
       "\n",
       "    .dataframe thead th {\n",
       "        text-align: right;\n",
       "    }\n",
       "</style>\n",
       "<table border=\"1\" class=\"dataframe\">\n",
       "  <thead>\n",
       "    <tr style=\"text-align: right;\">\n",
       "      <th></th>\n",
       "      <th>symbol</th>\n",
       "      <th>direction</th>\n",
       "      <th>entry</th>\n",
       "      <th>tp_40</th>\n",
       "      <th>tp_60</th>\n",
       "      <th>tp_80</th>\n",
       "      <th>tp_100</th>\n",
       "      <th>timestamp</th>\n",
       "      <th>tp_40_result</th>\n",
       "      <th>tp_60_result</th>\n",
       "      <th>tp_80_result</th>\n",
       "      <th>tp_100_result</th>\n",
       "    </tr>\n",
       "  </thead>\n",
       "  <tbody>\n",
       "    <tr>\n",
       "      <th>0</th>\n",
       "      <td>GRTUSDT</td>\n",
       "      <td>Long</td>\n",
       "      <td>0.2167</td>\n",
       "      <td>0.2211</td>\n",
       "      <td>0.2234</td>\n",
       "      <td>0.2257</td>\n",
       "      <td>0.2281</td>\n",
       "      <td>2024-01-01 23:44:26+00:00</td>\n",
       "      <td>NaN</td>\n",
       "      <td>2024-01-02 02:10:51+00:00</td>\n",
       "      <td>NaN</td>\n",
       "      <td>NaN</td>\n",
       "    </tr>\n",
       "    <tr>\n",
       "      <th>1</th>\n",
       "      <td>PYTHUSDT</td>\n",
       "      <td>Long</td>\n",
       "      <td>0.3545</td>\n",
       "      <td>0.3617</td>\n",
       "      <td>0.3655</td>\n",
       "      <td>0.3693</td>\n",
       "      <td>0.3732</td>\n",
       "      <td>2024-01-01 23:45:03+00:00</td>\n",
       "      <td>2024-01-02 00:07:14+00:00</td>\n",
       "      <td>NaN</td>\n",
       "      <td>2024-07-25 23:36:12+00:00</td>\n",
       "      <td>NaN</td>\n",
       "    </tr>\n",
       "    <tr>\n",
       "      <th>2</th>\n",
       "      <td>BSVUSDT</td>\n",
       "      <td>Long</td>\n",
       "      <td>103.5100</td>\n",
       "      <td>105.6224</td>\n",
       "      <td>106.7113</td>\n",
       "      <td>107.8229</td>\n",
       "      <td>108.9579</td>\n",
       "      <td>2024-01-01 23:45:37+00:00</td>\n",
       "      <td>NaN</td>\n",
       "      <td>NaN</td>\n",
       "      <td>2024-01-02 00:26:33+00:00</td>\n",
       "      <td>NaN</td>\n",
       "    </tr>\n",
       "    <tr>\n",
       "      <th>3</th>\n",
       "      <td>SUSHIUSDT</td>\n",
       "      <td>Long</td>\n",
       "      <td>1.3796</td>\n",
       "      <td>1.4078</td>\n",
       "      <td>1.4223</td>\n",
       "      <td>1.4371</td>\n",
       "      <td>1.4522</td>\n",
       "      <td>2024-01-01 23:46:08+00:00</td>\n",
       "      <td>NaN</td>\n",
       "      <td>NaN</td>\n",
       "      <td>NaN</td>\n",
       "      <td>NaN</td>\n",
       "    </tr>\n",
       "    <tr>\n",
       "      <th>4</th>\n",
       "      <td>TIAUSDT</td>\n",
       "      <td>Long</td>\n",
       "      <td>14.0150</td>\n",
       "      <td>14.3010</td>\n",
       "      <td>14.4485</td>\n",
       "      <td>14.5990</td>\n",
       "      <td>14.7526</td>\n",
       "      <td>2024-01-01 23:48:45+00:00</td>\n",
       "      <td>2024-01-04 09:55:58+00:00</td>\n",
       "      <td>2024-01-04 10:00:51+00:00</td>\n",
       "      <td>2024-01-04 12:17:53+00:00</td>\n",
       "      <td>2024-01-04 14:17:42+00:00</td>\n",
       "    </tr>\n",
       "  </tbody>\n",
       "</table>\n",
       "</div>"
      ],
      "text/plain": [
       "      symbol direction     entry     tp_40     tp_60     tp_80    tp_100  \\\n",
       "0    GRTUSDT      Long    0.2167    0.2211    0.2234    0.2257    0.2281   \n",
       "1   PYTHUSDT      Long    0.3545    0.3617    0.3655    0.3693    0.3732   \n",
       "2    BSVUSDT      Long  103.5100  105.6224  106.7113  107.8229  108.9579   \n",
       "3  SUSHIUSDT      Long    1.3796    1.4078    1.4223    1.4371    1.4522   \n",
       "4    TIAUSDT      Long   14.0150   14.3010   14.4485   14.5990   14.7526   \n",
       "\n",
       "                  timestamp               tp_40_result  \\\n",
       "0 2024-01-01 23:44:26+00:00                        NaN   \n",
       "1 2024-01-01 23:45:03+00:00  2024-01-02 00:07:14+00:00   \n",
       "2 2024-01-01 23:45:37+00:00                        NaN   \n",
       "3 2024-01-01 23:46:08+00:00                        NaN   \n",
       "4 2024-01-01 23:48:45+00:00  2024-01-04 09:55:58+00:00   \n",
       "\n",
       "                tp_60_result               tp_80_result  \\\n",
       "0  2024-01-02 02:10:51+00:00                        NaN   \n",
       "1                        NaN  2024-07-25 23:36:12+00:00   \n",
       "2                        NaN  2024-01-02 00:26:33+00:00   \n",
       "3                        NaN                        NaN   \n",
       "4  2024-01-04 10:00:51+00:00  2024-01-04 12:17:53+00:00   \n",
       "\n",
       "               tp_100_result  \n",
       "0                        NaN  \n",
       "1                        NaN  \n",
       "2                        NaN  \n",
       "3                        NaN  \n",
       "4  2024-01-04 14:17:42+00:00  "
      ]
     },
     "execution_count": 30,
     "metadata": {},
     "output_type": "execute_result"
    }
   ],
   "source": [
    "# === Import libraries ===\n",
    "import pandas as pd\n",
    "import numpy as np\n",
    "from datetime import datetime\n",
    "import plotly.graph_objects as go\n",
    "from pathlib import Path\n",
    "\n",
    "# === Load clean signal data ===\n",
    "file_path = \"../data/clean/signals_all_tp_results.csv\"\n",
    "df = pd.read_csv(file_path)\n",
    "\n",
    "# === Parse timestamps ===\n",
    "df[\"timestamp\"] = pd.to_datetime(df[\"timestamp\"], utc=True)\n",
    "\n",
    "# === Quick check ===\n",
    "df.head()"
   ]
  },
  {
   "cell_type": "code",
   "execution_count": 7,
   "id": "eaa0f99e-c974-49b7-a191-e86d23bda8b2",
   "metadata": {},
   "outputs": [
    {
     "name": "stdout",
     "output_type": "stream",
     "text": [
      "Saved file: ../data/clean/signals_tp_clean_with_returns.csv\n"
     ]
    },
    {
     "data": {
      "text/html": [
       "<div>\n",
       "<style scoped>\n",
       "    .dataframe tbody tr th:only-of-type {\n",
       "        vertical-align: middle;\n",
       "    }\n",
       "\n",
       "    .dataframe tbody tr th {\n",
       "        vertical-align: top;\n",
       "    }\n",
       "\n",
       "    .dataframe thead th {\n",
       "        text-align: right;\n",
       "    }\n",
       "</style>\n",
       "<table border=\"1\" class=\"dataframe\">\n",
       "  <thead>\n",
       "    <tr style=\"text-align: right;\">\n",
       "      <th></th>\n",
       "      <th>symbol</th>\n",
       "      <th>direction</th>\n",
       "      <th>entry</th>\n",
       "      <th>tp_40</th>\n",
       "      <th>tp_60</th>\n",
       "      <th>tp_80</th>\n",
       "      <th>tp_100</th>\n",
       "      <th>timestamp</th>\n",
       "      <th>tp_40_result</th>\n",
       "      <th>tp_60_result</th>\n",
       "      <th>tp_80_result</th>\n",
       "      <th>tp_100_result</th>\n",
       "      <th>tp_40_hit</th>\n",
       "      <th>tp_60_hit</th>\n",
       "      <th>tp_80_hit</th>\n",
       "      <th>tp_100_hit</th>\n",
       "      <th>estimated_return</th>\n",
       "    </tr>\n",
       "  </thead>\n",
       "  <tbody>\n",
       "    <tr>\n",
       "      <th>0</th>\n",
       "      <td>GRTUSDT</td>\n",
       "      <td>Long</td>\n",
       "      <td>0.2167</td>\n",
       "      <td>0.2211</td>\n",
       "      <td>0.2234</td>\n",
       "      <td>0.2257</td>\n",
       "      <td>0.2281</td>\n",
       "      <td>2024-01-01 23:44:26+00:00</td>\n",
       "      <td>NaN</td>\n",
       "      <td>2024-01-02 02:10:51+00:00</td>\n",
       "      <td>NaN</td>\n",
       "      <td>NaN</td>\n",
       "      <td>True</td>\n",
       "      <td>True</td>\n",
       "      <td>False</td>\n",
       "      <td>False</td>\n",
       "      <td>60</td>\n",
       "    </tr>\n",
       "    <tr>\n",
       "      <th>1</th>\n",
       "      <td>PYTHUSDT</td>\n",
       "      <td>Long</td>\n",
       "      <td>0.3545</td>\n",
       "      <td>0.3617</td>\n",
       "      <td>0.3655</td>\n",
       "      <td>0.3693</td>\n",
       "      <td>0.3732</td>\n",
       "      <td>2024-01-01 23:45:03+00:00</td>\n",
       "      <td>2024-01-02 00:07:14+00:00</td>\n",
       "      <td>NaN</td>\n",
       "      <td>2024-07-25 23:36:12+00:00</td>\n",
       "      <td>NaN</td>\n",
       "      <td>True</td>\n",
       "      <td>True</td>\n",
       "      <td>True</td>\n",
       "      <td>False</td>\n",
       "      <td>80</td>\n",
       "    </tr>\n",
       "    <tr>\n",
       "      <th>2</th>\n",
       "      <td>BSVUSDT</td>\n",
       "      <td>Long</td>\n",
       "      <td>103.5100</td>\n",
       "      <td>105.6224</td>\n",
       "      <td>106.7113</td>\n",
       "      <td>107.8229</td>\n",
       "      <td>108.9579</td>\n",
       "      <td>2024-01-01 23:45:37+00:00</td>\n",
       "      <td>NaN</td>\n",
       "      <td>NaN</td>\n",
       "      <td>2024-01-02 00:26:33+00:00</td>\n",
       "      <td>NaN</td>\n",
       "      <td>True</td>\n",
       "      <td>True</td>\n",
       "      <td>True</td>\n",
       "      <td>False</td>\n",
       "      <td>80</td>\n",
       "    </tr>\n",
       "    <tr>\n",
       "      <th>3</th>\n",
       "      <td>SUSHIUSDT</td>\n",
       "      <td>Long</td>\n",
       "      <td>1.3796</td>\n",
       "      <td>1.4078</td>\n",
       "      <td>1.4223</td>\n",
       "      <td>1.4371</td>\n",
       "      <td>1.4522</td>\n",
       "      <td>2024-01-01 23:46:08+00:00</td>\n",
       "      <td>NaN</td>\n",
       "      <td>NaN</td>\n",
       "      <td>NaN</td>\n",
       "      <td>NaN</td>\n",
       "      <td>False</td>\n",
       "      <td>False</td>\n",
       "      <td>False</td>\n",
       "      <td>False</td>\n",
       "      <td>-40</td>\n",
       "    </tr>\n",
       "    <tr>\n",
       "      <th>4</th>\n",
       "      <td>TIAUSDT</td>\n",
       "      <td>Long</td>\n",
       "      <td>14.0150</td>\n",
       "      <td>14.3010</td>\n",
       "      <td>14.4485</td>\n",
       "      <td>14.5990</td>\n",
       "      <td>14.7526</td>\n",
       "      <td>2024-01-01 23:48:45+00:00</td>\n",
       "      <td>2024-01-04 09:55:58+00:00</td>\n",
       "      <td>2024-01-04 10:00:51+00:00</td>\n",
       "      <td>2024-01-04 12:17:53+00:00</td>\n",
       "      <td>2024-01-04 14:17:42+00:00</td>\n",
       "      <td>True</td>\n",
       "      <td>True</td>\n",
       "      <td>True</td>\n",
       "      <td>True</td>\n",
       "      <td>100</td>\n",
       "    </tr>\n",
       "  </tbody>\n",
       "</table>\n",
       "</div>"
      ],
      "text/plain": [
       "      symbol direction     entry     tp_40     tp_60     tp_80    tp_100  \\\n",
       "0    GRTUSDT      Long    0.2167    0.2211    0.2234    0.2257    0.2281   \n",
       "1   PYTHUSDT      Long    0.3545    0.3617    0.3655    0.3693    0.3732   \n",
       "2    BSVUSDT      Long  103.5100  105.6224  106.7113  107.8229  108.9579   \n",
       "3  SUSHIUSDT      Long    1.3796    1.4078    1.4223    1.4371    1.4522   \n",
       "4    TIAUSDT      Long   14.0150   14.3010   14.4485   14.5990   14.7526   \n",
       "\n",
       "                  timestamp               tp_40_result  \\\n",
       "0 2024-01-01 23:44:26+00:00                        NaN   \n",
       "1 2024-01-01 23:45:03+00:00  2024-01-02 00:07:14+00:00   \n",
       "2 2024-01-01 23:45:37+00:00                        NaN   \n",
       "3 2024-01-01 23:46:08+00:00                        NaN   \n",
       "4 2024-01-01 23:48:45+00:00  2024-01-04 09:55:58+00:00   \n",
       "\n",
       "                tp_60_result               tp_80_result  \\\n",
       "0  2024-01-02 02:10:51+00:00                        NaN   \n",
       "1                        NaN  2024-07-25 23:36:12+00:00   \n",
       "2                        NaN  2024-01-02 00:26:33+00:00   \n",
       "3                        NaN                        NaN   \n",
       "4  2024-01-04 10:00:51+00:00  2024-01-04 12:17:53+00:00   \n",
       "\n",
       "               tp_100_result  tp_40_hit  tp_60_hit  tp_80_hit  tp_100_hit  \\\n",
       "0                        NaN       True       True      False       False   \n",
       "1                        NaN       True       True       True       False   \n",
       "2                        NaN       True       True       True       False   \n",
       "3                        NaN      False      False      False       False   \n",
       "4  2024-01-04 14:17:42+00:00       True       True       True        True   \n",
       "\n",
       "   estimated_return  \n",
       "0                60  \n",
       "1                80  \n",
       "2                80  \n",
       "3               -40  \n",
       "4               100  "
      ]
     },
     "execution_count": 7,
     "metadata": {},
     "output_type": "execute_result"
    }
   ],
   "source": [
    "df = pd.read_csv(file_path)\n",
    "df[\"timestamp\"] = pd.to_datetime(df[\"timestamp\"], utc=True)\n",
    "\n",
    "# === Clean Data (Hierarchical TP assumption) ===\n",
    "tp_levels = [\"tp_40\", \"tp_60\", \"tp_80\", \"tp_100\"]\n",
    "\n",
    "# Marcar los TP alcanzados\n",
    "for tp in tp_levels:\n",
    "    df[f\"{tp}_hit\"] = df[f\"{tp}_result\"].notna()\n",
    "\n",
    "# Aplicar jerarquía: si tp_100_hit, también se marcarán tp_80, tp_60, tp_40 como True\n",
    "for i in range(len(tp_levels) - 1, 0, -1):\n",
    "    higher = f\"{tp_levels[i]}_hit\"\n",
    "    lower = f\"{tp_levels[i-1]}_hit\"\n",
    "    df[lower] = df[lower] | df[higher]\n",
    "\n",
    "\n",
    "# === Calculate estimated return column ===\n",
    "def calculate_return(row):\n",
    "    if row[\"tp_100_hit\"]:\n",
    "        return 100  # TP100 reached → +100%\n",
    "    elif row[\"tp_80_hit\"]:\n",
    "        return 80   # TP80 reached → +80%\n",
    "    elif row[\"tp_60_hit\"]:\n",
    "        return 60   # TP60 reached → +60%\n",
    "    elif row[\"tp_40_hit\"]:\n",
    "        return 40   # TP40 reached → +40%\n",
    "    else:\n",
    "        return -40  # No TP reached → Stop loss (-40%)\n",
    "\n",
    "df[\"estimated_return\"] = df.apply(calculate_return, axis=1)\n",
    "\n",
    "# === Save cleaned DataFrame with return info ===\n",
    "output_path = \"../data/clean/signals_tp_clean_with_returns.csv\"\n",
    "df.to_csv(output_path, index=False)\n",
    "print(\"Saved file:\", output_path)\n",
    "\n",
    "\n",
    "df.head()\n",
    "\n"
   ]
  },
  {
   "cell_type": "code",
   "execution_count": 19,
   "id": "2b4e2b8f-63fa-4b8a-8fcd-ffa22e1df3dd",
   "metadata": {},
   "outputs": [
    {
     "name": "stdout",
     "output_type": "stream",
     "text": [
      "Total unique symbols in simulation: 392\n"
     ]
    }
   ],
   "source": [
    "unique_symbols = df_returns[\"symbol\"].nunique()\n",
    "print(f\"Total unique symbols in simulation: {unique_symbols}\")"
   ]
  },
  {
   "cell_type": "code",
   "execution_count": 9,
   "id": "7ac66c95-4a51-4b5c-b09f-5e793383ecd1",
   "metadata": {},
   "outputs": [
    {
     "name": "stdout",
     "output_type": "stream",
     "text": [
      "      month  total_signals  successful_signals  failed_signals  success_rate  \\\n",
      "0   2024-01            188                 153              35          81.4   \n",
      "1   2024-02            139                 121              18          87.1   \n",
      "2   2024-03            153                 133              20          86.9   \n",
      "3   2024-04            137                 125              12          91.2   \n",
      "4   2024-05            135                 121              14          89.6   \n",
      "5   2024-06            117                 108               9          92.3   \n",
      "6   2024-07            121                 110              11          90.9   \n",
      "7   2024-08            144                 129              15          89.6   \n",
      "8   2024-09            130                 115              15          88.5   \n",
      "9   2024-10            125                 109              16          87.2   \n",
      "10  2024-11            120                 105              15          87.5   \n",
      "11  2024-12            121                 105              16          86.8   \n",
      "12  2025-01            124                 104              20          83.9   \n",
      "13  2025-02            112                  97              15          86.6   \n",
      "14  2025-03            124                 105              19          84.7   \n",
      "15  2025-04            120                  97              23          80.8   \n",
      "16  2025-05             89                  74              15          83.1   \n",
      "\n",
      "    total_monthly_return  \n",
      "0                  12040  \n",
      "1                   9800  \n",
      "2                  11200  \n",
      "3                  10780  \n",
      "4                  10220  \n",
      "5                   9000  \n",
      "6                   9320  \n",
      "7                  11100  \n",
      "8                   9520  \n",
      "9                   8920  \n",
      "10                  8100  \n",
      "11                  8200  \n",
      "12                  7880  \n",
      "13                  7400  \n",
      "14                  7880  \n",
      "15                  7300  \n",
      "16                  5680  \n"
     ]
    },
    {
     "name": "stderr",
     "output_type": "stream",
     "text": [
      "C:\\Users\\PcVIP\\AppData\\Local\\Temp\\ipykernel_18796\\2923082606.py:11: UserWarning: Converting to PeriodArray/Index representation will drop timezone information.\n",
      "  df_returns[\"month\"] = df_returns[\"timestamp\"].dt.to_period(\"M\").astype(str)\n"
     ]
    }
   ],
   "source": [
    "# === Load cleaned data with estimated returns ===\n",
    "import pandas as pd\n",
    "\n",
    "file_path = \"../data/clean/signals_tp_clean_with_returns.csv\"\n",
    "df_returns = pd.read_csv(file_path)\n",
    "df_returns[\"timestamp\"] = pd.to_datetime(df_returns[\"timestamp\"], utc=True)\n",
    "\n",
    "# === Monthly Performance Summary ===\n",
    "\n",
    "# Convert timestamp to datetime and extract month\n",
    "df_returns[\"month\"] = df_returns[\"timestamp\"].dt.to_period(\"M\").astype(str)\n",
    "\n",
    "# Group by month and calculate performance metrics\n",
    "monthly_summary = df_returns.groupby(\"month\").agg(\n",
    "    total_signals=(\"estimated_return\", \"count\"),\n",
    "    successful_signals=(\"estimated_return\", lambda x: (x > 0).sum()),\n",
    "    failed_signals=(\"estimated_return\", lambda x: (x < 0).sum()),\n",
    "    success_rate=(\"estimated_return\", lambda x: round((x > 0).mean() * 100, 1)),\n",
    "    total_monthly_return=(\"estimated_return\", lambda x: round(x.sum(), 2))\n",
    ").reset_index()\n",
    "\n",
    "# Display the result\n",
    "import plotly.express as px\n",
    "import plotly.graph_objects as go\n",
    "import os\n",
    "\n",
    "# Display monthly summary in standard Jupyter Notebook\n",
    "print(monthly_summary)\n",
    "\n",
    "\n",
    "# === Optional: Save summary table ===\n",
    "monthly_summary.to_csv(\"../data/clean/monthly_signal_performance.csv\", index=False)\n"
   ]
  },
  {
   "cell_type": "code",
   "execution_count": 20,
   "id": "0ea64c5d-0121-4a89-9916-568a2ec5f418",
   "metadata": {},
   "outputs": [
    {
     "name": "stdout",
     "output_type": "stream",
     "text": [
      "Number of unique symbols used in the simulation: 392\n",
      "Symbols:\n",
      "['1000000BABYDOGEUSDT', '1000000CHEEMSUSDT', '1000000MOGUSDT', '10000LADYSUSDT', '10000SATSUSDT', '10000WHYUSDT', '1000BONKUSDT', '1000CATUSDT', '1000FLOKIUSDT', '1000LUNCUSDT', '1000NEIROCTOUSDT', '1000PEPEUSDT', '1000RATSUSDT', '1000TOSHIUSDT', '1000TURBOUSDT', '1000XUSDT', '1CATUSDT', '1INCHUSDT', 'AAVEUSDT', 'ACEUSDT', 'ACHUSDT', 'ACTUSDT', 'ADAUSDT', 'AEROUSDT', 'AEVOUSDT', 'AGIXUSDT', 'AGLDUSDT', 'AI16ZUSDT', 'AIUSDT', 'AIXBTUSDT', 'AKTUSDT', 'ALCHUSDT', 'ALEOUSDT', 'ALGOUSDT', 'ALICEUSDT', 'ALPACAUSDT', 'ALTUSDT', 'AMBUSDT', 'ANIMEUSDT', 'APEUSDT', 'API3USDT', 'APTUSDT', 'ARBUSDT', 'ARCUSDT', 'ARKMUSDT', 'ARKUSDT', 'ARPAUSDT', 'ARUSDT', 'ATAUSDT', 'ATHUSDT', 'ATOMUSDT', 'AUCTIONUSDT', 'AVAAIUSDT', 'AVAUSDT', 'AVAXUSDT', 'AXLUSDT', 'B3USDT', 'BABYUSDT', 'BADGERUSDT', 'BAKEUSDT', 'BALUSDT', 'BANANAS31USDT', 'BANANAUSDT', 'BATUSDT', 'BBUSDT', 'BCHUSDT', 'BEAMUSDT', 'BELUSDT', 'BICOUSDT', 'BIGTIMEUSDT', 'BIOUSDT', 'BLASTUSDT', 'BLURUSDT', 'BLZUSDT', 'BMTUSDT', 'BNBUSDT', 'BNXUSDT', 'BOMEUSDT', 'BONDUSDT', 'BRETTUSDT', 'BROCCOLIUSDT', 'BRUSDT', 'BSVUSDT', 'BSWUSDT', 'BTCUSDT', 'BUZZUSDT', 'C98USDT', 'CAKEUSDT', 'CARVUSDT', 'CATIUSDT', 'CELRUSDT', 'CETUSUSDT', 'CFXUSDT', 'CGPTUSDT', 'CHESSUSDT', 'CHILLGUYUSDT', 'CHRUSDT', 'CHZUSDT', 'CKBUSDT', 'COMPUSDT', 'COOKIEUSDT', 'COREUSDT', 'COTIUSDT', 'COWUSDT', 'CRVUSDT', 'CTSIUSDT', 'CVXUSDT', 'CYBERUSDT', 'DARUSDT', 'DATAUSDT', 'DBRUSDT', 'DEEPUSDT', 'DEXEUSDT', 'DGBUSDT', 'DODOUSDT', 'DOGEUSDT', 'DOGSUSDT', 'DOGUSDT', 'DOP1USDT', 'DOTUSDT', 'DRIFTUSDT', 'DUCKUSDT', 'DYDXUSDT', 'DYMUSDT', 'EDUUSDT', 'EGLDUSDT', 'EIGENUSDT', 'ENAUSDT', 'ENJUSDT', 'ENSUSDT', 'EOSUSDT', 'EPICUSDT', 'EPTUSDT', 'ETCUSDT', 'ETHFIUSDT', 'ETHWUSDT', 'FARTCOINUSDT', 'FETUSDT', 'FHEUSDT', 'FILUSDT', 'FITFIUSDT', 'FLMUSDT', 'FLRUSDT', 'FORMUSDT', 'FOXYUSDT', 'FRONTUSDT', 'FTMUSDT', 'FXSUSDT', 'GALAUSDT', 'GALUSDT', 'GASUSDT', 'GFTUSDT', 'GIGAUSDT', 'GLMRUSDT', 'GLMUSDT', 'GMTUSDT', 'GMXUSDT', 'GOATUSDT', 'GPTUSDT', 'GRASSUSDT', 'GRIFFAINUSDT', 'GRTUSDT', 'GUNUSDT', 'GUSDT', 'HBARUSDT', 'HEIUSDT', 'HFTUSDT', 'HIFIUSDT', 'HIGHUSDT', 'HIPPOUSDT', 'HMSTRUSDT', 'HOOKUSDT', 'HOTUSDT', 'HYPEUSDT', 'ICPUSDT', 'ICXUSDT', 'IDEXUSDT', 'IDUSDT', 'ILVUSDT', 'IMXUSDT', 'INJUSDT', 'IOSTUSDT', 'IOTAUSDT', 'IOTXUSDT', 'IOUSDT', 'IPUSDT', 'JAILSTOOLUSDT', 'JASMYUSDT', 'JELLYJELLYUSDT', 'JOEUSDT', 'JTOUSDT', 'JUPUSDT', 'JUSDT', 'KASUSDT', 'KERNELUSDT', 'KLAYUSDT', 'KMNOUSDT', 'KNCUSDT', 'KOMAUSDT', 'KSMUSDT', 'LDOUSDT', 'LEVERUSDT', 'LINAUSDT', 'LINKUSDT', 'LISTAUSDT', 'LPTUSDT', 'LQTYUSDT', 'LRCUSDT', 'LSKUSDT', 'LUNA2USDT', 'MAGICUSDT', 'MANAUSDT', 'MANTAUSDT', 'MASKUSDT', 'MATICUSDT', 'MAVIAUSDT', 'MAVUSDT', 'MBOXUSDT', 'MDTUSDT', 'MELANIAUSDT', 'MEMEUSDT', 'MERLUSDT', 'METISUSDT', 'MEUSDT', 'MEWUSDT', 'MINAUSDT', 'MKRUSDT', 'MNTUSDT', 'MOCAUSDT', 'MOODENGUSDT', 'MORPHOUSDT', 'MOVEUSDT', 'MOVRUSDT', 'MTLUSDT', 'MYROUSDT', 'NCUSDT', 'NEARUSDT', 'NEIROETHUSDT', 'NFPUSDT', 'NILUSDT', 'NMRUSDT', 'NOTUSDT', 'OCEANUSDT', 'OGNUSDT', 'OMGUSDT', 'OMNIUSDT', 'OMUSDT', 'ONDOUSDT', 'ONEUSDT', 'ONGUSDT', 'ONTUSDT', 'OPUSDT', 'ORBSUSDT', 'ORDIUSDT', 'OXTUSDT', 'PARTIUSDT', 'PENDLEUSDT', 'PENGUUSDT', 'PEOPLEUSDT', 'PERPUSDT', 'PHAUSDT', 'PHBUSDT', 'PIPPINUSDT', 'PIXELUSDT', 'PLUMEUSDT', 'PNUTUSDT', 'PONKEUSDT', 'POPCATUSDT', 'PORTALUSDT', 'PRIMEUSDT', 'PROMPTUSDT', 'PROMUSDT', 'PUFFERUSDT', 'PUMPUSDT', 'PUNDIXUSDT', 'PYTHUSDT', 'QTUMUSDT', 'RADUSDT', 'RAREUSDT', 'RAYDIUMUSDT', 'RDNTUSDT', 'REDUSDT', 'RENDERUSDT', 'RENUSDT', 'REZUSDT', 'RIFUSDT', 'RLCUSDT', 'RNDRUSDT', 'ROSEUSDT', 'RSRUSDT', 'RUNEUSDT', 'RVNUSDT', 'SAFEUSDT', 'SAGAUSDT', 'SANDUSDT', 'SCRUSDT', 'SEIUSDT', 'SFPUSDT', 'SHELLUSDT', 'SHIB1000USDT', 'SIRENUSDT', 'SKLUSDT', 'SLERFUSDT', 'SLPUSDT', 'SNTUSDT', 'SNXUSDT', 'SOLAYERUSDT', 'SOLUSDT', 'SOLVUSDT', 'SONICUSDT', 'SPECUSDT', 'SPELLUSDT', 'SPXUSDT', 'SSVUSDT', 'STGUSDT', 'STMXUSDT', 'STORJUSDT', 'STPTUSDT', 'STRAXUSDT', 'STRKUSDT', 'STXUSDT', 'SUIUSDT', 'SUNUSDT', 'SUPERUSDT', 'SUSDT', 'SUSHIUSDT', 'SWARMSUSDT', 'SWEATUSDT', 'SWELLUSDT', 'SXPUSDT', 'SYNUSDT', 'SYRUPUSDT', 'SYSUSDT', 'TAIKOUSDT', 'TAIUSDT', 'TAOUSDT', 'THETAUSDT', 'THEUSDT', 'TIAUSDT', 'TLMUSDT', 'TNSRUSDT', 'TOKENUSDT', 'TOMIUSDT', 'TONUSDT', 'TRBUSDT', 'TRUMPUSDT', 'TRUUSDT', 'TSTBSCUSDT', 'TUSDT', 'TUTUSDT', 'TWTUSDT', 'UMAUSDT', 'UNFIUSDT', 'UNIUSDT', 'USTCUSDT', 'USUALUSDT', 'UXLINKUSDT', 'VANAUSDT', 'VANRYUSDT', 'VELODROMEUSDT', 'VELOUSDT', 'VICUSDT', 'VIDTUSDT', 'VINEUSDT', 'VIRTUALUSDT', 'VOXELUSDT', 'VTHOUSDT', 'VVVUSDT', 'WALUSDT', 'WAVESUSDT', 'WIFUSDT', 'WLDUSDT', 'WOOUSDT', 'WUSDT', 'XAIUSDT', 'XEMUSDT', 'XLMUSDT', 'XRPUSDT', 'XVGUSDT', 'XVSUSDT', 'YFIIUSDT', 'YFIUSDT', 'YGGUSDT', 'ZECUSDT', 'ZENUSDT', 'ZEREBROUSDT', 'ZETAUSDT', 'ZEUSUSDT', 'ZILUSDT', 'ZKUSDT', 'ZROUSDT', 'ZRXUSDT']\n"
     ]
    }
   ],
   "source": [
    "#Count unique symbols used in simulation\n",
    "\n",
    "import pandas as pd\n",
    "\n",
    "# Load the dataset with estimated returns\n",
    "file_path = \"../data/clean/signals_tp_clean_with_returns.csv\"\n",
    "df_returns = pd.read_csv(file_path)\n",
    "df_returns[\"timestamp\"] = pd.to_datetime(df_returns[\"timestamp\"], utc=True)\n",
    "\n",
    "# Count unique symbols\n",
    "unique_symbols = df_returns[\"symbol\"].nunique()\n",
    "symbol_list = df_returns[\"symbol\"].unique()\n",
    "\n",
    "print(f\"Number of unique symbols used in the simulation: {unique_symbols}\")\n",
    "print(\"Symbols:\")\n",
    "print(sorted(symbol_list))\n"
   ]
  },
  {
   "cell_type": "code",
   "execution_count": 18,
   "id": "a0015a31-7a7f-4d1b-9a66-f70ebca39fd0",
   "metadata": {},
   "outputs": [
    {
     "data": {
      "application/vnd.plotly.v1+json": {
       "config": {
        "plotlyServerURL": "https://plot.ly"
       },
       "data": [
        {
         "marker": {
          "color": "lightblue"
         },
         "name": "Total Signals",
         "type": "bar",
         "x": [
          "2024-01",
          "2024-02",
          "2024-03",
          "2024-04",
          "2024-05",
          "2024-06",
          "2024-07",
          "2024-08",
          "2024-09",
          "2024-10",
          "2024-11",
          "2024-12",
          "2025-01",
          "2025-02",
          "2025-03",
          "2025-04",
          "2025-05"
         ],
         "y": [
          188,
          139,
          153,
          137,
          135,
          117,
          121,
          144,
          130,
          125,
          120,
          121,
          124,
          112,
          124,
          120,
          89
         ],
         "yaxis": "y"
        },
        {
         "marker": {
          "color": "darkgreen"
         },
         "mode": "lines+markers+text",
         "name": "Success Rate (%)",
         "text": [
          "81.4%",
          "87.1%",
          "86.9%",
          "91.2%",
          "89.6%",
          "92.3%",
          "90.9%",
          "89.6%",
          "88.5%",
          "87.2%",
          "87.5%",
          "86.8%",
          "83.9%",
          "86.6%",
          "84.7%",
          "80.8%",
          "83.1%"
         ],
         "textposition": "top center",
         "type": "scatter",
         "x": [
          "2024-01",
          "2024-02",
          "2024-03",
          "2024-04",
          "2024-05",
          "2024-06",
          "2024-07",
          "2024-08",
          "2024-09",
          "2024-10",
          "2024-11",
          "2024-12",
          "2025-01",
          "2025-02",
          "2025-03",
          "2025-04",
          "2025-05"
         ],
         "y": [
          81.4,
          87.1,
          86.9,
          91.2,
          89.6,
          92.3,
          90.9,
          89.6,
          88.5,
          87.2,
          87.5,
          86.8,
          83.9,
          86.6,
          84.7,
          80.8,
          83.1
         ],
         "yaxis": "y2"
        }
       ],
       "layout": {
        "bargap": 0.2,
        "height": 500,
        "legend": {
         "orientation": "h",
         "x": 0.01,
         "y": 1.05
        },
        "plot_bgcolor": "white",
        "template": {
         "data": {
          "bar": [
           {
            "error_x": {
             "color": "#2a3f5f"
            },
            "error_y": {
             "color": "#2a3f5f"
            },
            "marker": {
             "line": {
              "color": "#E5ECF6",
              "width": 0.5
             },
             "pattern": {
              "fillmode": "overlay",
              "size": 10,
              "solidity": 0.2
             }
            },
            "type": "bar"
           }
          ],
          "barpolar": [
           {
            "marker": {
             "line": {
              "color": "#E5ECF6",
              "width": 0.5
             },
             "pattern": {
              "fillmode": "overlay",
              "size": 10,
              "solidity": 0.2
             }
            },
            "type": "barpolar"
           }
          ],
          "carpet": [
           {
            "aaxis": {
             "endlinecolor": "#2a3f5f",
             "gridcolor": "white",
             "linecolor": "white",
             "minorgridcolor": "white",
             "startlinecolor": "#2a3f5f"
            },
            "baxis": {
             "endlinecolor": "#2a3f5f",
             "gridcolor": "white",
             "linecolor": "white",
             "minorgridcolor": "white",
             "startlinecolor": "#2a3f5f"
            },
            "type": "carpet"
           }
          ],
          "choropleth": [
           {
            "colorbar": {
             "outlinewidth": 0,
             "ticks": ""
            },
            "type": "choropleth"
           }
          ],
          "contour": [
           {
            "colorbar": {
             "outlinewidth": 0,
             "ticks": ""
            },
            "colorscale": [
             [
              0,
              "#0d0887"
             ],
             [
              0.1111111111111111,
              "#46039f"
             ],
             [
              0.2222222222222222,
              "#7201a8"
             ],
             [
              0.3333333333333333,
              "#9c179e"
             ],
             [
              0.4444444444444444,
              "#bd3786"
             ],
             [
              0.5555555555555556,
              "#d8576b"
             ],
             [
              0.6666666666666666,
              "#ed7953"
             ],
             [
              0.7777777777777778,
              "#fb9f3a"
             ],
             [
              0.8888888888888888,
              "#fdca26"
             ],
             [
              1,
              "#f0f921"
             ]
            ],
            "type": "contour"
           }
          ],
          "contourcarpet": [
           {
            "colorbar": {
             "outlinewidth": 0,
             "ticks": ""
            },
            "type": "contourcarpet"
           }
          ],
          "heatmap": [
           {
            "colorbar": {
             "outlinewidth": 0,
             "ticks": ""
            },
            "colorscale": [
             [
              0,
              "#0d0887"
             ],
             [
              0.1111111111111111,
              "#46039f"
             ],
             [
              0.2222222222222222,
              "#7201a8"
             ],
             [
              0.3333333333333333,
              "#9c179e"
             ],
             [
              0.4444444444444444,
              "#bd3786"
             ],
             [
              0.5555555555555556,
              "#d8576b"
             ],
             [
              0.6666666666666666,
              "#ed7953"
             ],
             [
              0.7777777777777778,
              "#fb9f3a"
             ],
             [
              0.8888888888888888,
              "#fdca26"
             ],
             [
              1,
              "#f0f921"
             ]
            ],
            "type": "heatmap"
           }
          ],
          "heatmapgl": [
           {
            "colorbar": {
             "outlinewidth": 0,
             "ticks": ""
            },
            "colorscale": [
             [
              0,
              "#0d0887"
             ],
             [
              0.1111111111111111,
              "#46039f"
             ],
             [
              0.2222222222222222,
              "#7201a8"
             ],
             [
              0.3333333333333333,
              "#9c179e"
             ],
             [
              0.4444444444444444,
              "#bd3786"
             ],
             [
              0.5555555555555556,
              "#d8576b"
             ],
             [
              0.6666666666666666,
              "#ed7953"
             ],
             [
              0.7777777777777778,
              "#fb9f3a"
             ],
             [
              0.8888888888888888,
              "#fdca26"
             ],
             [
              1,
              "#f0f921"
             ]
            ],
            "type": "heatmapgl"
           }
          ],
          "histogram": [
           {
            "marker": {
             "pattern": {
              "fillmode": "overlay",
              "size": 10,
              "solidity": 0.2
             }
            },
            "type": "histogram"
           }
          ],
          "histogram2d": [
           {
            "colorbar": {
             "outlinewidth": 0,
             "ticks": ""
            },
            "colorscale": [
             [
              0,
              "#0d0887"
             ],
             [
              0.1111111111111111,
              "#46039f"
             ],
             [
              0.2222222222222222,
              "#7201a8"
             ],
             [
              0.3333333333333333,
              "#9c179e"
             ],
             [
              0.4444444444444444,
              "#bd3786"
             ],
             [
              0.5555555555555556,
              "#d8576b"
             ],
             [
              0.6666666666666666,
              "#ed7953"
             ],
             [
              0.7777777777777778,
              "#fb9f3a"
             ],
             [
              0.8888888888888888,
              "#fdca26"
             ],
             [
              1,
              "#f0f921"
             ]
            ],
            "type": "histogram2d"
           }
          ],
          "histogram2dcontour": [
           {
            "colorbar": {
             "outlinewidth": 0,
             "ticks": ""
            },
            "colorscale": [
             [
              0,
              "#0d0887"
             ],
             [
              0.1111111111111111,
              "#46039f"
             ],
             [
              0.2222222222222222,
              "#7201a8"
             ],
             [
              0.3333333333333333,
              "#9c179e"
             ],
             [
              0.4444444444444444,
              "#bd3786"
             ],
             [
              0.5555555555555556,
              "#d8576b"
             ],
             [
              0.6666666666666666,
              "#ed7953"
             ],
             [
              0.7777777777777778,
              "#fb9f3a"
             ],
             [
              0.8888888888888888,
              "#fdca26"
             ],
             [
              1,
              "#f0f921"
             ]
            ],
            "type": "histogram2dcontour"
           }
          ],
          "mesh3d": [
           {
            "colorbar": {
             "outlinewidth": 0,
             "ticks": ""
            },
            "type": "mesh3d"
           }
          ],
          "parcoords": [
           {
            "line": {
             "colorbar": {
              "outlinewidth": 0,
              "ticks": ""
             }
            },
            "type": "parcoords"
           }
          ],
          "pie": [
           {
            "automargin": true,
            "type": "pie"
           }
          ],
          "scatter": [
           {
            "fillpattern": {
             "fillmode": "overlay",
             "size": 10,
             "solidity": 0.2
            },
            "type": "scatter"
           }
          ],
          "scatter3d": [
           {
            "line": {
             "colorbar": {
              "outlinewidth": 0,
              "ticks": ""
             }
            },
            "marker": {
             "colorbar": {
              "outlinewidth": 0,
              "ticks": ""
             }
            },
            "type": "scatter3d"
           }
          ],
          "scattercarpet": [
           {
            "marker": {
             "colorbar": {
              "outlinewidth": 0,
              "ticks": ""
             }
            },
            "type": "scattercarpet"
           }
          ],
          "scattergeo": [
           {
            "marker": {
             "colorbar": {
              "outlinewidth": 0,
              "ticks": ""
             }
            },
            "type": "scattergeo"
           }
          ],
          "scattergl": [
           {
            "marker": {
             "colorbar": {
              "outlinewidth": 0,
              "ticks": ""
             }
            },
            "type": "scattergl"
           }
          ],
          "scattermapbox": [
           {
            "marker": {
             "colorbar": {
              "outlinewidth": 0,
              "ticks": ""
             }
            },
            "type": "scattermapbox"
           }
          ],
          "scatterpolar": [
           {
            "marker": {
             "colorbar": {
              "outlinewidth": 0,
              "ticks": ""
             }
            },
            "type": "scatterpolar"
           }
          ],
          "scatterpolargl": [
           {
            "marker": {
             "colorbar": {
              "outlinewidth": 0,
              "ticks": ""
             }
            },
            "type": "scatterpolargl"
           }
          ],
          "scatterternary": [
           {
            "marker": {
             "colorbar": {
              "outlinewidth": 0,
              "ticks": ""
             }
            },
            "type": "scatterternary"
           }
          ],
          "surface": [
           {
            "colorbar": {
             "outlinewidth": 0,
             "ticks": ""
            },
            "colorscale": [
             [
              0,
              "#0d0887"
             ],
             [
              0.1111111111111111,
              "#46039f"
             ],
             [
              0.2222222222222222,
              "#7201a8"
             ],
             [
              0.3333333333333333,
              "#9c179e"
             ],
             [
              0.4444444444444444,
              "#bd3786"
             ],
             [
              0.5555555555555556,
              "#d8576b"
             ],
             [
              0.6666666666666666,
              "#ed7953"
             ],
             [
              0.7777777777777778,
              "#fb9f3a"
             ],
             [
              0.8888888888888888,
              "#fdca26"
             ],
             [
              1,
              "#f0f921"
             ]
            ],
            "type": "surface"
           }
          ],
          "table": [
           {
            "cells": {
             "fill": {
              "color": "#EBF0F8"
             },
             "line": {
              "color": "white"
             }
            },
            "header": {
             "fill": {
              "color": "#C8D4E3"
             },
             "line": {
              "color": "white"
             }
            },
            "type": "table"
           }
          ]
         },
         "layout": {
          "annotationdefaults": {
           "arrowcolor": "#2a3f5f",
           "arrowhead": 0,
           "arrowwidth": 1
          },
          "autotypenumbers": "strict",
          "coloraxis": {
           "colorbar": {
            "outlinewidth": 0,
            "ticks": ""
           }
          },
          "colorscale": {
           "diverging": [
            [
             0,
             "#8e0152"
            ],
            [
             0.1,
             "#c51b7d"
            ],
            [
             0.2,
             "#de77ae"
            ],
            [
             0.3,
             "#f1b6da"
            ],
            [
             0.4,
             "#fde0ef"
            ],
            [
             0.5,
             "#f7f7f7"
            ],
            [
             0.6,
             "#e6f5d0"
            ],
            [
             0.7,
             "#b8e186"
            ],
            [
             0.8,
             "#7fbc41"
            ],
            [
             0.9,
             "#4d9221"
            ],
            [
             1,
             "#276419"
            ]
           ],
           "sequential": [
            [
             0,
             "#0d0887"
            ],
            [
             0.1111111111111111,
             "#46039f"
            ],
            [
             0.2222222222222222,
             "#7201a8"
            ],
            [
             0.3333333333333333,
             "#9c179e"
            ],
            [
             0.4444444444444444,
             "#bd3786"
            ],
            [
             0.5555555555555556,
             "#d8576b"
            ],
            [
             0.6666666666666666,
             "#ed7953"
            ],
            [
             0.7777777777777778,
             "#fb9f3a"
            ],
            [
             0.8888888888888888,
             "#fdca26"
            ],
            [
             1,
             "#f0f921"
            ]
           ],
           "sequentialminus": [
            [
             0,
             "#0d0887"
            ],
            [
             0.1111111111111111,
             "#46039f"
            ],
            [
             0.2222222222222222,
             "#7201a8"
            ],
            [
             0.3333333333333333,
             "#9c179e"
            ],
            [
             0.4444444444444444,
             "#bd3786"
            ],
            [
             0.5555555555555556,
             "#d8576b"
            ],
            [
             0.6666666666666666,
             "#ed7953"
            ],
            [
             0.7777777777777778,
             "#fb9f3a"
            ],
            [
             0.8888888888888888,
             "#fdca26"
            ],
            [
             1,
             "#f0f921"
            ]
           ]
          },
          "colorway": [
           "#636efa",
           "#EF553B",
           "#00cc96",
           "#ab63fa",
           "#FFA15A",
           "#19d3f3",
           "#FF6692",
           "#B6E880",
           "#FF97FF",
           "#FECB52"
          ],
          "font": {
           "color": "#2a3f5f"
          },
          "geo": {
           "bgcolor": "white",
           "lakecolor": "white",
           "landcolor": "#E5ECF6",
           "showlakes": true,
           "showland": true,
           "subunitcolor": "white"
          },
          "hoverlabel": {
           "align": "left"
          },
          "hovermode": "closest",
          "mapbox": {
           "style": "light"
          },
          "paper_bgcolor": "white",
          "plot_bgcolor": "#E5ECF6",
          "polar": {
           "angularaxis": {
            "gridcolor": "white",
            "linecolor": "white",
            "ticks": ""
           },
           "bgcolor": "#E5ECF6",
           "radialaxis": {
            "gridcolor": "white",
            "linecolor": "white",
            "ticks": ""
           }
          },
          "scene": {
           "xaxis": {
            "backgroundcolor": "#E5ECF6",
            "gridcolor": "white",
            "gridwidth": 2,
            "linecolor": "white",
            "showbackground": true,
            "ticks": "",
            "zerolinecolor": "white"
           },
           "yaxis": {
            "backgroundcolor": "#E5ECF6",
            "gridcolor": "white",
            "gridwidth": 2,
            "linecolor": "white",
            "showbackground": true,
            "ticks": "",
            "zerolinecolor": "white"
           },
           "zaxis": {
            "backgroundcolor": "#E5ECF6",
            "gridcolor": "white",
            "gridwidth": 2,
            "linecolor": "white",
            "showbackground": true,
            "ticks": "",
            "zerolinecolor": "white"
           }
          },
          "shapedefaults": {
           "line": {
            "color": "#2a3f5f"
           }
          },
          "ternary": {
           "aaxis": {
            "gridcolor": "white",
            "linecolor": "white",
            "ticks": ""
           },
           "baxis": {
            "gridcolor": "white",
            "linecolor": "white",
            "ticks": ""
           },
           "bgcolor": "#E5ECF6",
           "caxis": {
            "gridcolor": "white",
            "linecolor": "white",
            "ticks": ""
           }
          },
          "title": {
           "x": 0.05
          },
          "xaxis": {
           "automargin": true,
           "gridcolor": "white",
           "linecolor": "white",
           "ticks": "",
           "title": {
            "standoff": 15
           },
           "zerolinecolor": "white",
           "zerolinewidth": 2
          },
          "yaxis": {
           "automargin": true,
           "gridcolor": "white",
           "linecolor": "white",
           "ticks": "",
           "title": {
            "standoff": 15
           },
           "zerolinecolor": "white",
           "zerolinewidth": 2
          }
         }
        },
        "title": {
         "text": "Monthly Signal Volume and Success Rate"
        },
        "width": 900,
        "xaxis": {
         "title": {
          "text": "Month"
         }
        },
        "yaxis": {
         "side": "left",
         "tickfont": {
          "color": "lightblue"
         },
         "title": {
          "font": {
           "color": "lightblue"
          },
          "text": "Total Signals"
         }
        },
        "yaxis2": {
         "overlaying": "y",
         "side": "right",
         "tickfont": {
          "color": "darkgreen"
         },
         "title": {
          "font": {
           "color": "darkgreen"
          },
          "text": "Success Rate (%)"
         }
        }
       }
      },
      "image/png": "[encoded data removed]",
      "text/html": [
       "<div>                            <div id=\"99e3e2a0-8368-4e60-8019-3de88167d58f\" class=\"plotly-graph-div\" style=\"height:500px; width:900px;\"></div>            <script type=\"text/javascript\">                require([\"plotly\"], function(Plotly) {                    window.PLOTLYENV=window.PLOTLYENV || {};                                    if (document.getElementById(\"99e3e2a0-8368-4e60-8019-3de88167d58f\")) {                    Plotly.newPlot(                        \"99e3e2a0-8368-4e60-8019-3de88167d58f\",                        [{\"marker\":{\"color\":\"lightblue\"},\"name\":\"Total Signals\",\"x\":[\"2024-01\",\"2024-02\",\"2024-03\",\"2024-04\",\"2024-05\",\"2024-06\",\"2024-07\",\"2024-08\",\"2024-09\",\"2024-10\",\"2024-11\",\"2024-12\",\"2025-01\",\"2025-02\",\"2025-03\",\"2025-04\",\"2025-05\"],\"y\":[188,139,153,137,135,117,121,144,130,125,120,121,124,112,124,120,89],\"yaxis\":\"y\",\"type\":\"bar\"},{\"marker\":{\"color\":\"darkgreen\"},\"mode\":\"lines+markers+text\",\"name\":\"Success Rate (%)\",\"text\":[\"81.4%\",\"87.1%\",\"86.9%\",\"91.2%\",\"89.6%\",\"92.3%\",\"90.9%\",\"89.6%\",\"88.5%\",\"87.2%\",\"87.5%\",\"86.8%\",\"83.9%\",\"86.6%\",\"84.7%\",\"80.8%\",\"83.1%\"],\"textposition\":\"top center\",\"x\":[\"2024-01\",\"2024-02\",\"2024-03\",\"2024-04\",\"2024-05\",\"2024-06\",\"2024-07\",\"2024-08\",\"2024-09\",\"2024-10\",\"2024-11\",\"2024-12\",\"2025-01\",\"2025-02\",\"2025-03\",\"2025-04\",\"2025-05\"],\"y\":[81.4,87.1,86.9,91.2,89.6,92.3,90.9,89.6,88.5,87.2,87.5,86.8,83.9,86.6,84.7,80.8,83.1],\"yaxis\":\"y2\",\"type\":\"scatter\"}],                        {\"template\":{\"data\":{\"histogram2dcontour\":[{\"type\":\"histogram2dcontour\",\"colorbar\":{\"outlinewidth\":0,\"ticks\":\"\"},\"colorscale\":[[0.0,\"#0d0887\"],[0.1111111111111111,\"#46039f\"],[0.2222222222222222,\"#7201a8\"],[0.3333333333333333,\"#9c179e\"],[0.4444444444444444,\"#bd3786\"],[0.5555555555555556,\"#d8576b\"],[0.6666666666666666,\"#ed7953\"],[0.7777777777777778,\"#fb9f3a\"],[0.8888888888888888,\"#fdca26\"],[1.0,\"#f0f921\"]]}],\"choropleth\":[{\"type\":\"choropleth\",\"colorbar\":{\"outlinewidth\":0,\"ticks\":\"\"}}],\"histogram2d\":[{\"type\":\"histogram2d\",\"colorbar\":{\"outlinewidth\":0,\"ticks\":\"\"},\"colorscale\":[[0.0,\"#0d0887\"],[0.1111111111111111,\"#46039f\"],[0.2222222222222222,\"#7201a8\"],[0.3333333333333333,\"#9c179e\"],[0.4444444444444444,\"#bd3786\"],[0.5555555555555556,\"#d8576b\"],[0.6666666666666666,\"#ed7953\"],[0.7777777777777778,\"#fb9f3a\"],[0.8888888888888888,\"#fdca26\"],[1.0,\"#f0f921\"]]}],\"heatmap\":[{\"type\":\"heatmap\",\"colorbar\":{\"outlinewidth\":0,\"ticks\":\"\"},\"colorscale\":[[0.0,\"#0d0887\"],[0.1111111111111111,\"#46039f\"],[0.2222222222222222,\"#7201a8\"],[0.3333333333333333,\"#9c179e\"],[0.4444444444444444,\"#bd3786\"],[0.5555555555555556,\"#d8576b\"],[0.6666666666666666,\"#ed7953\"],[0.7777777777777778,\"#fb9f3a\"],[0.8888888888888888,\"#fdca26\"],[1.0,\"#f0f921\"]]}],\"heatmapgl\":[{\"type\":\"heatmapgl\",\"colorbar\":{\"outlinewidth\":0,\"ticks\":\"\"},\"colorscale\":[[0.0,\"#0d0887\"],[0.1111111111111111,\"#46039f\"],[0.2222222222222222,\"#7201a8\"],[0.3333333333333333,\"#9c179e\"],[0.4444444444444444,\"#bd3786\"],[0.5555555555555556,\"#d8576b\"],[0.6666666666666666,\"#ed7953\"],[0.7777777777777778,\"#fb9f3a\"],[0.8888888888888888,\"#fdca26\"],[1.0,\"#f0f921\"]]}],\"contourcarpet\":[{\"type\":\"contourcarpet\",\"colorbar\":{\"outlinewidth\":0,\"ticks\":\"\"}}],\"contour\":[{\"type\":\"contour\",\"colorbar\":{\"outlinewidth\":0,\"ticks\":\"\"},\"colorscale\":[[0.0,\"#0d0887\"],[0.1111111111111111,\"#46039f\"],[0.2222222222222222,\"#7201a8\"],[0.3333333333333333,\"#9c179e\"],[0.4444444444444444,\"#bd3786\"],[0.5555555555555556,\"#d8576b\"],[0.6666666666666666,\"#ed7953\"],[0.7777777777777778,\"#fb9f3a\"],[0.8888888888888888,\"#fdca26\"],[1.0,\"#f0f921\"]]}],\"surface\":[{\"type\":\"surface\",\"colorbar\":{\"outlinewidth\":0,\"ticks\":\"\"},\"colorscale\":[[0.0,\"#0d0887\"],[0.1111111111111111,\"#46039f\"],[0.2222222222222222,\"#7201a8\"],[0.3333333333333333,\"#9c179e\"],[0.4444444444444444,\"#bd3786\"],[0.5555555555555556,\"#d8576b\"],[0.6666666666666666,\"#ed7953\"],[0.7777777777777778,\"#fb9f3a\"],[0.8888888888888888,\"#fdca26\"],[1.0,\"#f0f921\"]]}],\"mesh3d\":[{\"type\":\"mesh3d\",\"colorbar\":{\"outlinewidth\":0,\"ticks\":\"\"}}],\"scatter\":[{\"fillpattern\":{\"fillmode\":\"overlay\",\"size\":10,\"solidity\":0.2},\"type\":\"scatter\"}],\"parcoords\":[{\"type\":\"parcoords\",\"line\":{\"colorbar\":{\"outlinewidth\":0,\"ticks\":\"\"}}}],\"scatterpolargl\":[{\"type\":\"scatterpolargl\",\"marker\":{\"colorbar\":{\"outlinewidth\":0,\"ticks\":\"\"}}}],\"bar\":[{\"error_x\":{\"color\":\"#2a3f5f\"},\"error_y\":{\"color\":\"#2a3f5f\"},\"marker\":{\"line\":{\"color\":\"#E5ECF6\",\"width\":0.5},\"pattern\":{\"fillmode\":\"overlay\",\"size\":10,\"solidity\":0.2}},\"type\":\"bar\"}],\"scattergeo\":[{\"type\":\"scattergeo\",\"marker\":{\"colorbar\":{\"outlinewidth\":0,\"ticks\":\"\"}}}],\"scatterpolar\":[{\"type\":\"scatterpolar\",\"marker\":{\"colorbar\":{\"outlinewidth\":0,\"ticks\":\"\"}}}],\"histogram\":[{\"marker\":{\"pattern\":{\"fillmode\":\"overlay\",\"size\":10,\"solidity\":0.2}},\"type\":\"histogram\"}],\"scattergl\":[{\"type\":\"scattergl\",\"marker\":{\"colorbar\":{\"outlinewidth\":0,\"ticks\":\"\"}}}],\"scatter3d\":[{\"type\":\"scatter3d\",\"line\":{\"colorbar\":{\"outlinewidth\":0,\"ticks\":\"\"}},\"marker\":{\"colorbar\":{\"outlinewidth\":0,\"ticks\":\"\"}}}],\"scattermapbox\":[{\"type\":\"scattermapbox\",\"marker\":{\"colorbar\":{\"outlinewidth\":0,\"ticks\":\"\"}}}],\"scatterternary\":[{\"type\":\"scatterternary\",\"marker\":{\"colorbar\":{\"outlinewidth\":0,\"ticks\":\"\"}}}],\"scattercarpet\":[{\"type\":\"scattercarpet\",\"marker\":{\"colorbar\":{\"outlinewidth\":0,\"ticks\":\"\"}}}],\"carpet\":[{\"aaxis\":{\"endlinecolor\":\"#2a3f5f\",\"gridcolor\":\"white\",\"linecolor\":\"white\",\"minorgridcolor\":\"white\",\"startlinecolor\":\"#2a3f5f\"},\"baxis\":{\"endlinecolor\":\"#2a3f5f\",\"gridcolor\":\"white\",\"linecolor\":\"white\",\"minorgridcolor\":\"white\",\"startlinecolor\":\"#2a3f5f\"},\"type\":\"carpet\"}],\"table\":[{\"cells\":{\"fill\":{\"color\":\"#EBF0F8\"},\"line\":{\"color\":\"white\"}},\"header\":{\"fill\":{\"color\":\"#C8D4E3\"},\"line\":{\"color\":\"white\"}},\"type\":\"table\"}],\"barpolar\":[{\"marker\":{\"line\":{\"color\":\"#E5ECF6\",\"width\":0.5},\"pattern\":{\"fillmode\":\"overlay\",\"size\":10,\"solidity\":0.2}},\"type\":\"barpolar\"}],\"pie\":[{\"automargin\":true,\"type\":\"pie\"}]},\"layout\":{\"autotypenumbers\":\"strict\",\"colorway\":[\"#636efa\",\"#EF553B\",\"#00cc96\",\"#ab63fa\",\"#FFA15A\",\"#19d3f3\",\"#FF6692\",\"#B6E880\",\"#FF97FF\",\"#FECB52\"],\"font\":{\"color\":\"#2a3f5f\"},\"hovermode\":\"closest\",\"hoverlabel\":{\"align\":\"left\"},\"paper_bgcolor\":\"white\",\"plot_bgcolor\":\"#E5ECF6\",\"polar\":{\"bgcolor\":\"#E5ECF6\",\"angularaxis\":{\"gridcolor\":\"white\",\"linecolor\":\"white\",\"ticks\":\"\"},\"radialaxis\":{\"gridcolor\":\"white\",\"linecolor\":\"white\",\"ticks\":\"\"}},\"ternary\":{\"bgcolor\":\"#E5ECF6\",\"aaxis\":{\"gridcolor\":\"white\",\"linecolor\":\"white\",\"ticks\":\"\"},\"baxis\":{\"gridcolor\":\"white\",\"linecolor\":\"white\",\"ticks\":\"\"},\"caxis\":{\"gridcolor\":\"white\",\"linecolor\":\"white\",\"ticks\":\"\"}},\"coloraxis\":{\"colorbar\":{\"outlinewidth\":0,\"ticks\":\"\"}},\"colorscale\":{\"sequential\":[[0.0,\"#0d0887\"],[0.1111111111111111,\"#46039f\"],[0.2222222222222222,\"#7201a8\"],[0.3333333333333333,\"#9c179e\"],[0.4444444444444444,\"#bd3786\"],[0.5555555555555556,\"#d8576b\"],[0.6666666666666666,\"#ed7953\"],[0.7777777777777778,\"#fb9f3a\"],[0.8888888888888888,\"#fdca26\"],[1.0,\"#f0f921\"]],\"sequentialminus\":[[0.0,\"#0d0887\"],[0.1111111111111111,\"#46039f\"],[0.2222222222222222,\"#7201a8\"],[0.3333333333333333,\"#9c179e\"],[0.4444444444444444,\"#bd3786\"],[0.5555555555555556,\"#d8576b\"],[0.6666666666666666,\"#ed7953\"],[0.7777777777777778,\"#fb9f3a\"],[0.8888888888888888,\"#fdca26\"],[1.0,\"#f0f921\"]],\"diverging\":[[0,\"#8e0152\"],[0.1,\"#c51b7d\"],[0.2,\"#de77ae\"],[0.3,\"#f1b6da\"],[0.4,\"#fde0ef\"],[0.5,\"#f7f7f7\"],[0.6,\"#e6f5d0\"],[0.7,\"#b8e186\"],[0.8,\"#7fbc41\"],[0.9,\"#4d9221\"],[1,\"#276419\"]]},\"xaxis\":{\"gridcolor\":\"white\",\"linecolor\":\"white\",\"ticks\":\"\",\"title\":{\"standoff\":15},\"zerolinecolor\":\"white\",\"automargin\":true,\"zerolinewidth\":2},\"yaxis\":{\"gridcolor\":\"white\",\"linecolor\":\"white\",\"ticks\":\"\",\"title\":{\"standoff\":15},\"zerolinecolor\":\"white\",\"automargin\":true,\"zerolinewidth\":2},\"scene\":{\"xaxis\":{\"backgroundcolor\":\"#E5ECF6\",\"gridcolor\":\"white\",\"linecolor\":\"white\",\"showbackground\":true,\"ticks\":\"\",\"zerolinecolor\":\"white\",\"gridwidth\":2},\"yaxis\":{\"backgroundcolor\":\"#E5ECF6\",\"gridcolor\":\"white\",\"linecolor\":\"white\",\"showbackground\":true,\"ticks\":\"\",\"zerolinecolor\":\"white\",\"gridwidth\":2},\"zaxis\":{\"backgroundcolor\":\"#E5ECF6\",\"gridcolor\":\"white\",\"linecolor\":\"white\",\"showbackground\":true,\"ticks\":\"\",\"zerolinecolor\":\"white\",\"gridwidth\":2}},\"shapedefaults\":{\"line\":{\"color\":\"#2a3f5f\"}},\"annotationdefaults\":{\"arrowcolor\":\"#2a3f5f\",\"arrowhead\":0,\"arrowwidth\":1},\"geo\":{\"bgcolor\":\"white\",\"landcolor\":\"#E5ECF6\",\"subunitcolor\":\"white\",\"showland\":true,\"showlakes\":true,\"lakecolor\":\"white\"},\"title\":{\"x\":0.05},\"mapbox\":{\"style\":\"light\"}}},\"yaxis\":{\"title\":{\"text\":\"Total Signals\",\"font\":{\"color\":\"lightblue\"}},\"tickfont\":{\"color\":\"lightblue\"},\"side\":\"left\"},\"yaxis2\":{\"title\":{\"text\":\"Success Rate (%)\",\"font\":{\"color\":\"darkgreen\"}},\"tickfont\":{\"color\":\"darkgreen\"},\"overlaying\":\"y\",\"side\":\"right\"},\"legend\":{\"x\":0.01,\"y\":1.05,\"orientation\":\"h\"},\"title\":{\"text\":\"Monthly Signal Volume and Success Rate\"},\"xaxis\":{\"title\":{\"text\":\"Month\"}},\"bargap\":0.2,\"width\":900,\"height\":500,\"plot_bgcolor\":\"white\"},                        {\"responsive\": true}                    ).then(function(){\n",
       "                            \n",
       "var gd = document.getElementById('99e3e2a0-8368-4e60-8019-3de88167d58f');\n",
       "var x = new MutationObserver(function (mutations, observer) {{\n",
       "        var display = window.getComputedStyle(gd).display;\n",
       "        if (!display || display === 'none') {{\n",
       "            console.log([gd, 'removed!']);\n",
       "            Plotly.purge(gd);\n",
       "            observer.disconnect();\n",
       "        }}\n",
       "}});\n",
       "\n",
       "// Listen for the removal of the full notebook cells\n",
       "var notebookContainer = gd.closest('#notebook-container');\n",
       "if (notebookContainer) {{\n",
       "    x.observe(notebookContainer, {childList: true});\n",
       "}}\n",
       "\n",
       "// Listen for the clearing of the current output cell\n",
       "var outputEl = gd.closest('.output');\n",
       "if (outputEl) {{\n",
       "    x.observe(outputEl, {childList: true});\n",
       "}}\n",
       "\n",
       "                        })                };                });            </script>        </div>"
      ]
     },
     "metadata": {},
     "output_type": "display_data"
    }
   ],
   "source": [
    "import plotly.graph_objects as go\n",
    "from pathlib import Path\n",
    "\n",
    "# === Bar + Line Combo Chart: Total signals and Success Rate ===\n",
    "fig = go.Figure()\n",
    "\n",
    "# Bar: total signals\n",
    "fig.add_trace(go.Bar(\n",
    "    x=monthly_summary[\"month\"],\n",
    "    y=monthly_summary[\"total_signals\"],\n",
    "    name=\"Total Signals\",\n",
    "    marker_color=\"lightblue\",\n",
    "    yaxis=\"y1\"\n",
    "))\n",
    "\n",
    "# Line: success rate\n",
    "fig.add_trace(go.Scatter(\n",
    "    x=monthly_summary[\"month\"],\n",
    "    y=monthly_summary[\"success_rate\"],\n",
    "    name=\"Success Rate (%)\",\n",
    "    mode=\"lines+markers+text\",\n",
    "    text=[f\"{v:.1f}%\" for v in monthly_summary[\"success_rate\"]],\n",
    "    textposition=\"top center\",\n",
    "    marker=dict(color=\"darkgreen\"),\n",
    "    yaxis=\"y2\"\n",
    "))\n",
    "\n",
    "fig.update_layout(\n",
    "    title=\"Monthly Signal Volume and Success Rate\",\n",
    "    xaxis_title=\"Month\",\n",
    "    yaxis=dict(\n",
    "        title=\"Total Signals\",\n",
    "        titlefont=dict(color=\"lightblue\"),\n",
    "        tickfont=dict(color=\"lightblue\"),\n",
    "        side=\"left\"\n",
    "    ),\n",
    "    yaxis2=dict(\n",
    "        title=\"Success Rate (%)\",\n",
    "        titlefont=dict(color=\"darkgreen\"),\n",
    "        tickfont=dict(color=\"darkgreen\"),\n",
    "        overlaying=\"y\",\n",
    "        side=\"right\"\n",
    "    ),\n",
    "    bargap=0.2,\n",
    "    width=900,\n",
    "    height=500,\n",
    "    legend=dict(x=0.01, y=1.05, orientation=\"h\"),\n",
    "    plot_bgcolor=\"white\"\n",
    ")\n",
    "\n",
    "# Save chart as HTML\n",
    "output_path = Path(\"../outputs/plots/monthly_signal_volume_success_rate.html\")\n",
    "fig.write_html(output_path)\n",
    "\n",
    "# Optional: display inline (Jupyter)\n",
    "fig.show()\n"
   ]
  },
  {
   "cell_type": "markdown",
   "id": "b04229ff-06d4-476b-b76e-250990a49c5b",
   "metadata": {},
   "source": [
    "This chart shows the total number of trading signals per month (bars) and the corresponding success rate (line). Despite fluctuations in volume, the success rate remained relatively stable, with some noticeable drops in early 2025"
   ]
  },
  {
   "cell_type": "code",
   "execution_count": 15,
   "id": "2e3d9c13-08e1-43aa-86b1-09d31af1ea65",
   "metadata": {},
   "outputs": [
    {
     "data": {
      "application/vnd.plotly.v1+json": {
       "config": {
        "plotlyServerURL": "https://plot.ly"
       },
       "data": [
        {
         "fill": "tozeroy",
         "line": {
          "color": "green"
         },
         "mode": "lines",
         "name": "Cumulative Return",
         "type": "scatter",
         "x": [
          "2024-01",
          "2024-02",
          "2024-03",
          "2024-04",
          "2024-05",
          "2024-06",
          "2024-07",
          "2024-08",
          "2024-09",
          "2024-10",
          "2024-11",
          "2024-12",
          "2025-01",
          "2025-02",
          "2025-03",
          "2025-04",
          "2025-05"
         ],
         "y": [
          12040,
          21840,
          33040,
          43820,
          54040,
          63040,
          72360,
          83460,
          92980,
          101900,
          110000,
          118200,
          126080,
          133480,
          141360,
          148660,
          154340
         ]
        }
       ],
       "layout": {
        "plot_bgcolor": "white",
        "template": {
         "data": {
          "bar": [
           {
            "error_x": {
             "color": "#2a3f5f"
            },
            "error_y": {
             "color": "#2a3f5f"
            },
            "marker": {
             "line": {
              "color": "#E5ECF6",
              "width": 0.5
             },
             "pattern": {
              "fillmode": "overlay",
              "size": 10,
              "solidity": 0.2
             }
            },
            "type": "bar"
           }
          ],
          "barpolar": [
           {
            "marker": {
             "line": {
              "color": "#E5ECF6",
              "width": 0.5
             },
             "pattern": {
              "fillmode": "overlay",
              "size": 10,
              "solidity": 0.2
             }
            },
            "type": "barpolar"
           }
          ],
          "carpet": [
           {
            "aaxis": {
             "endlinecolor": "#2a3f5f",
             "gridcolor": "white",
             "linecolor": "white",
             "minorgridcolor": "white",
             "startlinecolor": "#2a3f5f"
            },
            "baxis": {
             "endlinecolor": "#2a3f5f",
             "gridcolor": "white",
             "linecolor": "white",
             "minorgridcolor": "white",
             "startlinecolor": "#2a3f5f"
            },
            "type": "carpet"
           }
          ],
          "choropleth": [
           {
            "colorbar": {
             "outlinewidth": 0,
             "ticks": ""
            },
            "type": "choropleth"
           }
          ],
          "contour": [
           {
            "colorbar": {
             "outlinewidth": 0,
             "ticks": ""
            },
            "colorscale": [
             [
              0,
              "#0d0887"
             ],
             [
              0.1111111111111111,
              "#46039f"
             ],
             [
              0.2222222222222222,
              "#7201a8"
             ],
             [
              0.3333333333333333,
              "#9c179e"
             ],
             [
              0.4444444444444444,
              "#bd3786"
             ],
             [
              0.5555555555555556,
              "#d8576b"
             ],
             [
              0.6666666666666666,
              "#ed7953"
             ],
             [
              0.7777777777777778,
              "#fb9f3a"
             ],
             [
              0.8888888888888888,
              "#fdca26"
             ],
             [
              1,
              "#f0f921"
             ]
            ],
            "type": "contour"
           }
          ],
          "contourcarpet": [
           {
            "colorbar": {
             "outlinewidth": 0,
             "ticks": ""
            },
            "type": "contourcarpet"
           }
          ],
          "heatmap": [
           {
            "colorbar": {
             "outlinewidth": 0,
             "ticks": ""
            },
            "colorscale": [
             [
              0,
              "#0d0887"
             ],
             [
              0.1111111111111111,
              "#46039f"
             ],
             [
              0.2222222222222222,
              "#7201a8"
             ],
             [
              0.3333333333333333,
              "#9c179e"
             ],
             [
              0.4444444444444444,
              "#bd3786"
             ],
             [
              0.5555555555555556,
              "#d8576b"
             ],
             [
              0.6666666666666666,
              "#ed7953"
             ],
             [
              0.7777777777777778,
              "#fb9f3a"
             ],
             [
              0.8888888888888888,
              "#fdca26"
             ],
             [
              1,
              "#f0f921"
             ]
            ],
            "type": "heatmap"
           }
          ],
          "heatmapgl": [
           {
            "colorbar": {
             "outlinewidth": 0,
             "ticks": ""
            },
            "colorscale": [
             [
              0,
              "#0d0887"
             ],
             [
              0.1111111111111111,
              "#46039f"
             ],
             [
              0.2222222222222222,
              "#7201a8"
             ],
             [
              0.3333333333333333,
              "#9c179e"
             ],
             [
              0.4444444444444444,
              "#bd3786"
             ],
             [
              0.5555555555555556,
              "#d8576b"
             ],
             [
              0.6666666666666666,
              "#ed7953"
             ],
             [
              0.7777777777777778,
              "#fb9f3a"
             ],
             [
              0.8888888888888888,
              "#fdca26"
             ],
             [
              1,
              "#f0f921"
             ]
            ],
            "type": "heatmapgl"
           }
          ],
          "histogram": [
           {
            "marker": {
             "pattern": {
              "fillmode": "overlay",
              "size": 10,
              "solidity": 0.2
             }
            },
            "type": "histogram"
           }
          ],
          "histogram2d": [
           {
            "colorbar": {
             "outlinewidth": 0,
             "ticks": ""
            },
            "colorscale": [
             [
              0,
              "#0d0887"
             ],
             [
              0.1111111111111111,
              "#46039f"
             ],
             [
              0.2222222222222222,
              "#7201a8"
             ],
             [
              0.3333333333333333,
              "#9c179e"
             ],
             [
              0.4444444444444444,
              "#bd3786"
             ],
             [
              0.5555555555555556,
              "#d8576b"
             ],
             [
              0.6666666666666666,
              "#ed7953"
             ],
             [
              0.7777777777777778,
              "#fb9f3a"
             ],
             [
              0.8888888888888888,
              "#fdca26"
             ],
             [
              1,
              "#f0f921"
             ]
            ],
            "type": "histogram2d"
           }
          ],
          "histogram2dcontour": [
           {
            "colorbar": {
             "outlinewidth": 0,
             "ticks": ""
            },
            "colorscale": [
             [
              0,
              "#0d0887"
             ],
             [
              0.1111111111111111,
              "#46039f"
             ],
             [
              0.2222222222222222,
              "#7201a8"
             ],
             [
              0.3333333333333333,
              "#9c179e"
             ],
             [
              0.4444444444444444,
              "#bd3786"
             ],
             [
              0.5555555555555556,
              "#d8576b"
             ],
             [
              0.6666666666666666,
              "#ed7953"
             ],
             [
              0.7777777777777778,
              "#fb9f3a"
             ],
             [
              0.8888888888888888,
              "#fdca26"
             ],
             [
              1,
              "#f0f921"
             ]
            ],
            "type": "histogram2dcontour"
           }
          ],
          "mesh3d": [
           {
            "colorbar": {
             "outlinewidth": 0,
             "ticks": ""
            },
            "type": "mesh3d"
           }
          ],
          "parcoords": [
           {
            "line": {
             "colorbar": {
              "outlinewidth": 0,
              "ticks": ""
             }
            },
            "type": "parcoords"
           }
          ],
          "pie": [
           {
            "automargin": true,
            "type": "pie"
           }
          ],
          "scatter": [
           {
            "fillpattern": {
             "fillmode": "overlay",
             "size": 10,
             "solidity": 0.2
            },
            "type": "scatter"
           }
          ],
          "scatter3d": [
           {
            "line": {
             "colorbar": {
              "outlinewidth": 0,
              "ticks": ""
             }
            },
            "marker": {
             "colorbar": {
              "outlinewidth": 0,
              "ticks": ""
             }
            },
            "type": "scatter3d"
           }
          ],
          "scattercarpet": [
           {
            "marker": {
             "colorbar": {
              "outlinewidth": 0,
              "ticks": ""
             }
            },
            "type": "scattercarpet"
           }
          ],
          "scattergeo": [
           {
            "marker": {
             "colorbar": {
              "outlinewidth": 0,
              "ticks": ""
             }
            },
            "type": "scattergeo"
           }
          ],
          "scattergl": [
           {
            "marker": {
             "colorbar": {
              "outlinewidth": 0,
              "ticks": ""
             }
            },
            "type": "scattergl"
           }
          ],
          "scattermapbox": [
           {
            "marker": {
             "colorbar": {
              "outlinewidth": 0,
              "ticks": ""
             }
            },
            "type": "scattermapbox"
           }
          ],
          "scatterpolar": [
           {
            "marker": {
             "colorbar": {
              "outlinewidth": 0,
              "ticks": ""
             }
            },
            "type": "scatterpolar"
           }
          ],
          "scatterpolargl": [
           {
            "marker": {
             "colorbar": {
              "outlinewidth": 0,
              "ticks": ""
             }
            },
            "type": "scatterpolargl"
           }
          ],
          "scatterternary": [
           {
            "marker": {
             "colorbar": {
              "outlinewidth": 0,
              "ticks": ""
             }
            },
            "type": "scatterternary"
           }
          ],
          "surface": [
           {
            "colorbar": {
             "outlinewidth": 0,
             "ticks": ""
            },
            "colorscale": [
             [
              0,
              "#0d0887"
             ],
             [
              0.1111111111111111,
              "#46039f"
             ],
             [
              0.2222222222222222,
              "#7201a8"
             ],
             [
              0.3333333333333333,
              "#9c179e"
             ],
             [
              0.4444444444444444,
              "#bd3786"
             ],
             [
              0.5555555555555556,
              "#d8576b"
             ],
             [
              0.6666666666666666,
              "#ed7953"
             ],
             [
              0.7777777777777778,
              "#fb9f3a"
             ],
             [
              0.8888888888888888,
              "#fdca26"
             ],
             [
              1,
              "#f0f921"
             ]
            ],
            "type": "surface"
           }
          ],
          "table": [
           {
            "cells": {
             "fill": {
              "color": "#EBF0F8"
             },
             "line": {
              "color": "white"
             }
            },
            "header": {
             "fill": {
              "color": "#C8D4E3"
             },
             "line": {
              "color": "white"
             }
            },
            "type": "table"
           }
          ]
         },
         "layout": {
          "annotationdefaults": {
           "arrowcolor": "#2a3f5f",
           "arrowhead": 0,
           "arrowwidth": 1
          },
          "autotypenumbers": "strict",
          "coloraxis": {
           "colorbar": {
            "outlinewidth": 0,
            "ticks": ""
           }
          },
          "colorscale": {
           "diverging": [
            [
             0,
             "#8e0152"
            ],
            [
             0.1,
             "#c51b7d"
            ],
            [
             0.2,
             "#de77ae"
            ],
            [
             0.3,
             "#f1b6da"
            ],
            [
             0.4,
             "#fde0ef"
            ],
            [
             0.5,
             "#f7f7f7"
            ],
            [
             0.6,
             "#e6f5d0"
            ],
            [
             0.7,
             "#b8e186"
            ],
            [
             0.8,
             "#7fbc41"
            ],
            [
             0.9,
             "#4d9221"
            ],
            [
             1,
             "#276419"
            ]
           ],
           "sequential": [
            [
             0,
             "#0d0887"
            ],
            [
             0.1111111111111111,
             "#46039f"
            ],
            [
             0.2222222222222222,
             "#7201a8"
            ],
            [
             0.3333333333333333,
             "#9c179e"
            ],
            [
             0.4444444444444444,
             "#bd3786"
            ],
            [
             0.5555555555555556,
             "#d8576b"
            ],
            [
             0.6666666666666666,
             "#ed7953"
            ],
            [
             0.7777777777777778,
             "#fb9f3a"
            ],
            [
             0.8888888888888888,
             "#fdca26"
            ],
            [
             1,
             "#f0f921"
            ]
           ],
           "sequentialminus": [
            [
             0,
             "#0d0887"
            ],
            [
             0.1111111111111111,
             "#46039f"
            ],
            [
             0.2222222222222222,
             "#7201a8"
            ],
            [
             0.3333333333333333,
             "#9c179e"
            ],
            [
             0.4444444444444444,
             "#bd3786"
            ],
            [
             0.5555555555555556,
             "#d8576b"
            ],
            [
             0.6666666666666666,
             "#ed7953"
            ],
            [
             0.7777777777777778,
             "#fb9f3a"
            ],
            [
             0.8888888888888888,
             "#fdca26"
            ],
            [
             1,
             "#f0f921"
            ]
           ]
          },
          "colorway": [
           "#636efa",
           "#EF553B",
           "#00cc96",
           "#ab63fa",
           "#FFA15A",
           "#19d3f3",
           "#FF6692",
           "#B6E880",
           "#FF97FF",
           "#FECB52"
          ],
          "font": {
           "color": "#2a3f5f"
          },
          "geo": {
           "bgcolor": "white",
           "lakecolor": "white",
           "landcolor": "#E5ECF6",
           "showlakes": true,
           "showland": true,
           "subunitcolor": "white"
          },
          "hoverlabel": {
           "align": "left"
          },
          "hovermode": "closest",
          "mapbox": {
           "style": "light"
          },
          "paper_bgcolor": "white",
          "plot_bgcolor": "#E5ECF6",
          "polar": {
           "angularaxis": {
            "gridcolor": "white",
            "linecolor": "white",
            "ticks": ""
           },
           "bgcolor": "#E5ECF6",
           "radialaxis": {
            "gridcolor": "white",
            "linecolor": "white",
            "ticks": ""
           }
          },
          "scene": {
           "xaxis": {
            "backgroundcolor": "#E5ECF6",
            "gridcolor": "white",
            "gridwidth": 2,
            "linecolor": "white",
            "showbackground": true,
            "ticks": "",
            "zerolinecolor": "white"
           },
           "yaxis": {
            "backgroundcolor": "#E5ECF6",
            "gridcolor": "white",
            "gridwidth": 2,
            "linecolor": "white",
            "showbackground": true,
            "ticks": "",
            "zerolinecolor": "white"
           },
           "zaxis": {
            "backgroundcolor": "#E5ECF6",
            "gridcolor": "white",
            "gridwidth": 2,
            "linecolor": "white",
            "showbackground": true,
            "ticks": "",
            "zerolinecolor": "white"
           }
          },
          "shapedefaults": {
           "line": {
            "color": "#2a3f5f"
           }
          },
          "ternary": {
           "aaxis": {
            "gridcolor": "white",
            "linecolor": "white",
            "ticks": ""
           },
           "baxis": {
            "gridcolor": "white",
            "linecolor": "white",
            "ticks": ""
           },
           "bgcolor": "#E5ECF6",
           "caxis": {
            "gridcolor": "white",
            "linecolor": "white",
            "ticks": ""
           }
          },
          "title": {
           "x": 0.05
          },
          "xaxis": {
           "automargin": true,
           "gridcolor": "white",
           "linecolor": "white",
           "ticks": "",
           "title": {
            "standoff": 15
           },
           "zerolinecolor": "white",
           "zerolinewidth": 2
          },
          "yaxis": {
           "automargin": true,
           "gridcolor": "white",
           "linecolor": "white",
           "ticks": "",
           "title": {
            "standoff": 15
           },
           "zerolinecolor": "white",
           "zerolinewidth": 2
          }
         }
        },
        "title": {
         "text": "Simulated Cumulative Return Over Time"
        },
        "xaxis": {
         "title": {
          "text": "Month"
         }
        },
        "yaxis": {
         "title": {
          "text": "Cumulative Return ($)"
         }
        }
       }
      },
      "image/png": "[encoded data removed]",
      "text/html": [
       "<div>                            <div id=\"6bcfded0-8ca4-4895-85e0-feba80abe2d2\" class=\"plotly-graph-div\" style=\"height:525px; width:100%;\"></div>            <script type=\"text/javascript\">                require([\"plotly\"], function(Plotly) {                    window.PLOTLYENV=window.PLOTLYENV || {};                                    if (document.getElementById(\"6bcfded0-8ca4-4895-85e0-feba80abe2d2\")) {                    Plotly.newPlot(                        \"6bcfded0-8ca4-4895-85e0-feba80abe2d2\",                        [{\"fill\":\"tozeroy\",\"line\":{\"color\":\"green\"},\"mode\":\"lines\",\"name\":\"Cumulative Return\",\"x\":[\"2024-01\",\"2024-02\",\"2024-03\",\"2024-04\",\"2024-05\",\"2024-06\",\"2024-07\",\"2024-08\",\"2024-09\",\"2024-10\",\"2024-11\",\"2024-12\",\"2025-01\",\"2025-02\",\"2025-03\",\"2025-04\",\"2025-05\"],\"y\":[12040,21840,33040,43820,54040,63040,72360,83460,92980,101900,110000,118200,126080,133480,141360,148660,154340],\"type\":\"scatter\"}],                        {\"template\":{\"data\":{\"histogram2dcontour\":[{\"type\":\"histogram2dcontour\",\"colorbar\":{\"outlinewidth\":0,\"ticks\":\"\"},\"colorscale\":[[0.0,\"#0d0887\"],[0.1111111111111111,\"#46039f\"],[0.2222222222222222,\"#7201a8\"],[0.3333333333333333,\"#9c179e\"],[0.4444444444444444,\"#bd3786\"],[0.5555555555555556,\"#d8576b\"],[0.6666666666666666,\"#ed7953\"],[0.7777777777777778,\"#fb9f3a\"],[0.8888888888888888,\"#fdca26\"],[1.0,\"#f0f921\"]]}],\"choropleth\":[{\"type\":\"choropleth\",\"colorbar\":{\"outlinewidth\":0,\"ticks\":\"\"}}],\"histogram2d\":[{\"type\":\"histogram2d\",\"colorbar\":{\"outlinewidth\":0,\"ticks\":\"\"},\"colorscale\":[[0.0,\"#0d0887\"],[0.1111111111111111,\"#46039f\"],[0.2222222222222222,\"#7201a8\"],[0.3333333333333333,\"#9c179e\"],[0.4444444444444444,\"#bd3786\"],[0.5555555555555556,\"#d8576b\"],[0.6666666666666666,\"#ed7953\"],[0.7777777777777778,\"#fb9f3a\"],[0.8888888888888888,\"#fdca26\"],[1.0,\"#f0f921\"]]}],\"heatmap\":[{\"type\":\"heatmap\",\"colorbar\":{\"outlinewidth\":0,\"ticks\":\"\"},\"colorscale\":[[0.0,\"#0d0887\"],[0.1111111111111111,\"#46039f\"],[0.2222222222222222,\"#7201a8\"],[0.3333333333333333,\"#9c179e\"],[0.4444444444444444,\"#bd3786\"],[0.5555555555555556,\"#d8576b\"],[0.6666666666666666,\"#ed7953\"],[0.7777777777777778,\"#fb9f3a\"],[0.8888888888888888,\"#fdca26\"],[1.0,\"#f0f921\"]]}],\"heatmapgl\":[{\"type\":\"heatmapgl\",\"colorbar\":{\"outlinewidth\":0,\"ticks\":\"\"},\"colorscale\":[[0.0,\"#0d0887\"],[0.1111111111111111,\"#46039f\"],[0.2222222222222222,\"#7201a8\"],[0.3333333333333333,\"#9c179e\"],[0.4444444444444444,\"#bd3786\"],[0.5555555555555556,\"#d8576b\"],[0.6666666666666666,\"#ed7953\"],[0.7777777777777778,\"#fb9f3a\"],[0.8888888888888888,\"#fdca26\"],[1.0,\"#f0f921\"]]}],\"contourcarpet\":[{\"type\":\"contourcarpet\",\"colorbar\":{\"outlinewidth\":0,\"ticks\":\"\"}}],\"contour\":[{\"type\":\"contour\",\"colorbar\":{\"outlinewidth\":0,\"ticks\":\"\"},\"colorscale\":[[0.0,\"#0d0887\"],[0.1111111111111111,\"#46039f\"],[0.2222222222222222,\"#7201a8\"],[0.3333333333333333,\"#9c179e\"],[0.4444444444444444,\"#bd3786\"],[0.5555555555555556,\"#d8576b\"],[0.6666666666666666,\"#ed7953\"],[0.7777777777777778,\"#fb9f3a\"],[0.8888888888888888,\"#fdca26\"],[1.0,\"#f0f921\"]]}],\"surface\":[{\"type\":\"surface\",\"colorbar\":{\"outlinewidth\":0,\"ticks\":\"\"},\"colorscale\":[[0.0,\"#0d0887\"],[0.1111111111111111,\"#46039f\"],[0.2222222222222222,\"#7201a8\"],[0.3333333333333333,\"#9c179e\"],[0.4444444444444444,\"#bd3786\"],[0.5555555555555556,\"#d8576b\"],[0.6666666666666666,\"#ed7953\"],[0.7777777777777778,\"#fb9f3a\"],[0.8888888888888888,\"#fdca26\"],[1.0,\"#f0f921\"]]}],\"mesh3d\":[{\"type\":\"mesh3d\",\"colorbar\":{\"outlinewidth\":0,\"ticks\":\"\"}}],\"scatter\":[{\"fillpattern\":{\"fillmode\":\"overlay\",\"size\":10,\"solidity\":0.2},\"type\":\"scatter\"}],\"parcoords\":[{\"type\":\"parcoords\",\"line\":{\"colorbar\":{\"outlinewidth\":0,\"ticks\":\"\"}}}],\"scatterpolargl\":[{\"type\":\"scatterpolargl\",\"marker\":{\"colorbar\":{\"outlinewidth\":0,\"ticks\":\"\"}}}],\"bar\":[{\"error_x\":{\"color\":\"#2a3f5f\"},\"error_y\":{\"color\":\"#2a3f5f\"},\"marker\":{\"line\":{\"color\":\"#E5ECF6\",\"width\":0.5},\"pattern\":{\"fillmode\":\"overlay\",\"size\":10,\"solidity\":0.2}},\"type\":\"bar\"}],\"scattergeo\":[{\"type\":\"scattergeo\",\"marker\":{\"colorbar\":{\"outlinewidth\":0,\"ticks\":\"\"}}}],\"scatterpolar\":[{\"type\":\"scatterpolar\",\"marker\":{\"colorbar\":{\"outlinewidth\":0,\"ticks\":\"\"}}}],\"histogram\":[{\"marker\":{\"pattern\":{\"fillmode\":\"overlay\",\"size\":10,\"solidity\":0.2}},\"type\":\"histogram\"}],\"scattergl\":[{\"type\":\"scattergl\",\"marker\":{\"colorbar\":{\"outlinewidth\":0,\"ticks\":\"\"}}}],\"scatter3d\":[{\"type\":\"scatter3d\",\"line\":{\"colorbar\":{\"outlinewidth\":0,\"ticks\":\"\"}},\"marker\":{\"colorbar\":{\"outlinewidth\":0,\"ticks\":\"\"}}}],\"scattermapbox\":[{\"type\":\"scattermapbox\",\"marker\":{\"colorbar\":{\"outlinewidth\":0,\"ticks\":\"\"}}}],\"scatterternary\":[{\"type\":\"scatterternary\",\"marker\":{\"colorbar\":{\"outlinewidth\":0,\"ticks\":\"\"}}}],\"scattercarpet\":[{\"type\":\"scattercarpet\",\"marker\":{\"colorbar\":{\"outlinewidth\":0,\"ticks\":\"\"}}}],\"carpet\":[{\"aaxis\":{\"endlinecolor\":\"#2a3f5f\",\"gridcolor\":\"white\",\"linecolor\":\"white\",\"minorgridcolor\":\"white\",\"startlinecolor\":\"#2a3f5f\"},\"baxis\":{\"endlinecolor\":\"#2a3f5f\",\"gridcolor\":\"white\",\"linecolor\":\"white\",\"minorgridcolor\":\"white\",\"startlinecolor\":\"#2a3f5f\"},\"type\":\"carpet\"}],\"table\":[{\"cells\":{\"fill\":{\"color\":\"#EBF0F8\"},\"line\":{\"color\":\"white\"}},\"header\":{\"fill\":{\"color\":\"#C8D4E3\"},\"line\":{\"color\":\"white\"}},\"type\":\"table\"}],\"barpolar\":[{\"marker\":{\"line\":{\"color\":\"#E5ECF6\",\"width\":0.5},\"pattern\":{\"fillmode\":\"overlay\",\"size\":10,\"solidity\":0.2}},\"type\":\"barpolar\"}],\"pie\":[{\"automargin\":true,\"type\":\"pie\"}]},\"layout\":{\"autotypenumbers\":\"strict\",\"colorway\":[\"#636efa\",\"#EF553B\",\"#00cc96\",\"#ab63fa\",\"#FFA15A\",\"#19d3f3\",\"#FF6692\",\"#B6E880\",\"#FF97FF\",\"#FECB52\"],\"font\":{\"color\":\"#2a3f5f\"},\"hovermode\":\"closest\",\"hoverlabel\":{\"align\":\"left\"},\"paper_bgcolor\":\"white\",\"plot_bgcolor\":\"#E5ECF6\",\"polar\":{\"bgcolor\":\"#E5ECF6\",\"angularaxis\":{\"gridcolor\":\"white\",\"linecolor\":\"white\",\"ticks\":\"\"},\"radialaxis\":{\"gridcolor\":\"white\",\"linecolor\":\"white\",\"ticks\":\"\"}},\"ternary\":{\"bgcolor\":\"#E5ECF6\",\"aaxis\":{\"gridcolor\":\"white\",\"linecolor\":\"white\",\"ticks\":\"\"},\"baxis\":{\"gridcolor\":\"white\",\"linecolor\":\"white\",\"ticks\":\"\"},\"caxis\":{\"gridcolor\":\"white\",\"linecolor\":\"white\",\"ticks\":\"\"}},\"coloraxis\":{\"colorbar\":{\"outlinewidth\":0,\"ticks\":\"\"}},\"colorscale\":{\"sequential\":[[0.0,\"#0d0887\"],[0.1111111111111111,\"#46039f\"],[0.2222222222222222,\"#7201a8\"],[0.3333333333333333,\"#9c179e\"],[0.4444444444444444,\"#bd3786\"],[0.5555555555555556,\"#d8576b\"],[0.6666666666666666,\"#ed7953\"],[0.7777777777777778,\"#fb9f3a\"],[0.8888888888888888,\"#fdca26\"],[1.0,\"#f0f921\"]],\"sequentialminus\":[[0.0,\"#0d0887\"],[0.1111111111111111,\"#46039f\"],[0.2222222222222222,\"#7201a8\"],[0.3333333333333333,\"#9c179e\"],[0.4444444444444444,\"#bd3786\"],[0.5555555555555556,\"#d8576b\"],[0.6666666666666666,\"#ed7953\"],[0.7777777777777778,\"#fb9f3a\"],[0.8888888888888888,\"#fdca26\"],[1.0,\"#f0f921\"]],\"diverging\":[[0,\"#8e0152\"],[0.1,\"#c51b7d\"],[0.2,\"#de77ae\"],[0.3,\"#f1b6da\"],[0.4,\"#fde0ef\"],[0.5,\"#f7f7f7\"],[0.6,\"#e6f5d0\"],[0.7,\"#b8e186\"],[0.8,\"#7fbc41\"],[0.9,\"#4d9221\"],[1,\"#276419\"]]},\"xaxis\":{\"gridcolor\":\"white\",\"linecolor\":\"white\",\"ticks\":\"\",\"title\":{\"standoff\":15},\"zerolinecolor\":\"white\",\"automargin\":true,\"zerolinewidth\":2},\"yaxis\":{\"gridcolor\":\"white\",\"linecolor\":\"white\",\"ticks\":\"\",\"title\":{\"standoff\":15},\"zerolinecolor\":\"white\",\"automargin\":true,\"zerolinewidth\":2},\"scene\":{\"xaxis\":{\"backgroundcolor\":\"#E5ECF6\",\"gridcolor\":\"white\",\"linecolor\":\"white\",\"showbackground\":true,\"ticks\":\"\",\"zerolinecolor\":\"white\",\"gridwidth\":2},\"yaxis\":{\"backgroundcolor\":\"#E5ECF6\",\"gridcolor\":\"white\",\"linecolor\":\"white\",\"showbackground\":true,\"ticks\":\"\",\"zerolinecolor\":\"white\",\"gridwidth\":2},\"zaxis\":{\"backgroundcolor\":\"#E5ECF6\",\"gridcolor\":\"white\",\"linecolor\":\"white\",\"showbackground\":true,\"ticks\":\"\",\"zerolinecolor\":\"white\",\"gridwidth\":2}},\"shapedefaults\":{\"line\":{\"color\":\"#2a3f5f\"}},\"annotationdefaults\":{\"arrowcolor\":\"#2a3f5f\",\"arrowhead\":0,\"arrowwidth\":1},\"geo\":{\"bgcolor\":\"white\",\"landcolor\":\"#E5ECF6\",\"subunitcolor\":\"white\",\"showland\":true,\"showlakes\":true,\"lakecolor\":\"white\"},\"title\":{\"x\":0.05},\"mapbox\":{\"style\":\"light\"}}},\"title\":{\"text\":\"Simulated Cumulative Return Over Time\"},\"xaxis\":{\"title\":{\"text\":\"Month\"}},\"yaxis\":{\"title\":{\"text\":\"Cumulative Return ($)\"}},\"plot_bgcolor\":\"white\"},                        {\"responsive\": true}                    ).then(function(){\n",
       "                            \n",
       "var gd = document.getElementById('6bcfded0-8ca4-4895-85e0-feba80abe2d2');\n",
       "var x = new MutationObserver(function (mutations, observer) {{\n",
       "        var display = window.getComputedStyle(gd).display;\n",
       "        if (!display || display === 'none') {{\n",
       "            console.log([gd, 'removed!']);\n",
       "            Plotly.purge(gd);\n",
       "            observer.disconnect();\n",
       "        }}\n",
       "}});\n",
       "\n",
       "// Listen for the removal of the full notebook cells\n",
       "var notebookContainer = gd.closest('#notebook-container');\n",
       "if (notebookContainer) {{\n",
       "    x.observe(notebookContainer, {childList: true});\n",
       "}}\n",
       "\n",
       "// Listen for the clearing of the current output cell\n",
       "var outputEl = gd.closest('.output');\n",
       "if (outputEl) {{\n",
       "    x.observe(outputEl, {childList: true});\n",
       "}}\n",
       "\n",
       "                        })                };                });            </script>        </div>"
      ]
     },
     "metadata": {},
     "output_type": "display_data"
    }
   ],
   "source": [
    "# Load cleaned performance summary\n",
    "df_monthly = pd.read_csv(\"../data/clean/monthly_signal_performance.csv\")\n",
    "\n",
    "# Create cumulative return column\n",
    "df_monthly[\"cumulative_return\"] = df_monthly[\"total_monthly_return\"].cumsum()\n",
    "\n",
    "# Plot cumulative return as a stacked area chart\n",
    "fig = go.Figure()\n",
    "fig.add_trace(go.Scatter(\n",
    "    x=df_monthly[\"month\"],\n",
    "    y=df_monthly[\"cumulative_return\"],\n",
    "    mode=\"lines\",\n",
    "    fill=\"tozeroy\",\n",
    "    line=dict(color=\"green\"),\n",
    "    name=\"Cumulative Return\"\n",
    "))\n",
    "\n",
    "fig.update_layout(\n",
    "    title=\"Simulated Cumulative Return Over Time\",\n",
    "    xaxis_title=\"Month\",\n",
    "    yaxis_title=\"Cumulative Return ($)\",\n",
    "    plot_bgcolor=\"white\"\n",
    ")\n",
    "\n",
    "fig.show()\n",
    "\n",
    "# === Save chart as HTML ===\n",
    "output_path = Path(\"../outputs/plots/monthly_return_line_chart.html\")\n",
    "output_path.parent.mkdir(parents=True, exist_ok=True)  # Ensure directory exists\n",
    "fig.write_html(str(output_path), include_plotlyjs=\"cdn\")\n",
    "\n"
   ]
  },
  {
   "cell_type": "code",
   "execution_count": 21,
   "id": "81e604d6-0565-4575-9cd9-42969eedf0fb",
   "metadata": {},
   "outputs": [
    {
     "name": "stdout",
     "output_type": "stream",
     "text": [
      "Total months in simulation: 17\n"
     ]
    },
    {
     "name": "stderr",
     "output_type": "stream",
     "text": [
      "C:\\Users\\PcVIP\\AppData\\Local\\Temp\\ipykernel_18796\\1656569514.py:1: UserWarning:\n",
      "\n",
      "Converting to PeriodArray/Index representation will drop timezone information.\n",
      "\n"
     ]
    }
   ],
   "source": [
    "n_months = df_returns[\"timestamp\"].dt.to_period(\"M\").nunique()\n",
    "print(f\"Total months in simulation: {n_months}\")"
   ]
  },
  {
   "cell_type": "code",
   "execution_count": 31,
   "id": "fad52cc0-c984-4664-8c3d-4a4d8c238896",
   "metadata": {},
   "outputs": [
    {
     "name": "stderr",
     "output_type": "stream",
     "text": [
      "C:\\Users\\PcVIP\\AppData\\Local\\Temp\\ipykernel_18796\\3853223227.py:4: UserWarning:\n",
      "\n",
      "Converting to PeriodArray/Index representation will drop timezone information.\n",
      "\n"
     ]
    },
    {
     "data": {
      "application/vnd.plotly.v1+json": {
       "config": {
        "plotlyServerURL": "https://plot.ly"
       },
       "data": [
        {
         "alignmentgroup": "True",
         "hovertemplate": "month=%{x}<br>estimated_return=%{y}<extra></extra>",
         "legendgroup": "2024-01",
         "marker": {
          "color": "rgb(141,211,199)"
         },
         "name": "2024-01",
         "notched": false,
         "offsetgroup": "2024-01",
         "orientation": "v",
         "showlegend": true,
         "type": "box",
         "x": [
          "2024-01",
          "2024-01",
          "2024-01",
          "2024-01",
          "2024-01",
          "2024-01",
          "2024-01",
          "2024-01",
          "2024-01",
          "2024-01",
          "2024-01",
          "2024-01",
          "2024-01",
          "2024-01",
          "2024-01",
          "2024-01",
          "2024-01",
          "2024-01",
          "2024-01",
          "2024-01",
          "2024-01",
          "2024-01",
          "2024-01",
          "2024-01",
          "2024-01",
          "2024-01",
          "2024-01",
          "2024-01",
          "2024-01",
          "2024-01",
          "2024-01",
          "2024-01",
          "2024-01",
          "2024-01",
          "2024-01",
          "2024-01",
          "2024-01",
          "2024-01",
          "2024-01",
          "2024-01",
          "2024-01",
          "2024-01",
          "2024-01",
          "2024-01",
          "2024-01",
          "2024-01",
          "2024-01",
          "2024-01",
          "2024-01",
          "2024-01",
          "2024-01",
          "2024-01",
          "2024-01",
          "2024-01",
          "2024-01",
          "2024-01",
          "2024-01",
          "2024-01",
          "2024-01",
          "2024-01",
          "2024-01",
          "2024-01",
          "2024-01",
          "2024-01",
          "2024-01",
          "2024-01",
          "2024-01",
          "2024-01",
          "2024-01",
          "2024-01",
          "2024-01",
          "2024-01",
          "2024-01",
          "2024-01",
          "2024-01",
          "2024-01",
          "2024-01",
          "2024-01",
          "2024-01",
          "2024-01",
          "2024-01",
          "2024-01",
          "2024-01",
          "2024-01",
          "2024-01",
          "2024-01",
          "2024-01",
          "2024-01",
          "2024-01",
          "2024-01",
          "2024-01",
          "2024-01",
          "2024-01",
          "2024-01",
          "2024-01",
          "2024-01",
          "2024-01",
          "2024-01",
          "2024-01",
          "2024-01",
          "2024-01",
          "2024-01",
          "2024-01",
          "2024-01",
          "2024-01",
          "2024-01",
          "2024-01",
          "2024-01",
          "2024-01",
          "2024-01",
          "2024-01",
          "2024-01",
          "2024-01",
          "2024-01",
          "2024-01",
          "2024-01",
          "2024-01",
          "2024-01",
          "2024-01",
          "2024-01",
          "2024-01",
          "2024-01",
          "2024-01",
          "2024-01",
          "2024-01",
          "2024-01",
          "2024-01",
          "2024-01",
          "2024-01",
          "2024-01",
          "2024-01",
          "2024-01",
          "2024-01",
          "2024-01",
          "2024-01",
          "2024-01",
          "2024-01",
          "2024-01",
          "2024-01",
          "2024-01",
          "2024-01",
          "2024-01",
          "2024-01",
          "2024-01",
          "2024-01",
          "2024-01",
          "2024-01",
          "2024-01",
          "2024-01",
          "2024-01",
          "2024-01",
          "2024-01",
          "2024-01",
          "2024-01",
          "2024-01",
          "2024-01",
          "2024-01",
          "2024-01",
          "2024-01",
          "2024-01",
          "2024-01",
          "2024-01",
          "2024-01",
          "2024-01",
          "2024-01",
          "2024-01",
          "2024-01",
          "2024-01",
          "2024-01",
          "2024-01",
          "2024-01",
          "2024-01",
          "2024-01",
          "2024-01",
          "2024-01",
          "2024-01",
          "2024-01",
          "2024-01",
          "2024-01",
          "2024-01",
          "2024-01",
          "2024-01",
          "2024-01",
          "2024-01",
          "2024-01",
          "2024-01",
          "2024-01",
          "2024-01"
         ],
         "x0": " ",
         "xaxis": "x",
         "y": [
          60,
          80,
          80,
          -40,
          100,
          80,
          100,
          60,
          100,
          100,
          40,
          100,
          -40,
          100,
          -40,
          100,
          100,
          80,
          80,
          100,
          100,
          80,
          100,
          80,
          100,
          40,
          -40,
          -40,
          -40,
          80,
          100,
          100,
          -40,
          -40,
          60,
          100,
          100,
          100,
          -40,
          80,
          100,
          100,
          100,
          40,
          40,
          100,
          100,
          80,
          100,
          100,
          100,
          100,
          -40,
          100,
          80,
          60,
          40,
          100,
          100,
          80,
          100,
          100,
          100,
          60,
          100,
          100,
          40,
          100,
          80,
          100,
          100,
          -40,
          100,
          100,
          -40,
          100,
          100,
          80,
          80,
          -40,
          -40,
          100,
          100,
          100,
          100,
          80,
          100,
          60,
          100,
          80,
          100,
          -40,
          -40,
          100,
          -40,
          80,
          100,
          100,
          60,
          100,
          80,
          60,
          -40,
          80,
          80,
          40,
          100,
          100,
          100,
          -40,
          80,
          100,
          100,
          100,
          80,
          -40,
          -40,
          -40,
          100,
          100,
          80,
          100,
          -40,
          100,
          100,
          100,
          100,
          100,
          60,
          80,
          80,
          100,
          100,
          40,
          -40,
          60,
          100,
          100,
          -40,
          -40,
          -40,
          80,
          80,
          60,
          -40,
          100,
          100,
          -40,
          100,
          -40,
          100,
          100,
          100,
          80,
          100,
          100,
          100,
          60,
          60,
          60,
          80,
          100,
          40,
          100,
          100,
          100,
          100,
          -40,
          -40,
          80,
          100,
          60,
          -40,
          -40,
          40,
          100,
          100,
          100,
          100,
          80,
          100,
          -40,
          100,
          100,
          100,
          80,
          100,
          100
         ],
         "y0": " ",
         "yaxis": "y"
        },
        {
         "alignmentgroup": "True",
         "hovertemplate": "month=%{x}<br>estimated_return=%{y}<extra></extra>",
         "legendgroup": "2024-02",
         "marker": {
          "color": "rgb(255,255,179)"
         },
         "name": "2024-02",
         "notched": false,
         "offsetgroup": "2024-02",
         "orientation": "v",
         "showlegend": true,
         "type": "box",
         "x": [
          "2024-02",
          "2024-02",
          "2024-02",
          "2024-02",
          "2024-02",
          "2024-02",
          "2024-02",
          "2024-02",
          "2024-02",
          "2024-02",
          "2024-02",
          "2024-02",
          "2024-02",
          "2024-02",
          "2024-02",
          "2024-02",
          "2024-02",
          "2024-02",
          "2024-02",
          "2024-02",
          "2024-02",
          "2024-02",
          "2024-02",
          "2024-02",
          "2024-02",
          "2024-02",
          "2024-02",
          "2024-02",
          "2024-02",
          "2024-02",
          "2024-02",
          "2024-02",
          "2024-02",
          "2024-02",
          "2024-02",
          "2024-02",
          "2024-02",
          "2024-02",
          "2024-02",
          "2024-02",
          "2024-02",
          "2024-02",
          "2024-02",
          "2024-02",
          "2024-02",
          "2024-02",
          "2024-02",
          "2024-02",
          "2024-02",
          "2024-02",
          "2024-02",
          "2024-02",
          "2024-02",
          "2024-02",
          "2024-02",
          "2024-02",
          "2024-02",
          "2024-02",
          "2024-02",
          "2024-02",
          "2024-02",
          "2024-02",
          "2024-02",
          "2024-02",
          "2024-02",
          "2024-02",
          "2024-02",
          "2024-02",
          "2024-02",
          "2024-02",
          "2024-02",
          "2024-02",
          "2024-02",
          "2024-02",
          "2024-02",
          "2024-02",
          "2024-02",
          "2024-02",
          "2024-02",
          "2024-02",
          "2024-02",
          "2024-02",
          "2024-02",
          "2024-02",
          "2024-02",
          "2024-02",
          "2024-02",
          "2024-02",
          "2024-02",
          "2024-02",
          "2024-02",
          "2024-02",
          "2024-02",
          "2024-02",
          "2024-02",
          "2024-02",
          "2024-02",
          "2024-02",
          "2024-02",
          "2024-02",
          "2024-02",
          "2024-02",
          "2024-02",
          "2024-02",
          "2024-02",
          "2024-02",
          "2024-02",
          "2024-02",
          "2024-02",
          "2024-02",
          "2024-02",
          "2024-02",
          "2024-02",
          "2024-02",
          "2024-02",
          "2024-02",
          "2024-02",
          "2024-02",
          "2024-02",
          "2024-02",
          "2024-02",
          "2024-02",
          "2024-02",
          "2024-02",
          "2024-02",
          "2024-02",
          "2024-02",
          "2024-02",
          "2024-02",
          "2024-02",
          "2024-02",
          "2024-02",
          "2024-02",
          "2024-02",
          "2024-02",
          "2024-02",
          "2024-02",
          "2024-02",
          "2024-02"
         ],
         "x0": " ",
         "xaxis": "x",
         "y": [
          -40,
          40,
          80,
          80,
          100,
          -40,
          -40,
          100,
          60,
          100,
          100,
          100,
          60,
          80,
          100,
          100,
          60,
          60,
          60,
          80,
          100,
          80,
          -40,
          40,
          100,
          100,
          -40,
          100,
          100,
          100,
          -40,
          -40,
          100,
          80,
          100,
          100,
          60,
          60,
          80,
          100,
          100,
          100,
          100,
          100,
          100,
          100,
          100,
          100,
          100,
          -40,
          40,
          100,
          80,
          -40,
          100,
          100,
          100,
          -40,
          80,
          100,
          -40,
          100,
          100,
          -40,
          100,
          100,
          100,
          100,
          -40,
          100,
          100,
          40,
          100,
          100,
          80,
          100,
          80,
          60,
          100,
          100,
          -40,
          100,
          100,
          80,
          100,
          100,
          100,
          100,
          100,
          100,
          100,
          100,
          80,
          -40,
          60,
          40,
          60,
          80,
          100,
          40,
          -40,
          40,
          100,
          80,
          100,
          60,
          80,
          100,
          100,
          100,
          60,
          100,
          100,
          100,
          100,
          60,
          60,
          40,
          40,
          100,
          100,
          100,
          100,
          100,
          100,
          100,
          40,
          100,
          100,
          100,
          100,
          -40,
          40,
          -40,
          100,
          100,
          100,
          60,
          100
         ],
         "y0": " ",
         "yaxis": "y"
        },
        {
         "alignmentgroup": "True",
         "hovertemplate": "month=%{x}<br>estimated_return=%{y}<extra></extra>",
         "legendgroup": "2024-03",
         "marker": {
          "color": "rgb(190,186,218)"
         },
         "name": "2024-03",
         "notched": false,
         "offsetgroup": "2024-03",
         "orientation": "v",
         "showlegend": true,
         "type": "box",
         "x": [
          "2024-03",
          "2024-03",
          "2024-03",
          "2024-03",
          "2024-03",
          "2024-03",
          "2024-03",
          "2024-03",
          "2024-03",
          "2024-03",
          "2024-03",
          "2024-03",
          "2024-03",
          "2024-03",
          "2024-03",
          "2024-03",
          "2024-03",
          "2024-03",
          "2024-03",
          "2024-03",
          "2024-03",
          "2024-03",
          "2024-03",
          "2024-03",
          "2024-03",
          "2024-03",
          "2024-03",
          "2024-03",
          "2024-03",
          "2024-03",
          "2024-03",
          "2024-03",
          "2024-03",
          "2024-03",
          "2024-03",
          "2024-03",
          "2024-03",
          "2024-03",
          "2024-03",
          "2024-03",
          "2024-03",
          "2024-03",
          "2024-03",
          "2024-03",
          "2024-03",
          "2024-03",
          "2024-03",
          "2024-03",
          "2024-03",
          "2024-03",
          "2024-03",
          "2024-03",
          "2024-03",
          "2024-03",
          "2024-03",
          "2024-03",
          "2024-03",
          "2024-03",
          "2024-03",
          "2024-03",
          "2024-03",
          "2024-03",
          "2024-03",
          "2024-03",
          "2024-03",
          "2024-03",
          "2024-03",
          "2024-03",
          "2024-03",
          "2024-03",
          "2024-03",
          "2024-03",
          "2024-03",
          "2024-03",
          "2024-03",
          "2024-03",
          "2024-03",
          "2024-03",
          "2024-03",
          "2024-03",
          "2024-03",
          "2024-03",
          "2024-03",
          "2024-03",
          "2024-03",
          "2024-03",
          "2024-03",
          "2024-03",
          "2024-03",
          "2024-03",
          "2024-03",
          "2024-03",
          "2024-03",
          "2024-03",
          "2024-03",
          "2024-03",
          "2024-03",
          "2024-03",
          "2024-03",
          "2024-03",
          "2024-03",
          "2024-03",
          "2024-03",
          "2024-03",
          "2024-03",
          "2024-03",
          "2024-03",
          "2024-03",
          "2024-03",
          "2024-03",
          "2024-03",
          "2024-03",
          "2024-03",
          "2024-03",
          "2024-03",
          "2024-03",
          "2024-03",
          "2024-03",
          "2024-03",
          "2024-03",
          "2024-03",
          "2024-03",
          "2024-03",
          "2024-03",
          "2024-03",
          "2024-03",
          "2024-03",
          "2024-03",
          "2024-03",
          "2024-03",
          "2024-03",
          "2024-03",
          "2024-03",
          "2024-03",
          "2024-03",
          "2024-03",
          "2024-03",
          "2024-03",
          "2024-03",
          "2024-03",
          "2024-03",
          "2024-03",
          "2024-03",
          "2024-03",
          "2024-03",
          "2024-03",
          "2024-03",
          "2024-03",
          "2024-03",
          "2024-03",
          "2024-03",
          "2024-03",
          "2024-03"
         ],
         "x0": " ",
         "xaxis": "x",
         "y": [
          100,
          -40,
          80,
          60,
          60,
          100,
          40,
          100,
          100,
          100,
          100,
          100,
          100,
          100,
          -40,
          -40,
          100,
          100,
          100,
          100,
          -40,
          40,
          100,
          100,
          80,
          100,
          100,
          40,
          80,
          -40,
          100,
          100,
          60,
          80,
          100,
          100,
          100,
          80,
          80,
          80,
          100,
          100,
          100,
          100,
          60,
          100,
          100,
          -40,
          100,
          80,
          100,
          100,
          -40,
          100,
          100,
          100,
          80,
          100,
          40,
          -40,
          100,
          60,
          -40,
          60,
          100,
          -40,
          100,
          80,
          100,
          60,
          -40,
          100,
          100,
          100,
          100,
          60,
          80,
          100,
          -40,
          100,
          100,
          60,
          100,
          80,
          100,
          100,
          100,
          100,
          100,
          100,
          100,
          100,
          100,
          80,
          100,
          100,
          100,
          -40,
          100,
          80,
          100,
          100,
          100,
          100,
          60,
          60,
          40,
          100,
          -40,
          100,
          40,
          100,
          100,
          100,
          80,
          80,
          100,
          100,
          100,
          -40,
          100,
          100,
          -40,
          100,
          100,
          100,
          100,
          100,
          100,
          60,
          100,
          100,
          100,
          100,
          -40,
          -40,
          100,
          80,
          100,
          -40,
          40,
          100,
          100,
          100,
          100,
          100,
          100,
          100,
          80,
          80,
          80,
          -40,
          100
         ],
         "y0": " ",
         "yaxis": "y"
        },
        {
         "alignmentgroup": "True",
         "hovertemplate": "month=%{x}<br>estimated_return=%{y}<extra></extra>",
         "legendgroup": "2024-04",
         "marker": {
          "color": "rgb(251,128,114)"
         },
         "name": "2024-04",
         "notched": false,
         "offsetgroup": "2024-04",
         "orientation": "v",
         "showlegend": true,
         "type": "box",
         "x": [
          "2024-04",
          "2024-04",
          "2024-04",
          "2024-04",
          "2024-04",
          "2024-04",
          "2024-04",
          "2024-04",
          "2024-04",
          "2024-04",
          "2024-04",
          "2024-04",
          "2024-04",
          "2024-04",
          "2024-04",
          "2024-04",
          "2024-04",
          "2024-04",
          "2024-04",
          "2024-04",
          "2024-04",
          "2024-04",
          "2024-04",
          "2024-04",
          "2024-04",
          "2024-04",
          "2024-04",
          "2024-04",
          "2024-04",
          "2024-04",
          "2024-04",
          "2024-04",
          "2024-04",
          "2024-04",
          "2024-04",
          "2024-04",
          "2024-04",
          "2024-04",
          "2024-04",
          "2024-04",
          "2024-04",
          "2024-04",
          "2024-04",
          "2024-04",
          "2024-04",
          "2024-04",
          "2024-04",
          "2024-04",
          "2024-04",
          "2024-04",
          "2024-04",
          "2024-04",
          "2024-04",
          "2024-04",
          "2024-04",
          "2024-04",
          "2024-04",
          "2024-04",
          "2024-04",
          "2024-04",
          "2024-04",
          "2024-04",
          "2024-04",
          "2024-04",
          "2024-04",
          "2024-04",
          "2024-04",
          "2024-04",
          "2024-04",
          "2024-04",
          "2024-04",
          "2024-04",
          "2024-04",
          "2024-04",
          "2024-04",
          "2024-04",
          "2024-04",
          "2024-04",
          "2024-04",
          "2024-04",
          "2024-04",
          "2024-04",
          "2024-04",
          "2024-04",
          "2024-04",
          "2024-04",
          "2024-04",
          "2024-04",
          "2024-04",
          "2024-04",
          "2024-04",
          "2024-04",
          "2024-04",
          "2024-04",
          "2024-04",
          "2024-04",
          "2024-04",
          "2024-04",
          "2024-04",
          "2024-04",
          "2024-04",
          "2024-04",
          "2024-04",
          "2024-04",
          "2024-04",
          "2024-04",
          "2024-04",
          "2024-04",
          "2024-04",
          "2024-04",
          "2024-04",
          "2024-04",
          "2024-04",
          "2024-04",
          "2024-04",
          "2024-04",
          "2024-04",
          "2024-04",
          "2024-04",
          "2024-04",
          "2024-04",
          "2024-04",
          "2024-04",
          "2024-04",
          "2024-04",
          "2024-04",
          "2024-04",
          "2024-04",
          "2024-04",
          "2024-04",
          "2024-04",
          "2024-04",
          "2024-04",
          "2024-04",
          "2024-04",
          "2024-04",
          "2024-04"
         ],
         "x0": " ",
         "xaxis": "x",
         "y": [
          100,
          100,
          100,
          100,
          100,
          100,
          100,
          100,
          100,
          100,
          80,
          80,
          100,
          80,
          80,
          100,
          60,
          100,
          100,
          -40,
          80,
          100,
          100,
          100,
          100,
          80,
          100,
          80,
          100,
          100,
          80,
          40,
          100,
          80,
          60,
          -40,
          -40,
          100,
          100,
          -40,
          60,
          100,
          100,
          80,
          100,
          60,
          100,
          100,
          80,
          100,
          80,
          60,
          40,
          60,
          80,
          100,
          100,
          100,
          80,
          -40,
          60,
          100,
          100,
          100,
          100,
          80,
          60,
          -40,
          100,
          100,
          -40,
          100,
          100,
          40,
          100,
          100,
          100,
          100,
          100,
          100,
          80,
          80,
          80,
          100,
          100,
          100,
          100,
          100,
          100,
          80,
          100,
          100,
          60,
          80,
          100,
          60,
          100,
          100,
          -40,
          100,
          60,
          -40,
          100,
          80,
          100,
          80,
          40,
          -40,
          100,
          -40,
          100,
          100,
          100,
          100,
          -40,
          100,
          80,
          80,
          100,
          100,
          100,
          100,
          100,
          80,
          60,
          100,
          100,
          100,
          100,
          100,
          100,
          100,
          100,
          80,
          100,
          100,
          100
         ],
         "y0": " ",
         "yaxis": "y"
        },
        {
         "alignmentgroup": "True",
         "hovertemplate": "month=%{x}<br>estimated_return=%{y}<extra></extra>",
         "legendgroup": "2024-05",
         "marker": {
          "color": "rgb(128,177,211)"
         },
         "name": "2024-05",
         "notched": false,
         "offsetgroup": "2024-05",
         "orientation": "v",
         "showlegend": true,
         "type": "box",
         "x": [
          "2024-05",
          "2024-05",
          "2024-05",
          "2024-05",
          "2024-05",
          "2024-05",
          "2024-05",
          "2024-05",
          "2024-05",
          "2024-05",
          "2024-05",
          "2024-05",
          "2024-05",
          "2024-05",
          "2024-05",
          "2024-05",
          "2024-05",
          "2024-05",
          "2024-05",
          "2024-05",
          "2024-05",
          "2024-05",
          "2024-05",
          "2024-05",
          "2024-05",
          "2024-05",
          "2024-05",
          "2024-05",
          "2024-05",
          "2024-05",
          "2024-05",
          "2024-05",
          "2024-05",
          "2024-05",
          "2024-05",
          "2024-05",
          "2024-05",
          "2024-05",
          "2024-05",
          "2024-05",
          "2024-05",
          "2024-05",
          "2024-05",
          "2024-05",
          "2024-05",
          "2024-05",
          "2024-05",
          "2024-05",
          "2024-05",
          "2024-05",
          "2024-05",
          "2024-05",
          "2024-05",
          "2024-05",
          "2024-05",
          "2024-05",
          "2024-05",
          "2024-05",
          "2024-05",
          "2024-05",
          "2024-05",
          "2024-05",
          "2024-05",
          "2024-05",
          "2024-05",
          "2024-05",
          "2024-05",
          "2024-05",
          "2024-05",
          "2024-05",
          "2024-05",
          "2024-05",
          "2024-05",
          "2024-05",
          "2024-05",
          "2024-05",
          "2024-05",
          "2024-05",
          "2024-05",
          "2024-05",
          "2024-05",
          "2024-05",
          "2024-05",
          "2024-05",
          "2024-05",
          "2024-05",
          "2024-05",
          "2024-05",
          "2024-05",
          "2024-05",
          "2024-05",
          "2024-05",
          "2024-05",
          "2024-05",
          "2024-05",
          "2024-05",
          "2024-05",
          "2024-05",
          "2024-05",
          "2024-05",
          "2024-05",
          "2024-05",
          "2024-05",
          "2024-05",
          "2024-05",
          "2024-05",
          "2024-05",
          "2024-05",
          "2024-05",
          "2024-05",
          "2024-05",
          "2024-05",
          "2024-05",
          "2024-05",
          "2024-05",
          "2024-05",
          "2024-05",
          "2024-05",
          "2024-05",
          "2024-05",
          "2024-05",
          "2024-05",
          "2024-05",
          "2024-05",
          "2024-05",
          "2024-05",
          "2024-05",
          "2024-05",
          "2024-05",
          "2024-05",
          "2024-05",
          "2024-05",
          "2024-05",
          "2024-05",
          "2024-05"
         ],
         "x0": " ",
         "xaxis": "x",
         "y": [
          100,
          100,
          80,
          60,
          100,
          60,
          100,
          100,
          100,
          100,
          100,
          100,
          100,
          100,
          80,
          100,
          80,
          80,
          60,
          -40,
          100,
          60,
          100,
          100,
          -40,
          100,
          80,
          100,
          80,
          100,
          100,
          40,
          100,
          100,
          100,
          100,
          100,
          100,
          80,
          60,
          100,
          100,
          80,
          -40,
          80,
          -40,
          100,
          100,
          100,
          100,
          100,
          40,
          100,
          100,
          100,
          80,
          100,
          40,
          100,
          80,
          100,
          80,
          80,
          40,
          -40,
          100,
          100,
          40,
          100,
          100,
          100,
          100,
          40,
          100,
          -40,
          100,
          60,
          100,
          100,
          100,
          100,
          100,
          100,
          100,
          100,
          40,
          100,
          -40,
          60,
          100,
          100,
          100,
          100,
          40,
          100,
          100,
          100,
          100,
          -40,
          80,
          -40,
          80,
          100,
          -40,
          100,
          100,
          100,
          100,
          100,
          100,
          100,
          60,
          60,
          100,
          100,
          100,
          80,
          100,
          100,
          100,
          100,
          100,
          100,
          -40,
          100,
          100,
          60,
          -40,
          80,
          100,
          60,
          -40,
          40,
          -40,
          100
         ],
         "y0": " ",
         "yaxis": "y"
        },
        {
         "alignmentgroup": "True",
         "hovertemplate": "month=%{x}<br>estimated_return=%{y}<extra></extra>",
         "legendgroup": "2024-06",
         "marker": {
          "color": "rgb(253,180,98)"
         },
         "name": "2024-06",
         "notched": false,
         "offsetgroup": "2024-06",
         "orientation": "v",
         "showlegend": true,
         "type": "box",
         "x": [
          "2024-06",
          "2024-06",
          "2024-06",
          "2024-06",
          "2024-06",
          "2024-06",
          "2024-06",
          "2024-06",
          "2024-06",
          "2024-06",
          "2024-06",
          "2024-06",
          "2024-06",
          "2024-06",
          "2024-06",
          "2024-06",
          "2024-06",
          "2024-06",
          "2024-06",
          "2024-06",
          "2024-06",
          "2024-06",
          "2024-06",
          "2024-06",
          "2024-06",
          "2024-06",
          "2024-06",
          "2024-06",
          "2024-06",
          "2024-06",
          "2024-06",
          "2024-06",
          "2024-06",
          "2024-06",
          "2024-06",
          "2024-06",
          "2024-06",
          "2024-06",
          "2024-06",
          "2024-06",
          "2024-06",
          "2024-06",
          "2024-06",
          "2024-06",
          "2024-06",
          "2024-06",
          "2024-06",
          "2024-06",
          "2024-06",
          "2024-06",
          "2024-06",
          "2024-06",
          "2024-06",
          "2024-06",
          "2024-06",
          "2024-06",
          "2024-06",
          "2024-06",
          "2024-06",
          "2024-06",
          "2024-06",
          "2024-06",
          "2024-06",
          "2024-06",
          "2024-06",
          "2024-06",
          "2024-06",
          "2024-06",
          "2024-06",
          "2024-06",
          "2024-06",
          "2024-06",
          "2024-06",
          "2024-06",
          "2024-06",
          "2024-06",
          "2024-06",
          "2024-06",
          "2024-06",
          "2024-06",
          "2024-06",
          "2024-06",
          "2024-06",
          "2024-06",
          "2024-06",
          "2024-06",
          "2024-06",
          "2024-06",
          "2024-06",
          "2024-06",
          "2024-06",
          "2024-06",
          "2024-06",
          "2024-06",
          "2024-06",
          "2024-06",
          "2024-06",
          "2024-06",
          "2024-06",
          "2024-06",
          "2024-06",
          "2024-06",
          "2024-06",
          "2024-06",
          "2024-06",
          "2024-06",
          "2024-06",
          "2024-06",
          "2024-06",
          "2024-06",
          "2024-06",
          "2024-06",
          "2024-06",
          "2024-06",
          "2024-06",
          "2024-06",
          "2024-06"
         ],
         "x0": " ",
         "xaxis": "x",
         "y": [
          40,
          100,
          40,
          100,
          80,
          100,
          100,
          100,
          100,
          60,
          100,
          -40,
          60,
          -40,
          100,
          40,
          40,
          100,
          40,
          80,
          100,
          100,
          100,
          40,
          100,
          100,
          40,
          100,
          60,
          100,
          100,
          80,
          60,
          100,
          -40,
          100,
          100,
          80,
          100,
          100,
          80,
          100,
          60,
          100,
          100,
          100,
          100,
          80,
          80,
          100,
          100,
          100,
          80,
          100,
          80,
          -40,
          100,
          -40,
          100,
          100,
          80,
          100,
          80,
          100,
          100,
          60,
          100,
          100,
          80,
          100,
          100,
          100,
          100,
          -40,
          100,
          100,
          100,
          -40,
          100,
          80,
          60,
          100,
          80,
          80,
          100,
          100,
          100,
          40,
          100,
          100,
          100,
          40,
          100,
          80,
          100,
          40,
          100,
          100,
          100,
          100,
          40,
          100,
          100,
          40,
          -40,
          40,
          -40,
          100,
          80,
          100,
          100,
          60,
          100,
          100,
          100,
          100,
          100
         ],
         "y0": " ",
         "yaxis": "y"
        },
        {
         "alignmentgroup": "True",
         "hovertemplate": "month=%{x}<br>estimated_return=%{y}<extra></extra>",
         "legendgroup": "2024-07",
         "marker": {
          "color": "rgb(179,222,105)"
         },
         "name": "2024-07",
         "notched": false,
         "offsetgroup": "2024-07",
         "orientation": "v",
         "showlegend": true,
         "type": "box",
         "x": [
          "2024-07",
          "2024-07",
          "2024-07",
          "2024-07",
          "2024-07",
          "2024-07",
          "2024-07",
          "2024-07",
          "2024-07",
          "2024-07",
          "2024-07",
          "2024-07",
          "2024-07",
          "2024-07",
          "2024-07",
          "2024-07",
          "2024-07",
          "2024-07",
          "2024-07",
          "2024-07",
          "2024-07",
          "2024-07",
          "2024-07",
          "2024-07",
          "2024-07",
          "2024-07",
          "2024-07",
          "2024-07",
          "2024-07",
          "2024-07",
          "2024-07",
          "2024-07",
          "2024-07",
          "2024-07",
          "2024-07",
          "2024-07",
          "2024-07",
          "2024-07",
          "2024-07",
          "2024-07",
          "2024-07",
          "2024-07",
          "2024-07",
          "2024-07",
          "2024-07",
          "2024-07",
          "2024-07",
          "2024-07",
          "2024-07",
          "2024-07",
          "2024-07",
          "2024-07",
          "2024-07",
          "2024-07",
          "2024-07",
          "2024-07",
          "2024-07",
          "2024-07",
          "2024-07",
          "2024-07",
          "2024-07",
          "2024-07",
          "2024-07",
          "2024-07",
          "2024-07",
          "2024-07",
          "2024-07",
          "2024-07",
          "2024-07",
          "2024-07",
          "2024-07",
          "2024-07",
          "2024-07",
          "2024-07",
          "2024-07",
          "2024-07",
          "2024-07",
          "2024-07",
          "2024-07",
          "2024-07",
          "2024-07",
          "2024-07",
          "2024-07",
          "2024-07",
          "2024-07",
          "2024-07",
          "2024-07",
          "2024-07",
          "2024-07",
          "2024-07",
          "2024-07",
          "2024-07",
          "2024-07",
          "2024-07",
          "2024-07",
          "2024-07",
          "2024-07",
          "2024-07",
          "2024-07",
          "2024-07",
          "2024-07",
          "2024-07",
          "2024-07",
          "2024-07",
          "2024-07",
          "2024-07",
          "2024-07",
          "2024-07",
          "2024-07",
          "2024-07",
          "2024-07",
          "2024-07",
          "2024-07",
          "2024-07",
          "2024-07",
          "2024-07",
          "2024-07",
          "2024-07",
          "2024-07",
          "2024-07",
          "2024-07"
         ],
         "x0": " ",
         "xaxis": "x",
         "y": [
          -40,
          100,
          80,
          60,
          80,
          100,
          100,
          100,
          100,
          60,
          100,
          100,
          60,
          80,
          80,
          -40,
          80,
          100,
          80,
          100,
          100,
          100,
          100,
          100,
          100,
          100,
          100,
          100,
          100,
          100,
          100,
          -40,
          -40,
          80,
          100,
          100,
          100,
          100,
          100,
          -40,
          60,
          100,
          100,
          100,
          60,
          80,
          100,
          100,
          100,
          100,
          60,
          -40,
          100,
          -40,
          100,
          80,
          100,
          100,
          100,
          100,
          100,
          100,
          100,
          40,
          80,
          100,
          100,
          100,
          -40,
          100,
          100,
          40,
          80,
          60,
          40,
          80,
          40,
          -40,
          60,
          40,
          100,
          100,
          60,
          60,
          80,
          -40,
          100,
          100,
          60,
          100,
          100,
          100,
          -40,
          100,
          80,
          100,
          100,
          100,
          100,
          100,
          100,
          100,
          80,
          100,
          80,
          80,
          100,
          80,
          80,
          100,
          100,
          80,
          100,
          100,
          100,
          80,
          100,
          100,
          40,
          100,
          80
         ],
         "y0": " ",
         "yaxis": "y"
        },
        {
         "alignmentgroup": "True",
         "hovertemplate": "month=%{x}<br>estimated_return=%{y}<extra></extra>",
         "legendgroup": "2024-08",
         "marker": {
          "color": "rgb(252,205,229)"
         },
         "name": "2024-08",
         "notched": false,
         "offsetgroup": "2024-08",
         "orientation": "v",
         "showlegend": true,
         "type": "box",
         "x": [
          "2024-08",
          "2024-08",
          "2024-08",
          "2024-08",
          "2024-08",
          "2024-08",
          "2024-08",
          "2024-08",
          "2024-08",
          "2024-08",
          "2024-08",
          "2024-08",
          "2024-08",
          "2024-08",
          "2024-08",
          "2024-08",
          "2024-08",
          "2024-08",
          "2024-08",
          "2024-08",
          "2024-08",
          "2024-08",
          "2024-08",
          "2024-08",
          "2024-08",
          "2024-08",
          "2024-08",
          "2024-08",
          "2024-08",
          "2024-08",
          "2024-08",
          "2024-08",
          "2024-08",
          "2024-08",
          "2024-08",
          "2024-08",
          "2024-08",
          "2024-08",
          "2024-08",
          "2024-08",
          "2024-08",
          "2024-08",
          "2024-08",
          "2024-08",
          "2024-08",
          "2024-08",
          "2024-08",
          "2024-08",
          "2024-08",
          "2024-08",
          "2024-08",
          "2024-08",
          "2024-08",
          "2024-08",
          "2024-08",
          "2024-08",
          "2024-08",
          "2024-08",
          "2024-08",
          "2024-08",
          "2024-08",
          "2024-08",
          "2024-08",
          "2024-08",
          "2024-08",
          "2024-08",
          "2024-08",
          "2024-08",
          "2024-08",
          "2024-08",
          "2024-08",
          "2024-08",
          "2024-08",
          "2024-08",
          "2024-08",
          "2024-08",
          "2024-08",
          "2024-08",
          "2024-08",
          "2024-08",
          "2024-08",
          "2024-08",
          "2024-08",
          "2024-08",
          "2024-08",
          "2024-08",
          "2024-08",
          "2024-08",
          "2024-08",
          "2024-08",
          "2024-08",
          "2024-08",
          "2024-08",
          "2024-08",
          "2024-08",
          "2024-08",
          "2024-08",
          "2024-08",
          "2024-08",
          "2024-08",
          "2024-08",
          "2024-08",
          "2024-08",
          "2024-08",
          "2024-08",
          "2024-08",
          "2024-08",
          "2024-08",
          "2024-08",
          "2024-08",
          "2024-08",
          "2024-08",
          "2024-08",
          "2024-08",
          "2024-08",
          "2024-08",
          "2024-08",
          "2024-08",
          "2024-08",
          "2024-08",
          "2024-08",
          "2024-08",
          "2024-08",
          "2024-08",
          "2024-08",
          "2024-08",
          "2024-08",
          "2024-08",
          "2024-08",
          "2024-08",
          "2024-08",
          "2024-08",
          "2024-08",
          "2024-08",
          "2024-08",
          "2024-08",
          "2024-08",
          "2024-08",
          "2024-08",
          "2024-08",
          "2024-08",
          "2024-08",
          "2024-08",
          "2024-08"
         ],
         "x0": " ",
         "xaxis": "x",
         "y": [
          60,
          100,
          100,
          100,
          100,
          -40,
          100,
          -40,
          80,
          100,
          100,
          100,
          100,
          80,
          100,
          100,
          100,
          80,
          100,
          80,
          -40,
          100,
          100,
          100,
          80,
          100,
          100,
          100,
          80,
          100,
          100,
          40,
          60,
          100,
          100,
          100,
          80,
          80,
          80,
          100,
          100,
          -40,
          40,
          100,
          40,
          100,
          100,
          80,
          80,
          100,
          100,
          100,
          100,
          40,
          100,
          80,
          -40,
          100,
          80,
          100,
          80,
          100,
          100,
          100,
          80,
          80,
          100,
          100,
          100,
          100,
          80,
          -40,
          100,
          60,
          60,
          100,
          100,
          100,
          80,
          100,
          80,
          60,
          100,
          100,
          -40,
          -40,
          -40,
          80,
          100,
          100,
          80,
          100,
          100,
          100,
          100,
          100,
          80,
          100,
          100,
          -40,
          100,
          100,
          100,
          100,
          100,
          100,
          60,
          60,
          60,
          -40,
          60,
          -40,
          100,
          80,
          100,
          100,
          100,
          100,
          100,
          100,
          100,
          100,
          100,
          100,
          -40,
          100,
          100,
          100,
          100,
          100,
          40,
          100,
          80,
          100,
          80,
          100,
          100,
          100,
          -40,
          100,
          100,
          -40,
          60,
          100
         ],
         "y0": " ",
         "yaxis": "y"
        },
        {
         "alignmentgroup": "True",
         "hovertemplate": "month=%{x}<br>estimated_return=%{y}<extra></extra>",
         "legendgroup": "2024-09",
         "marker": {
          "color": "rgb(217,217,217)"
         },
         "name": "2024-09",
         "notched": false,
         "offsetgroup": "2024-09",
         "orientation": "v",
         "showlegend": true,
         "type": "box",
         "x": [
          "2024-09",
          "2024-09",
          "2024-09",
          "2024-09",
          "2024-09",
          "2024-09",
          "2024-09",
          "2024-09",
          "2024-09",
          "2024-09",
          "2024-09",
          "2024-09",
          "2024-09",
          "2024-09",
          "2024-09",
          "2024-09",
          "2024-09",
          "2024-09",
          "2024-09",
          "2024-09",
          "2024-09",
          "2024-09",
          "2024-09",
          "2024-09",
          "2024-09",
          "2024-09",
          "2024-09",
          "2024-09",
          "2024-09",
          "2024-09",
          "2024-09",
          "2024-09",
          "2024-09",
          "2024-09",
          "2024-09",
          "2024-09",
          "2024-09",
          "2024-09",
          "2024-09",
          "2024-09",
          "2024-09",
          "2024-09",
          "2024-09",
          "2024-09",
          "2024-09",
          "2024-09",
          "2024-09",
          "2024-09",
          "2024-09",
          "2024-09",
          "2024-09",
          "2024-09",
          "2024-09",
          "2024-09",
          "2024-09",
          "2024-09",
          "2024-09",
          "2024-09",
          "2024-09",
          "2024-09",
          "2024-09",
          "2024-09",
          "2024-09",
          "2024-09",
          "2024-09",
          "2024-09",
          "2024-09",
          "2024-09",
          "2024-09",
          "2024-09",
          "2024-09",
          "2024-09",
          "2024-09",
          "2024-09",
          "2024-09",
          "2024-09",
          "2024-09",
          "2024-09",
          "2024-09",
          "2024-09",
          "2024-09",
          "2024-09",
          "2024-09",
          "2024-09",
          "2024-09",
          "2024-09",
          "2024-09",
          "2024-09",
          "2024-09",
          "2024-09",
          "2024-09",
          "2024-09",
          "2024-09",
          "2024-09",
          "2024-09",
          "2024-09",
          "2024-09",
          "2024-09",
          "2024-09",
          "2024-09",
          "2024-09",
          "2024-09",
          "2024-09",
          "2024-09",
          "2024-09",
          "2024-09",
          "2024-09",
          "2024-09",
          "2024-09",
          "2024-09",
          "2024-09",
          "2024-09",
          "2024-09",
          "2024-09",
          "2024-09",
          "2024-09",
          "2024-09",
          "2024-09",
          "2024-09",
          "2024-09",
          "2024-09",
          "2024-09",
          "2024-09",
          "2024-09",
          "2024-09",
          "2024-09",
          "2024-09",
          "2024-09",
          "2024-09",
          "2024-09"
         ],
         "x0": " ",
         "xaxis": "x",
         "y": [
          -40,
          -40,
          100,
          100,
          -40,
          100,
          100,
          60,
          80,
          100,
          100,
          80,
          100,
          100,
          100,
          80,
          80,
          40,
          100,
          100,
          100,
          100,
          80,
          100,
          100,
          100,
          100,
          100,
          80,
          100,
          80,
          80,
          100,
          100,
          100,
          80,
          100,
          100,
          40,
          100,
          100,
          80,
          40,
          100,
          100,
          100,
          100,
          100,
          80,
          100,
          100,
          60,
          100,
          100,
          100,
          100,
          100,
          100,
          60,
          100,
          80,
          80,
          80,
          100,
          -40,
          100,
          100,
          100,
          40,
          -40,
          -40,
          40,
          -40,
          40,
          60,
          100,
          100,
          100,
          100,
          100,
          40,
          100,
          80,
          80,
          80,
          80,
          80,
          100,
          80,
          80,
          -40,
          60,
          80,
          -40,
          80,
          100,
          80,
          100,
          100,
          100,
          100,
          100,
          100,
          100,
          100,
          100,
          100,
          -40,
          100,
          100,
          -40,
          -40,
          100,
          100,
          100,
          80,
          60,
          80,
          60,
          100,
          -40,
          100,
          -40,
          -40,
          40,
          100,
          80,
          80,
          100,
          40
         ],
         "y0": " ",
         "yaxis": "y"
        },
        {
         "alignmentgroup": "True",
         "hovertemplate": "month=%{x}<br>estimated_return=%{y}<extra></extra>",
         "legendgroup": "2024-10",
         "marker": {
          "color": "rgb(188,128,189)"
         },
         "name": "2024-10",
         "notched": false,
         "offsetgroup": "2024-10",
         "orientation": "v",
         "showlegend": true,
         "type": "box",
         "x": [
          "2024-10",
          "2024-10",
          "2024-10",
          "2024-10",
          "2024-10",
          "2024-10",
          "2024-10",
          "2024-10",
          "2024-10",
          "2024-10",
          "2024-10",
          "2024-10",
          "2024-10",
          "2024-10",
          "2024-10",
          "2024-10",
          "2024-10",
          "2024-10",
          "2024-10",
          "2024-10",
          "2024-10",
          "2024-10",
          "2024-10",
          "2024-10",
          "2024-10",
          "2024-10",
          "2024-10",
          "2024-10",
          "2024-10",
          "2024-10",
          "2024-10",
          "2024-10",
          "2024-10",
          "2024-10",
          "2024-10",
          "2024-10",
          "2024-10",
          "2024-10",
          "2024-10",
          "2024-10",
          "2024-10",
          "2024-10",
          "2024-10",
          "2024-10",
          "2024-10",
          "2024-10",
          "2024-10",
          "2024-10",
          "2024-10",
          "2024-10",
          "2024-10",
          "2024-10",
          "2024-10",
          "2024-10",
          "2024-10",
          "2024-10",
          "2024-10",
          "2024-10",
          "2024-10",
          "2024-10",
          "2024-10",
          "2024-10",
          "2024-10",
          "2024-10",
          "2024-10",
          "2024-10",
          "2024-10",
          "2024-10",
          "2024-10",
          "2024-10",
          "2024-10",
          "2024-10",
          "2024-10",
          "2024-10",
          "2024-10",
          "2024-10",
          "2024-10",
          "2024-10",
          "2024-10",
          "2024-10",
          "2024-10",
          "2024-10",
          "2024-10",
          "2024-10",
          "2024-10",
          "2024-10",
          "2024-10",
          "2024-10",
          "2024-10",
          "2024-10",
          "2024-10",
          "2024-10",
          "2024-10",
          "2024-10",
          "2024-10",
          "2024-10",
          "2024-10",
          "2024-10",
          "2024-10",
          "2024-10",
          "2024-10",
          "2024-10",
          "2024-10",
          "2024-10",
          "2024-10",
          "2024-10",
          "2024-10",
          "2024-10",
          "2024-10",
          "2024-10",
          "2024-10",
          "2024-10",
          "2024-10",
          "2024-10",
          "2024-10",
          "2024-10",
          "2024-10",
          "2024-10",
          "2024-10",
          "2024-10",
          "2024-10",
          "2024-10",
          "2024-10",
          "2024-10",
          "2024-10"
         ],
         "x0": " ",
         "xaxis": "x",
         "y": [
          100,
          100,
          100,
          100,
          80,
          -40,
          100,
          100,
          -40,
          -40,
          80,
          -40,
          100,
          80,
          80,
          100,
          80,
          100,
          80,
          100,
          100,
          80,
          100,
          100,
          100,
          40,
          -40,
          100,
          100,
          100,
          100,
          100,
          -40,
          100,
          100,
          60,
          80,
          100,
          80,
          100,
          80,
          100,
          100,
          80,
          80,
          -40,
          80,
          -40,
          -40,
          60,
          80,
          100,
          80,
          80,
          100,
          100,
          80,
          100,
          100,
          100,
          40,
          100,
          100,
          80,
          100,
          100,
          60,
          100,
          100,
          -40,
          100,
          80,
          -40,
          80,
          -40,
          -40,
          100,
          80,
          100,
          100,
          100,
          100,
          100,
          100,
          100,
          100,
          100,
          80,
          100,
          100,
          40,
          60,
          100,
          40,
          100,
          100,
          100,
          100,
          80,
          60,
          80,
          100,
          -40,
          100,
          80,
          40,
          40,
          80,
          -40,
          80,
          60,
          60,
          100,
          80,
          100,
          100,
          -40,
          100,
          100,
          100,
          100,
          40,
          80,
          80,
          60
         ],
         "y0": " ",
         "yaxis": "y"
        },
        {
         "alignmentgroup": "True",
         "hovertemplate": "month=%{x}<br>estimated_return=%{y}<extra></extra>",
         "legendgroup": "2024-11",
         "marker": {
          "color": "rgb(204,235,197)"
         },
         "name": "2024-11",
         "notched": false,
         "offsetgroup": "2024-11",
         "orientation": "v",
         "showlegend": true,
         "type": "box",
         "x": [
          "2024-11",
          "2024-11",
          "2024-11",
          "2024-11",
          "2024-11",
          "2024-11",
          "2024-11",
          "2024-11",
          "2024-11",
          "2024-11",
          "2024-11",
          "2024-11",
          "2024-11",
          "2024-11",
          "2024-11",
          "2024-11",
          "2024-11",
          "2024-11",
          "2024-11",
          "2024-11",
          "2024-11",
          "2024-11",
          "2024-11",
          "2024-11",
          "2024-11",
          "2024-11",
          "2024-11",
          "2024-11",
          "2024-11",
          "2024-11",
          "2024-11",
          "2024-11",
          "2024-11",
          "2024-11",
          "2024-11",
          "2024-11",
          "2024-11",
          "2024-11",
          "2024-11",
          "2024-11",
          "2024-11",
          "2024-11",
          "2024-11",
          "2024-11",
          "2024-11",
          "2024-11",
          "2024-11",
          "2024-11",
          "2024-11",
          "2024-11",
          "2024-11",
          "2024-11",
          "2024-11",
          "2024-11",
          "2024-11",
          "2024-11",
          "2024-11",
          "2024-11",
          "2024-11",
          "2024-11",
          "2024-11",
          "2024-11",
          "2024-11",
          "2024-11",
          "2024-11",
          "2024-11",
          "2024-11",
          "2024-11",
          "2024-11",
          "2024-11",
          "2024-11",
          "2024-11",
          "2024-11",
          "2024-11",
          "2024-11",
          "2024-11",
          "2024-11",
          "2024-11",
          "2024-11",
          "2024-11",
          "2024-11",
          "2024-11",
          "2024-11",
          "2024-11",
          "2024-11",
          "2024-11",
          "2024-11",
          "2024-11",
          "2024-11",
          "2024-11",
          "2024-11",
          "2024-11",
          "2024-11",
          "2024-11",
          "2024-11",
          "2024-11",
          "2024-11",
          "2024-11",
          "2024-11",
          "2024-11",
          "2024-11",
          "2024-11",
          "2024-11",
          "2024-11",
          "2024-11",
          "2024-11",
          "2024-11",
          "2024-11",
          "2024-11",
          "2024-11",
          "2024-11",
          "2024-11",
          "2024-11",
          "2024-11",
          "2024-11",
          "2024-11",
          "2024-11",
          "2024-11",
          "2024-11",
          "2024-11"
         ],
         "x0": " ",
         "xaxis": "x",
         "y": [
          -40,
          100,
          100,
          80,
          100,
          80,
          100,
          80,
          60,
          100,
          -40,
          100,
          -40,
          100,
          60,
          100,
          -40,
          60,
          100,
          100,
          60,
          100,
          100,
          100,
          80,
          60,
          100,
          -40,
          80,
          80,
          80,
          -40,
          40,
          60,
          100,
          100,
          100,
          100,
          -40,
          60,
          40,
          60,
          60,
          80,
          60,
          -40,
          60,
          80,
          100,
          100,
          100,
          100,
          80,
          100,
          100,
          100,
          100,
          100,
          60,
          60,
          40,
          100,
          100,
          100,
          80,
          60,
          100,
          100,
          60,
          60,
          80,
          60,
          60,
          100,
          -40,
          60,
          100,
          60,
          80,
          -40,
          -40,
          60,
          60,
          80,
          80,
          -40,
          100,
          -40,
          60,
          -40,
          100,
          100,
          60,
          100,
          100,
          40,
          -40,
          100,
          100,
          100,
          100,
          100,
          60,
          40,
          80,
          100,
          40,
          100,
          100,
          80,
          100,
          40,
          60,
          100,
          100,
          100,
          100,
          100,
          100,
          100
         ],
         "y0": " ",
         "yaxis": "y"
        },
        {
         "alignmentgroup": "True",
         "hovertemplate": "month=%{x}<br>estimated_return=%{y}<extra></extra>",
         "legendgroup": "2024-12",
         "marker": {
          "color": "rgb(255,237,111)"
         },
         "name": "2024-12",
         "notched": false,
         "offsetgroup": "2024-12",
         "orientation": "v",
         "showlegend": true,
         "type": "box",
         "x": [
          "2024-12",
          "2024-12",
          "2024-12",
          "2024-12",
          "2024-12",
          "2024-12",
          "2024-12",
          "2024-12",
          "2024-12",
          "2024-12",
          "2024-12",
          "2024-12",
          "2024-12",
          "2024-12",
          "2024-12",
          "2024-12",
          "2024-12",
          "2024-12",
          "2024-12",
          "2024-12",
          "2024-12",
          "2024-12",
          "2024-12",
          "2024-12",
          "2024-12",
          "2024-12",
          "2024-12",
          "2024-12",
          "2024-12",
          "2024-12",
          "2024-12",
          "2024-12",
          "2024-12",
          "2024-12",
          "2024-12",
          "2024-12",
          "2024-12",
          "2024-12",
          "2024-12",
          "2024-12",
          "2024-12",
          "2024-12",
          "2024-12",
          "2024-12",
          "2024-12",
          "2024-12",
          "2024-12",
          "2024-12",
          "2024-12",
          "2024-12",
          "2024-12",
          "2024-12",
          "2024-12",
          "2024-12",
          "2024-12",
          "2024-12",
          "2024-12",
          "2024-12",
          "2024-12",
          "2024-12",
          "2024-12",
          "2024-12",
          "2024-12",
          "2024-12",
          "2024-12",
          "2024-12",
          "2024-12",
          "2024-12",
          "2024-12",
          "2024-12",
          "2024-12",
          "2024-12",
          "2024-12",
          "2024-12",
          "2024-12",
          "2024-12",
          "2024-12",
          "2024-12",
          "2024-12",
          "2024-12",
          "2024-12",
          "2024-12",
          "2024-12",
          "2024-12",
          "2024-12",
          "2024-12",
          "2024-12",
          "2024-12",
          "2024-12",
          "2024-12",
          "2024-12",
          "2024-12",
          "2024-12",
          "2024-12",
          "2024-12",
          "2024-12",
          "2024-12",
          "2024-12",
          "2024-12",
          "2024-12",
          "2024-12",
          "2024-12",
          "2024-12",
          "2024-12",
          "2024-12",
          "2024-12",
          "2024-12",
          "2024-12",
          "2024-12",
          "2024-12",
          "2024-12",
          "2024-12",
          "2024-12",
          "2024-12",
          "2024-12",
          "2024-12",
          "2024-12",
          "2024-12",
          "2024-12",
          "2024-12",
          "2024-12"
         ],
         "x0": " ",
         "xaxis": "x",
         "y": [
          80,
          100,
          -40,
          100,
          -40,
          100,
          100,
          80,
          100,
          80,
          100,
          80,
          60,
          80,
          -40,
          100,
          -40,
          40,
          100,
          -40,
          100,
          -40,
          60,
          80,
          -40,
          100,
          80,
          40,
          100,
          80,
          80,
          -40,
          -40,
          100,
          80,
          40,
          80,
          100,
          100,
          40,
          100,
          60,
          80,
          60,
          -40,
          80,
          80,
          -40,
          100,
          40,
          100,
          80,
          100,
          100,
          100,
          60,
          100,
          -40,
          100,
          100,
          -40,
          100,
          40,
          -40,
          100,
          100,
          -40,
          -40,
          80,
          40,
          100,
          100,
          100,
          100,
          100,
          60,
          100,
          80,
          100,
          60,
          60,
          40,
          100,
          100,
          40,
          100,
          100,
          80,
          100,
          100,
          80,
          60,
          80,
          100,
          100,
          100,
          60,
          100,
          60,
          100,
          100,
          100,
          60,
          100,
          100,
          100,
          80,
          40,
          80,
          60,
          100,
          100,
          100,
          100,
          100,
          100,
          100,
          100,
          40,
          60,
          100
         ],
         "y0": " ",
         "yaxis": "y"
        },
        {
         "alignmentgroup": "True",
         "hovertemplate": "month=%{x}<br>estimated_return=%{y}<extra></extra>",
         "legendgroup": "2025-01",
         "marker": {
          "color": "rgb(141,211,199)"
         },
         "name": "2025-01",
         "notched": false,
         "offsetgroup": "2025-01",
         "orientation": "v",
         "showlegend": true,
         "type": "box",
         "x": [
          "2025-01",
          "2025-01",
          "2025-01",
          "2025-01",
          "2025-01",
          "2025-01",
          "2025-01",
          "2025-01",
          "2025-01",
          "2025-01",
          "2025-01",
          "2025-01",
          "2025-01",
          "2025-01",
          "2025-01",
          "2025-01",
          "2025-01",
          "2025-01",
          "2025-01",
          "2025-01",
          "2025-01",
          "2025-01",
          "2025-01",
          "2025-01",
          "2025-01",
          "2025-01",
          "2025-01",
          "2025-01",
          "2025-01",
          "2025-01",
          "2025-01",
          "2025-01",
          "2025-01",
          "2025-01",
          "2025-01",
          "2025-01",
          "2025-01",
          "2025-01",
          "2025-01",
          "2025-01",
          "2025-01",
          "2025-01",
          "2025-01",
          "2025-01",
          "2025-01",
          "2025-01",
          "2025-01",
          "2025-01",
          "2025-01",
          "2025-01",
          "2025-01",
          "2025-01",
          "2025-01",
          "2025-01",
          "2025-01",
          "2025-01",
          "2025-01",
          "2025-01",
          "2025-01",
          "2025-01",
          "2025-01",
          "2025-01",
          "2025-01",
          "2025-01",
          "2025-01",
          "2025-01",
          "2025-01",
          "2025-01",
          "2025-01",
          "2025-01",
          "2025-01",
          "2025-01",
          "2025-01",
          "2025-01",
          "2025-01",
          "2025-01",
          "2025-01",
          "2025-01",
          "2025-01",
          "2025-01",
          "2025-01",
          "2025-01",
          "2025-01",
          "2025-01",
          "2025-01",
          "2025-01",
          "2025-01",
          "2025-01",
          "2025-01",
          "2025-01",
          "2025-01",
          "2025-01",
          "2025-01",
          "2025-01",
          "2025-01",
          "2025-01",
          "2025-01",
          "2025-01",
          "2025-01",
          "2025-01",
          "2025-01",
          "2025-01",
          "2025-01",
          "2025-01",
          "2025-01",
          "2025-01",
          "2025-01",
          "2025-01",
          "2025-01",
          "2025-01",
          "2025-01",
          "2025-01",
          "2025-01",
          "2025-01",
          "2025-01",
          "2025-01",
          "2025-01",
          "2025-01",
          "2025-01",
          "2025-01",
          "2025-01",
          "2025-01",
          "2025-01",
          "2025-01"
         ],
         "x0": " ",
         "xaxis": "x",
         "y": [
          100,
          100,
          -40,
          80,
          80,
          80,
          100,
          60,
          40,
          80,
          -40,
          40,
          80,
          100,
          80,
          60,
          100,
          100,
          60,
          100,
          100,
          -40,
          60,
          -40,
          100,
          80,
          80,
          80,
          60,
          100,
          80,
          80,
          80,
          -40,
          80,
          100,
          40,
          -40,
          100,
          100,
          100,
          100,
          100,
          100,
          -40,
          100,
          100,
          40,
          100,
          100,
          100,
          100,
          100,
          60,
          40,
          100,
          100,
          60,
          100,
          80,
          80,
          40,
          -40,
          60,
          -40,
          100,
          -40,
          -40,
          40,
          80,
          60,
          100,
          100,
          100,
          -40,
          100,
          100,
          100,
          -40,
          80,
          80,
          -40,
          60,
          100,
          40,
          100,
          40,
          100,
          -40,
          100,
          80,
          -40,
          100,
          100,
          100,
          100,
          100,
          80,
          100,
          60,
          100,
          100,
          80,
          -40,
          40,
          100,
          100,
          40,
          100,
          100,
          40,
          80,
          80,
          100,
          40,
          100,
          -40,
          80,
          100,
          100,
          80,
          -40,
          -40,
          100
         ],
         "y0": " ",
         "yaxis": "y"
        },
        {
         "alignmentgroup": "True",
         "hovertemplate": "month=%{x}<br>estimated_return=%{y}<extra></extra>",
         "legendgroup": "2025-02",
         "marker": {
          "color": "rgb(255,255,179)"
         },
         "name": "2025-02",
         "notched": false,
         "offsetgroup": "2025-02",
         "orientation": "v",
         "showlegend": true,
         "type": "box",
         "x": [
          "2025-02",
          "2025-02",
          "2025-02",
          "2025-02",
          "2025-02",
          "2025-02",
          "2025-02",
          "2025-02",
          "2025-02",
          "2025-02",
          "2025-02",
          "2025-02",
          "2025-02",
          "2025-02",
          "2025-02",
          "2025-02",
          "2025-02",
          "2025-02",
          "2025-02",
          "2025-02",
          "2025-02",
          "2025-02",
          "2025-02",
          "2025-02",
          "2025-02",
          "2025-02",
          "2025-02",
          "2025-02",
          "2025-02",
          "2025-02",
          "2025-02",
          "2025-02",
          "2025-02",
          "2025-02",
          "2025-02",
          "2025-02",
          "2025-02",
          "2025-02",
          "2025-02",
          "2025-02",
          "2025-02",
          "2025-02",
          "2025-02",
          "2025-02",
          "2025-02",
          "2025-02",
          "2025-02",
          "2025-02",
          "2025-02",
          "2025-02",
          "2025-02",
          "2025-02",
          "2025-02",
          "2025-02",
          "2025-02",
          "2025-02",
          "2025-02",
          "2025-02",
          "2025-02",
          "2025-02",
          "2025-02",
          "2025-02",
          "2025-02",
          "2025-02",
          "2025-02",
          "2025-02",
          "2025-02",
          "2025-02",
          "2025-02",
          "2025-02",
          "2025-02",
          "2025-02",
          "2025-02",
          "2025-02",
          "2025-02",
          "2025-02",
          "2025-02",
          "2025-02",
          "2025-02",
          "2025-02",
          "2025-02",
          "2025-02",
          "2025-02",
          "2025-02",
          "2025-02",
          "2025-02",
          "2025-02",
          "2025-02",
          "2025-02",
          "2025-02",
          "2025-02",
          "2025-02",
          "2025-02",
          "2025-02",
          "2025-02",
          "2025-02",
          "2025-02",
          "2025-02",
          "2025-02",
          "2025-02",
          "2025-02",
          "2025-02",
          "2025-02",
          "2025-02",
          "2025-02",
          "2025-02",
          "2025-02",
          "2025-02",
          "2025-02",
          "2025-02",
          "2025-02",
          "2025-02"
         ],
         "x0": " ",
         "xaxis": "x",
         "y": [
          -40,
          80,
          80,
          100,
          100,
          80,
          100,
          60,
          60,
          80,
          60,
          40,
          40,
          100,
          80,
          100,
          80,
          100,
          100,
          -40,
          60,
          100,
          80,
          60,
          100,
          40,
          80,
          60,
          100,
          100,
          80,
          100,
          40,
          80,
          80,
          100,
          60,
          100,
          60,
          100,
          60,
          60,
          40,
          100,
          100,
          100,
          60,
          60,
          60,
          100,
          100,
          80,
          100,
          -40,
          40,
          100,
          100,
          100,
          100,
          100,
          -40,
          -40,
          100,
          -40,
          80,
          100,
          100,
          -40,
          100,
          80,
          -40,
          40,
          100,
          100,
          80,
          100,
          -40,
          100,
          100,
          100,
          100,
          80,
          100,
          80,
          80,
          100,
          80,
          -40,
          -40,
          100,
          100,
          60,
          100,
          -40,
          -40,
          60,
          60,
          60,
          40,
          80,
          100,
          -40,
          100,
          -40,
          100,
          100,
          100,
          60,
          40,
          80,
          80,
          100
         ],
         "y0": " ",
         "yaxis": "y"
        },
        {
         "alignmentgroup": "True",
         "hovertemplate": "month=%{x}<br>estimated_return=%{y}<extra></extra>",
         "legendgroup": "2025-03",
         "marker": {
          "color": "rgb(190,186,218)"
         },
         "name": "2025-03",
         "notched": false,
         "offsetgroup": "2025-03",
         "orientation": "v",
         "showlegend": true,
         "type": "box",
         "x": [
          "2025-03",
          "2025-03",
          "2025-03",
          "2025-03",
          "2025-03",
          "2025-03",
          "2025-03",
          "2025-03",
          "2025-03",
          "2025-03",
          "2025-03",
          "2025-03",
          "2025-03",
          "2025-03",
          "2025-03",
          "2025-03",
          "2025-03",
          "2025-03",
          "2025-03",
          "2025-03",
          "2025-03",
          "2025-03",
          "2025-03",
          "2025-03",
          "2025-03",
          "2025-03",
          "2025-03",
          "2025-03",
          "2025-03",
          "2025-03",
          "2025-03",
          "2025-03",
          "2025-03",
          "2025-03",
          "2025-03",
          "2025-03",
          "2025-03",
          "2025-03",
          "2025-03",
          "2025-03",
          "2025-03",
          "2025-03",
          "2025-03",
          "2025-03",
          "2025-03",
          "2025-03",
          "2025-03",
          "2025-03",
          "2025-03",
          "2025-03",
          "2025-03",
          "2025-03",
          "2025-03",
          "2025-03",
          "2025-03",
          "2025-03",
          "2025-03",
          "2025-03",
          "2025-03",
          "2025-03",
          "2025-03",
          "2025-03",
          "2025-03",
          "2025-03",
          "2025-03",
          "2025-03",
          "2025-03",
          "2025-03",
          "2025-03",
          "2025-03",
          "2025-03",
          "2025-03",
          "2025-03",
          "2025-03",
          "2025-03",
          "2025-03",
          "2025-03",
          "2025-03",
          "2025-03",
          "2025-03",
          "2025-03",
          "2025-03",
          "2025-03",
          "2025-03",
          "2025-03",
          "2025-03",
          "2025-03",
          "2025-03",
          "2025-03",
          "2025-03",
          "2025-03",
          "2025-03",
          "2025-03",
          "2025-03",
          "2025-03",
          "2025-03",
          "2025-03",
          "2025-03",
          "2025-03",
          "2025-03",
          "2025-03",
          "2025-03",
          "2025-03",
          "2025-03",
          "2025-03",
          "2025-03",
          "2025-03",
          "2025-03",
          "2025-03",
          "2025-03",
          "2025-03",
          "2025-03",
          "2025-03",
          "2025-03",
          "2025-03",
          "2025-03",
          "2025-03",
          "2025-03",
          "2025-03",
          "2025-03",
          "2025-03",
          "2025-03",
          "2025-03",
          "2025-03"
         ],
         "x0": " ",
         "xaxis": "x",
         "y": [
          80,
          100,
          100,
          40,
          60,
          100,
          100,
          -40,
          -40,
          100,
          100,
          100,
          100,
          40,
          60,
          60,
          60,
          100,
          80,
          100,
          60,
          80,
          100,
          100,
          -40,
          100,
          100,
          100,
          40,
          80,
          100,
          100,
          80,
          100,
          100,
          100,
          80,
          -40,
          80,
          -40,
          -40,
          100,
          -40,
          100,
          80,
          -40,
          100,
          40,
          60,
          -40,
          100,
          100,
          100,
          40,
          100,
          40,
          100,
          60,
          60,
          100,
          100,
          60,
          100,
          60,
          100,
          -40,
          60,
          -40,
          100,
          80,
          -40,
          -40,
          80,
          100,
          80,
          80,
          100,
          100,
          100,
          80,
          80,
          60,
          80,
          100,
          100,
          100,
          100,
          -40,
          60,
          60,
          60,
          80,
          100,
          40,
          100,
          80,
          80,
          40,
          80,
          80,
          80,
          80,
          80,
          100,
          -40,
          -40,
          100,
          80,
          80,
          -40,
          60,
          100,
          100,
          -40,
          100,
          100,
          40,
          60,
          100,
          60,
          -40,
          40,
          100,
          60
         ],
         "y0": " ",
         "yaxis": "y"
        },
        {
         "alignmentgroup": "True",
         "hovertemplate": "month=%{x}<br>estimated_return=%{y}<extra></extra>",
         "legendgroup": "2025-04",
         "marker": {
          "color": "rgb(251,128,114)"
         },
         "name": "2025-04",
         "notched": false,
         "offsetgroup": "2025-04",
         "orientation": "v",
         "showlegend": true,
         "type": "box",
         "x": [
          "2025-04",
          "2025-04",
          "2025-04",
          "2025-04",
          "2025-04",
          "2025-04",
          "2025-04",
          "2025-04",
          "2025-04",
          "2025-04",
          "2025-04",
          "2025-04",
          "2025-04",
          "2025-04",
          "2025-04",
          "2025-04",
          "2025-04",
          "2025-04",
          "2025-04",
          "2025-04",
          "2025-04",
          "2025-04",
          "2025-04",
          "2025-04",
          "2025-04",
          "2025-04",
          "2025-04",
          "2025-04",
          "2025-04",
          "2025-04",
          "2025-04",
          "2025-04",
          "2025-04",
          "2025-04",
          "2025-04",
          "2025-04",
          "2025-04",
          "2025-04",
          "2025-04",
          "2025-04",
          "2025-04",
          "2025-04",
          "2025-04",
          "2025-04",
          "2025-04",
          "2025-04",
          "2025-04",
          "2025-04",
          "2025-04",
          "2025-04",
          "2025-04",
          "2025-04",
          "2025-04",
          "2025-04",
          "2025-04",
          "2025-04",
          "2025-04",
          "2025-04",
          "2025-04",
          "2025-04",
          "2025-04",
          "2025-04",
          "2025-04",
          "2025-04",
          "2025-04",
          "2025-04",
          "2025-04",
          "2025-04",
          "2025-04",
          "2025-04",
          "2025-04",
          "2025-04",
          "2025-04",
          "2025-04",
          "2025-04",
          "2025-04",
          "2025-04",
          "2025-04",
          "2025-04",
          "2025-04",
          "2025-04",
          "2025-04",
          "2025-04",
          "2025-04",
          "2025-04",
          "2025-04",
          "2025-04",
          "2025-04",
          "2025-04",
          "2025-04",
          "2025-04",
          "2025-04",
          "2025-04",
          "2025-04",
          "2025-04",
          "2025-04",
          "2025-04",
          "2025-04",
          "2025-04",
          "2025-04",
          "2025-04",
          "2025-04",
          "2025-04",
          "2025-04",
          "2025-04",
          "2025-04",
          "2025-04",
          "2025-04",
          "2025-04",
          "2025-04",
          "2025-04",
          "2025-04",
          "2025-04",
          "2025-04",
          "2025-04",
          "2025-04",
          "2025-04",
          "2025-04",
          "2025-04",
          "2025-04"
         ],
         "x0": " ",
         "xaxis": "x",
         "y": [
          80,
          -40,
          100,
          100,
          80,
          -40,
          -40,
          100,
          100,
          100,
          80,
          80,
          100,
          -40,
          100,
          60,
          80,
          80,
          60,
          40,
          100,
          60,
          -40,
          100,
          -40,
          100,
          80,
          100,
          -40,
          60,
          100,
          60,
          100,
          100,
          80,
          -40,
          -40,
          100,
          60,
          60,
          80,
          100,
          100,
          100,
          80,
          100,
          100,
          80,
          80,
          40,
          100,
          -40,
          100,
          100,
          80,
          100,
          100,
          80,
          80,
          -40,
          80,
          100,
          100,
          40,
          100,
          100,
          100,
          60,
          80,
          -40,
          80,
          60,
          60,
          60,
          60,
          -40,
          100,
          100,
          80,
          80,
          80,
          -40,
          60,
          60,
          -40,
          100,
          80,
          100,
          100,
          100,
          60,
          -40,
          100,
          100,
          -40,
          100,
          100,
          100,
          60,
          100,
          60,
          100,
          40,
          100,
          -40,
          -40,
          100,
          60,
          100,
          -40,
          -40,
          100,
          100,
          100,
          40,
          80,
          100,
          -40,
          -40,
          100
         ],
         "y0": " ",
         "yaxis": "y"
        },
        {
         "alignmentgroup": "True",
         "hovertemplate": "month=%{x}<br>estimated_return=%{y}<extra></extra>",
         "legendgroup": "2025-05",
         "marker": {
          "color": "rgb(128,177,211)"
         },
         "name": "2025-05",
         "notched": false,
         "offsetgroup": "2025-05",
         "orientation": "v",
         "showlegend": true,
         "type": "box",
         "x": [
          "2025-05",
          "2025-05",
          "2025-05",
          "2025-05",
          "2025-05",
          "2025-05",
          "2025-05",
          "2025-05",
          "2025-05",
          "2025-05",
          "2025-05",
          "2025-05",
          "2025-05",
          "2025-05",
          "2025-05",
          "2025-05",
          "2025-05",
          "2025-05",
          "2025-05",
          "2025-05",
          "2025-05",
          "2025-05",
          "2025-05",
          "2025-05",
          "2025-05",
          "2025-05",
          "2025-05",
          "2025-05",
          "2025-05",
          "2025-05",
          "2025-05",
          "2025-05",
          "2025-05",
          "2025-05",
          "2025-05",
          "2025-05",
          "2025-05",
          "2025-05",
          "2025-05",
          "2025-05",
          "2025-05",
          "2025-05",
          "2025-05",
          "2025-05",
          "2025-05",
          "2025-05",
          "2025-05",
          "2025-05",
          "2025-05",
          "2025-05",
          "2025-05",
          "2025-05",
          "2025-05",
          "2025-05",
          "2025-05",
          "2025-05",
          "2025-05",
          "2025-05",
          "2025-05",
          "2025-05",
          "2025-05",
          "2025-05",
          "2025-05",
          "2025-05",
          "2025-05",
          "2025-05",
          "2025-05",
          "2025-05",
          "2025-05",
          "2025-05",
          "2025-05",
          "2025-05",
          "2025-05",
          "2025-05",
          "2025-05",
          "2025-05",
          "2025-05",
          "2025-05",
          "2025-05",
          "2025-05",
          "2025-05",
          "2025-05",
          "2025-05",
          "2025-05",
          "2025-05",
          "2025-05",
          "2025-05",
          "2025-05",
          "2025-05"
         ],
         "x0": " ",
         "xaxis": "x",
         "y": [
          80,
          100,
          60,
          80,
          100,
          100,
          -40,
          60,
          -40,
          80,
          100,
          80,
          -40,
          40,
          -40,
          60,
          -40,
          80,
          40,
          100,
          60,
          100,
          80,
          100,
          60,
          100,
          100,
          40,
          80,
          80,
          60,
          -40,
          100,
          80,
          100,
          80,
          100,
          80,
          100,
          100,
          80,
          100,
          100,
          100,
          100,
          60,
          100,
          100,
          60,
          100,
          100,
          80,
          -40,
          -40,
          -40,
          -40,
          40,
          40,
          100,
          -40,
          100,
          -40,
          60,
          100,
          100,
          -40,
          100,
          100,
          100,
          80,
          80,
          100,
          100,
          100,
          100,
          40,
          100,
          80,
          100,
          -40,
          100,
          100,
          80,
          80,
          80,
          100,
          80,
          100,
          -40
         ],
         "y0": " ",
         "yaxis": "y"
        }
       ],
       "layout": {
        "boxmode": "overlay",
        "legend": {
         "title": {
          "text": "month"
         },
         "tracegroupgap": 0
        },
        "plot_bgcolor": "white",
        "showlegend": false,
        "template": {
         "data": {
          "bar": [
           {
            "error_x": {
             "color": "#2a3f5f"
            },
            "error_y": {
             "color": "#2a3f5f"
            },
            "marker": {
             "line": {
              "color": "#E5ECF6",
              "width": 0.5
             },
             "pattern": {
              "fillmode": "overlay",
              "size": 10,
              "solidity": 0.2
             }
            },
            "type": "bar"
           }
          ],
          "barpolar": [
           {
            "marker": {
             "line": {
              "color": "#E5ECF6",
              "width": 0.5
             },
             "pattern": {
              "fillmode": "overlay",
              "size": 10,
              "solidity": 0.2
             }
            },
            "type": "barpolar"
           }
          ],
          "carpet": [
           {
            "aaxis": {
             "endlinecolor": "#2a3f5f",
             "gridcolor": "white",
             "linecolor": "white",
             "minorgridcolor": "white",
             "startlinecolor": "#2a3f5f"
            },
            "baxis": {
             "endlinecolor": "#2a3f5f",
             "gridcolor": "white",
             "linecolor": "white",
             "minorgridcolor": "white",
             "startlinecolor": "#2a3f5f"
            },
            "type": "carpet"
           }
          ],
          "choropleth": [
           {
            "colorbar": {
             "outlinewidth": 0,
             "ticks": ""
            },
            "type": "choropleth"
           }
          ],
          "contour": [
           {
            "colorbar": {
             "outlinewidth": 0,
             "ticks": ""
            },
            "colorscale": [
             [
              0,
              "#0d0887"
             ],
             [
              0.1111111111111111,
              "#46039f"
             ],
             [
              0.2222222222222222,
              "#7201a8"
             ],
             [
              0.3333333333333333,
              "#9c179e"
             ],
             [
              0.4444444444444444,
              "#bd3786"
             ],
             [
              0.5555555555555556,
              "#d8576b"
             ],
             [
              0.6666666666666666,
              "#ed7953"
             ],
             [
              0.7777777777777778,
              "#fb9f3a"
             ],
             [
              0.8888888888888888,
              "#fdca26"
             ],
             [
              1,
              "#f0f921"
             ]
            ],
            "type": "contour"
           }
          ],
          "contourcarpet": [
           {
            "colorbar": {
             "outlinewidth": 0,
             "ticks": ""
            },
            "type": "contourcarpet"
           }
          ],
          "heatmap": [
           {
            "colorbar": {
             "outlinewidth": 0,
             "ticks": ""
            },
            "colorscale": [
             [
              0,
              "#0d0887"
             ],
             [
              0.1111111111111111,
              "#46039f"
             ],
             [
              0.2222222222222222,
              "#7201a8"
             ],
             [
              0.3333333333333333,
              "#9c179e"
             ],
             [
              0.4444444444444444,
              "#bd3786"
             ],
             [
              0.5555555555555556,
              "#d8576b"
             ],
             [
              0.6666666666666666,
              "#ed7953"
             ],
             [
              0.7777777777777778,
              "#fb9f3a"
             ],
             [
              0.8888888888888888,
              "#fdca26"
             ],
             [
              1,
              "#f0f921"
             ]
            ],
            "type": "heatmap"
           }
          ],
          "heatmapgl": [
           {
            "colorbar": {
             "outlinewidth": 0,
             "ticks": ""
            },
            "colorscale": [
             [
              0,
              "#0d0887"
             ],
             [
              0.1111111111111111,
              "#46039f"
             ],
             [
              0.2222222222222222,
              "#7201a8"
             ],
             [
              0.3333333333333333,
              "#9c179e"
             ],
             [
              0.4444444444444444,
              "#bd3786"
             ],
             [
              0.5555555555555556,
              "#d8576b"
             ],
             [
              0.6666666666666666,
              "#ed7953"
             ],
             [
              0.7777777777777778,
              "#fb9f3a"
             ],
             [
              0.8888888888888888,
              "#fdca26"
             ],
             [
              1,
              "#f0f921"
             ]
            ],
            "type": "heatmapgl"
           }
          ],
          "histogram": [
           {
            "marker": {
             "pattern": {
              "fillmode": "overlay",
              "size": 10,
              "solidity": 0.2
             }
            },
            "type": "histogram"
           }
          ],
          "histogram2d": [
           {
            "colorbar": {
             "outlinewidth": 0,
             "ticks": ""
            },
            "colorscale": [
             [
              0,
              "#0d0887"
             ],
             [
              0.1111111111111111,
              "#46039f"
             ],
             [
              0.2222222222222222,
              "#7201a8"
             ],
             [
              0.3333333333333333,
              "#9c179e"
             ],
             [
              0.4444444444444444,
              "#bd3786"
             ],
             [
              0.5555555555555556,
              "#d8576b"
             ],
             [
              0.6666666666666666,
              "#ed7953"
             ],
             [
              0.7777777777777778,
              "#fb9f3a"
             ],
             [
              0.8888888888888888,
              "#fdca26"
             ],
             [
              1,
              "#f0f921"
             ]
            ],
            "type": "histogram2d"
           }
          ],
          "histogram2dcontour": [
           {
            "colorbar": {
             "outlinewidth": 0,
             "ticks": ""
            },
            "colorscale": [
             [
              0,
              "#0d0887"
             ],
             [
              0.1111111111111111,
              "#46039f"
             ],
             [
              0.2222222222222222,
              "#7201a8"
             ],
             [
              0.3333333333333333,
              "#9c179e"
             ],
             [
              0.4444444444444444,
              "#bd3786"
             ],
             [
              0.5555555555555556,
              "#d8576b"
             ],
             [
              0.6666666666666666,
              "#ed7953"
             ],
             [
              0.7777777777777778,
              "#fb9f3a"
             ],
             [
              0.8888888888888888,
              "#fdca26"
             ],
             [
              1,
              "#f0f921"
             ]
            ],
            "type": "histogram2dcontour"
           }
          ],
          "mesh3d": [
           {
            "colorbar": {
             "outlinewidth": 0,
             "ticks": ""
            },
            "type": "mesh3d"
           }
          ],
          "parcoords": [
           {
            "line": {
             "colorbar": {
              "outlinewidth": 0,
              "ticks": ""
             }
            },
            "type": "parcoords"
           }
          ],
          "pie": [
           {
            "automargin": true,
            "type": "pie"
           }
          ],
          "scatter": [
           {
            "fillpattern": {
             "fillmode": "overlay",
             "size": 10,
             "solidity": 0.2
            },
            "type": "scatter"
           }
          ],
          "scatter3d": [
           {
            "line": {
             "colorbar": {
              "outlinewidth": 0,
              "ticks": ""
             }
            },
            "marker": {
             "colorbar": {
              "outlinewidth": 0,
              "ticks": ""
             }
            },
            "type": "scatter3d"
           }
          ],
          "scattercarpet": [
           {
            "marker": {
             "colorbar": {
              "outlinewidth": 0,
              "ticks": ""
             }
            },
            "type": "scattercarpet"
           }
          ],
          "scattergeo": [
           {
            "marker": {
             "colorbar": {
              "outlinewidth": 0,
              "ticks": ""
             }
            },
            "type": "scattergeo"
           }
          ],
          "scattergl": [
           {
            "marker": {
             "colorbar": {
              "outlinewidth": 0,
              "ticks": ""
             }
            },
            "type": "scattergl"
           }
          ],
          "scattermapbox": [
           {
            "marker": {
             "colorbar": {
              "outlinewidth": 0,
              "ticks": ""
             }
            },
            "type": "scattermapbox"
           }
          ],
          "scatterpolar": [
           {
            "marker": {
             "colorbar": {
              "outlinewidth": 0,
              "ticks": ""
             }
            },
            "type": "scatterpolar"
           }
          ],
          "scatterpolargl": [
           {
            "marker": {
             "colorbar": {
              "outlinewidth": 0,
              "ticks": ""
             }
            },
            "type": "scatterpolargl"
           }
          ],
          "scatterternary": [
           {
            "marker": {
             "colorbar": {
              "outlinewidth": 0,
              "ticks": ""
             }
            },
            "type": "scatterternary"
           }
          ],
          "surface": [
           {
            "colorbar": {
             "outlinewidth": 0,
             "ticks": ""
            },
            "colorscale": [
             [
              0,
              "#0d0887"
             ],
             [
              0.1111111111111111,
              "#46039f"
             ],
             [
              0.2222222222222222,
              "#7201a8"
             ],
             [
              0.3333333333333333,
              "#9c179e"
             ],
             [
              0.4444444444444444,
              "#bd3786"
             ],
             [
              0.5555555555555556,
              "#d8576b"
             ],
             [
              0.6666666666666666,
              "#ed7953"
             ],
             [
              0.7777777777777778,
              "#fb9f3a"
             ],
             [
              0.8888888888888888,
              "#fdca26"
             ],
             [
              1,
              "#f0f921"
             ]
            ],
            "type": "surface"
           }
          ],
          "table": [
           {
            "cells": {
             "fill": {
              "color": "#EBF0F8"
             },
             "line": {
              "color": "white"
             }
            },
            "header": {
             "fill": {
              "color": "#C8D4E3"
             },
             "line": {
              "color": "white"
             }
            },
            "type": "table"
           }
          ]
         },
         "layout": {
          "annotationdefaults": {
           "arrowcolor": "#2a3f5f",
           "arrowhead": 0,
           "arrowwidth": 1
          },
          "autotypenumbers": "strict",
          "coloraxis": {
           "colorbar": {
            "outlinewidth": 0,
            "ticks": ""
           }
          },
          "colorscale": {
           "diverging": [
            [
             0,
             "#8e0152"
            ],
            [
             0.1,
             "#c51b7d"
            ],
            [
             0.2,
             "#de77ae"
            ],
            [
             0.3,
             "#f1b6da"
            ],
            [
             0.4,
             "#fde0ef"
            ],
            [
             0.5,
             "#f7f7f7"
            ],
            [
             0.6,
             "#e6f5d0"
            ],
            [
             0.7,
             "#b8e186"
            ],
            [
             0.8,
             "#7fbc41"
            ],
            [
             0.9,
             "#4d9221"
            ],
            [
             1,
             "#276419"
            ]
           ],
           "sequential": [
            [
             0,
             "#0d0887"
            ],
            [
             0.1111111111111111,
             "#46039f"
            ],
            [
             0.2222222222222222,
             "#7201a8"
            ],
            [
             0.3333333333333333,
             "#9c179e"
            ],
            [
             0.4444444444444444,
             "#bd3786"
            ],
            [
             0.5555555555555556,
             "#d8576b"
            ],
            [
             0.6666666666666666,
             "#ed7953"
            ],
            [
             0.7777777777777778,
             "#fb9f3a"
            ],
            [
             0.8888888888888888,
             "#fdca26"
            ],
            [
             1,
             "#f0f921"
            ]
           ],
           "sequentialminus": [
            [
             0,
             "#0d0887"
            ],
            [
             0.1111111111111111,
             "#46039f"
            ],
            [
             0.2222222222222222,
             "#7201a8"
            ],
            [
             0.3333333333333333,
             "#9c179e"
            ],
            [
             0.4444444444444444,
             "#bd3786"
            ],
            [
             0.5555555555555556,
             "#d8576b"
            ],
            [
             0.6666666666666666,
             "#ed7953"
            ],
            [
             0.7777777777777778,
             "#fb9f3a"
            ],
            [
             0.8888888888888888,
             "#fdca26"
            ],
            [
             1,
             "#f0f921"
            ]
           ]
          },
          "colorway": [
           "#636efa",
           "#EF553B",
           "#00cc96",
           "#ab63fa",
           "#FFA15A",
           "#19d3f3",
           "#FF6692",
           "#B6E880",
           "#FF97FF",
           "#FECB52"
          ],
          "font": {
           "color": "#2a3f5f"
          },
          "geo": {
           "bgcolor": "white",
           "lakecolor": "white",
           "landcolor": "#E5ECF6",
           "showlakes": true,
           "showland": true,
           "subunitcolor": "white"
          },
          "hoverlabel": {
           "align": "left"
          },
          "hovermode": "closest",
          "mapbox": {
           "style": "light"
          },
          "paper_bgcolor": "white",
          "plot_bgcolor": "#E5ECF6",
          "polar": {
           "angularaxis": {
            "gridcolor": "white",
            "linecolor": "white",
            "ticks": ""
           },
           "bgcolor": "#E5ECF6",
           "radialaxis": {
            "gridcolor": "white",
            "linecolor": "white",
            "ticks": ""
           }
          },
          "scene": {
           "xaxis": {
            "backgroundcolor": "#E5ECF6",
            "gridcolor": "white",
            "gridwidth": 2,
            "linecolor": "white",
            "showbackground": true,
            "ticks": "",
            "zerolinecolor": "white"
           },
           "yaxis": {
            "backgroundcolor": "#E5ECF6",
            "gridcolor": "white",
            "gridwidth": 2,
            "linecolor": "white",
            "showbackground": true,
            "ticks": "",
            "zerolinecolor": "white"
           },
           "zaxis": {
            "backgroundcolor": "#E5ECF6",
            "gridcolor": "white",
            "gridwidth": 2,
            "linecolor": "white",
            "showbackground": true,
            "ticks": "",
            "zerolinecolor": "white"
           }
          },
          "shapedefaults": {
           "line": {
            "color": "#2a3f5f"
           }
          },
          "ternary": {
           "aaxis": {
            "gridcolor": "white",
            "linecolor": "white",
            "ticks": ""
           },
           "baxis": {
            "gridcolor": "white",
            "linecolor": "white",
            "ticks": ""
           },
           "bgcolor": "#E5ECF6",
           "caxis": {
            "gridcolor": "white",
            "linecolor": "white",
            "ticks": ""
           }
          },
          "title": {
           "x": 0.05
          },
          "xaxis": {
           "automargin": true,
           "gridcolor": "white",
           "linecolor": "white",
           "ticks": "",
           "title": {
            "standoff": 15
           },
           "zerolinecolor": "white",
           "zerolinewidth": 2
          },
          "yaxis": {
           "automargin": true,
           "gridcolor": "white",
           "linecolor": "white",
           "ticks": "",
           "title": {
            "standoff": 15
           },
           "zerolinecolor": "white",
           "zerolinewidth": 2
          }
         }
        },
        "title": {
         "text": "Estimated Returns Distribution per Month (Boxplot)"
        },
        "xaxis": {
         "anchor": "y",
         "categoryarray": [
          "2024-01",
          "2024-02",
          "2024-03",
          "2024-04",
          "2024-05",
          "2024-06",
          "2024-07",
          "2024-08",
          "2024-09",
          "2024-10",
          "2024-11",
          "2024-12",
          "2025-01",
          "2025-02",
          "2025-03",
          "2025-04",
          "2025-05"
         ],
         "categoryorder": "array",
         "domain": [
          0,
          1
         ],
         "title": {
          "text": "Month"
         }
        },
        "yaxis": {
         "anchor": "x",
         "domain": [
          0,
          1
         ],
         "title": {
          "text": "Estimated Return ($)"
         }
        }
       }
      },
      "image/png": "[encoded data removed]",
      "text/html": [
       "<div>                            <div id=\"0db14a69-c713-4551-9a57-5b7927e40f7a\" class=\"plotly-graph-div\" style=\"height:525px; width:100%;\"></div>            <script type=\"text/javascript\">                require([\"plotly\"], function(Plotly) {                    window.PLOTLYENV=window.PLOTLYENV || {};                                    if (document.getElementById(\"0db14a69-c713-4551-9a57-5b7927e40f7a\")) {                    Plotly.newPlot(                        \"0db14a69-c713-4551-9a57-5b7927e40f7a\",                        [{\"alignmentgroup\":\"True\",\"hovertemplate\":\"month=%{x}\\u003cbr\\u003eestimated_return=%{y}\\u003cextra\\u003e\\u003c\\u002fextra\\u003e\",\"legendgroup\":\"2024-01\",\"marker\":{\"color\":\"rgb(141,211,199)\"},\"name\":\"2024-01\",\"notched\":false,\"offsetgroup\":\"2024-01\",\"orientation\":\"v\",\"showlegend\":true,\"x\":[\"2024-01\",\"2024-01\",\"2024-01\",\"2024-01\",\"2024-01\",\"2024-01\",\"2024-01\",\"2024-01\",\"2024-01\",\"2024-01\",\"2024-01\",\"2024-01\",\"2024-01\",\"2024-01\",\"2024-01\",\"2024-01\",\"2024-01\",\"2024-01\",\"2024-01\",\"2024-01\",\"2024-01\",\"2024-01\",\"2024-01\",\"2024-01\",\"2024-01\",\"2024-01\",\"2024-01\",\"2024-01\",\"2024-01\",\"2024-01\",\"2024-01\",\"2024-01\",\"2024-01\",\"2024-01\",\"2024-01\",\"2024-01\",\"2024-01\",\"2024-01\",\"2024-01\",\"2024-01\",\"2024-01\",\"2024-01\",\"2024-01\",\"2024-01\",\"2024-01\",\"2024-01\",\"2024-01\",\"2024-01\",\"2024-01\",\"2024-01\",\"2024-01\",\"2024-01\",\"2024-01\",\"2024-01\",\"2024-01\",\"2024-01\",\"2024-01\",\"2024-01\",\"2024-01\",\"2024-01\",\"2024-01\",\"2024-01\",\"2024-01\",\"2024-01\",\"2024-01\",\"2024-01\",\"2024-01\",\"2024-01\",\"2024-01\",\"2024-01\",\"2024-01\",\"2024-01\",\"2024-01\",\"2024-01\",\"2024-01\",\"2024-01\",\"2024-01\",\"2024-01\",\"2024-01\",\"2024-01\",\"2024-01\",\"2024-01\",\"2024-01\",\"2024-01\",\"2024-01\",\"2024-01\",\"2024-01\",\"2024-01\",\"2024-01\",\"2024-01\",\"2024-01\",\"2024-01\",\"2024-01\",\"2024-01\",\"2024-01\",\"2024-01\",\"2024-01\",\"2024-01\",\"2024-01\",\"2024-01\",\"2024-01\",\"2024-01\",\"2024-01\",\"2024-01\",\"2024-01\",\"2024-01\",\"2024-01\",\"2024-01\",\"2024-01\",\"2024-01\",\"2024-01\",\"2024-01\",\"2024-01\",\"2024-01\",\"2024-01\",\"2024-01\",\"2024-01\",\"2024-01\",\"2024-01\",\"2024-01\",\"2024-01\",\"2024-01\",\"2024-01\",\"2024-01\",\"2024-01\",\"2024-01\",\"2024-01\",\"2024-01\",\"2024-01\",\"2024-01\",\"2024-01\",\"2024-01\",\"2024-01\",\"2024-01\",\"2024-01\",\"2024-01\",\"2024-01\",\"2024-01\",\"2024-01\",\"2024-01\",\"2024-01\",\"2024-01\",\"2024-01\",\"2024-01\",\"2024-01\",\"2024-01\",\"2024-01\",\"2024-01\",\"2024-01\",\"2024-01\",\"2024-01\",\"2024-01\",\"2024-01\",\"2024-01\",\"2024-01\",\"2024-01\",\"2024-01\",\"2024-01\",\"2024-01\",\"2024-01\",\"2024-01\",\"2024-01\",\"2024-01\",\"2024-01\",\"2024-01\",\"2024-01\",\"2024-01\",\"2024-01\",\"2024-01\",\"2024-01\",\"2024-01\",\"2024-01\",\"2024-01\",\"2024-01\",\"2024-01\",\"2024-01\",\"2024-01\",\"2024-01\",\"2024-01\",\"2024-01\",\"2024-01\",\"2024-01\",\"2024-01\",\"2024-01\",\"2024-01\",\"2024-01\",\"2024-01\",\"2024-01\"],\"x0\":\" \",\"xaxis\":\"x\",\"y\":[60,80,80,-40,100,80,100,60,100,100,40,100,-40,100,-40,100,100,80,80,100,100,80,100,80,100,40,-40,-40,-40,80,100,100,-40,-40,60,100,100,100,-40,80,100,100,100,40,40,100,100,80,100,100,100,100,-40,100,80,60,40,100,100,80,100,100,100,60,100,100,40,100,80,100,100,-40,100,100,-40,100,100,80,80,-40,-40,100,100,100,100,80,100,60,100,80,100,-40,-40,100,-40,80,100,100,60,100,80,60,-40,80,80,40,100,100,100,-40,80,100,100,100,80,-40,-40,-40,100,100,80,100,-40,100,100,100,100,100,60,80,80,100,100,40,-40,60,100,100,-40,-40,-40,80,80,60,-40,100,100,-40,100,-40,100,100,100,80,100,100,100,60,60,60,80,100,40,100,100,100,100,-40,-40,80,100,60,-40,-40,40,100,100,100,100,80,100,-40,100,100,100,80,100,100],\"y0\":\" \",\"yaxis\":\"y\",\"type\":\"box\"},{\"alignmentgroup\":\"True\",\"hovertemplate\":\"month=%{x}\\u003cbr\\u003eestimated_return=%{y}\\u003cextra\\u003e\\u003c\\u002fextra\\u003e\",\"legendgroup\":\"2024-02\",\"marker\":{\"color\":\"rgb(255,255,179)\"},\"name\":\"2024-02\",\"notched\":false,\"offsetgroup\":\"2024-02\",\"orientation\":\"v\",\"showlegend\":true,\"x\":[\"2024-02\",\"2024-02\",\"2024-02\",\"2024-02\",\"2024-02\",\"2024-02\",\"2024-02\",\"2024-02\",\"2024-02\",\"2024-02\",\"2024-02\",\"2024-02\",\"2024-02\",\"2024-02\",\"2024-02\",\"2024-02\",\"2024-02\",\"2024-02\",\"2024-02\",\"2024-02\",\"2024-02\",\"2024-02\",\"2024-02\",\"2024-02\",\"2024-02\",\"2024-02\",\"2024-02\",\"2024-02\",\"2024-02\",\"2024-02\",\"2024-02\",\"2024-02\",\"2024-02\",\"2024-02\",\"2024-02\",\"2024-02\",\"2024-02\",\"2024-02\",\"2024-02\",\"2024-02\",\"2024-02\",\"2024-02\",\"2024-02\",\"2024-02\",\"2024-02\",\"2024-02\",\"2024-02\",\"2024-02\",\"2024-02\",\"2024-02\",\"2024-02\",\"2024-02\",\"2024-02\",\"2024-02\",\"2024-02\",\"2024-02\",\"2024-02\",\"2024-02\",\"2024-02\",\"2024-02\",\"2024-02\",\"2024-02\",\"2024-02\",\"2024-02\",\"2024-02\",\"2024-02\",\"2024-02\",\"2024-02\",\"2024-02\",\"2024-02\",\"2024-02\",\"2024-02\",\"2024-02\",\"2024-02\",\"2024-02\",\"2024-02\",\"2024-02\",\"2024-02\",\"2024-02\",\"2024-02\",\"2024-02\",\"2024-02\",\"2024-02\",\"2024-02\",\"2024-02\",\"2024-02\",\"2024-02\",\"2024-02\",\"2024-02\",\"2024-02\",\"2024-02\",\"2024-02\",\"2024-02\",\"2024-02\",\"2024-02\",\"2024-02\",\"2024-02\",\"2024-02\",\"2024-02\",\"2024-02\",\"2024-02\",\"2024-02\",\"2024-02\",\"2024-02\",\"2024-02\",\"2024-02\",\"2024-02\",\"2024-02\",\"2024-02\",\"2024-02\",\"2024-02\",\"2024-02\",\"2024-02\",\"2024-02\",\"2024-02\",\"2024-02\",\"2024-02\",\"2024-02\",\"2024-02\",\"2024-02\",\"2024-02\",\"2024-02\",\"2024-02\",\"2024-02\",\"2024-02\",\"2024-02\",\"2024-02\",\"2024-02\",\"2024-02\",\"2024-02\",\"2024-02\",\"2024-02\",\"2024-02\",\"2024-02\",\"2024-02\",\"2024-02\",\"2024-02\",\"2024-02\",\"2024-02\"],\"x0\":\" \",\"xaxis\":\"x\",\"y\":[-40,40,80,80,100,-40,-40,100,60,100,100,100,60,80,100,100,60,60,60,80,100,80,-40,40,100,100,-40,100,100,100,-40,-40,100,80,100,100,60,60,80,100,100,100,100,100,100,100,100,100,100,-40,40,100,80,-40,100,100,100,-40,80,100,-40,100,100,-40,100,100,100,100,-40,100,100,40,100,100,80,100,80,60,100,100,-40,100,100,80,100,100,100,100,100,100,100,100,80,-40,60,40,60,80,100,40,-40,40,100,80,100,60,80,100,100,100,60,100,100,100,100,60,60,40,40,100,100,100,100,100,100,100,40,100,100,100,100,-40,40,-40,100,100,100,60,100],\"y0\":\" \",\"yaxis\":\"y\",\"type\":\"box\"},{\"alignmentgroup\":\"True\",\"hovertemplate\":\"month=%{x}\\u003cbr\\u003eestimated_return=%{y}\\u003cextra\\u003e\\u003c\\u002fextra\\u003e\",\"legendgroup\":\"2024-03\",\"marker\":{\"color\":\"rgb(190,186,218)\"},\"name\":\"2024-03\",\"notched\":false,\"offsetgroup\":\"2024-03\",\"orientation\":\"v\",\"showlegend\":true,\"x\":[\"2024-03\",\"2024-03\",\"2024-03\",\"2024-03\",\"2024-03\",\"2024-03\",\"2024-03\",\"2024-03\",\"2024-03\",\"2024-03\",\"2024-03\",\"2024-03\",\"2024-03\",\"2024-03\",\"2024-03\",\"2024-03\",\"2024-03\",\"2024-03\",\"2024-03\",\"2024-03\",\"2024-03\",\"2024-03\",\"2024-03\",\"2024-03\",\"2024-03\",\"2024-03\",\"2024-03\",\"2024-03\",\"2024-03\",\"2024-03\",\"2024-03\",\"2024-03\",\"2024-03\",\"2024-03\",\"2024-03\",\"2024-03\",\"2024-03\",\"2024-03\",\"2024-03\",\"2024-03\",\"2024-03\",\"2024-03\",\"2024-03\",\"2024-03\",\"2024-03\",\"2024-03\",\"2024-03\",\"2024-03\",\"2024-03\",\"2024-03\",\"2024-03\",\"2024-03\",\"2024-03\",\"2024-03\",\"2024-03\",\"2024-03\",\"2024-03\",\"2024-03\",\"2024-03\",\"2024-03\",\"2024-03\",\"2024-03\",\"2024-03\",\"2024-03\",\"2024-03\",\"2024-03\",\"2024-03\",\"2024-03\",\"2024-03\",\"2024-03\",\"2024-03\",\"2024-03\",\"2024-03\",\"2024-03\",\"2024-03\",\"2024-03\",\"2024-03\",\"2024-03\",\"2024-03\",\"2024-03\",\"2024-03\",\"2024-03\",\"2024-03\",\"2024-03\",\"2024-03\",\"2024-03\",\"2024-03\",\"2024-03\",\"2024-03\",\"2024-03\",\"2024-03\",\"2024-03\",\"2024-03\",\"2024-03\",\"2024-03\",\"2024-03\",\"2024-03\",\"2024-03\",\"2024-03\",\"2024-03\",\"2024-03\",\"2024-03\",\"2024-03\",\"2024-03\",\"2024-03\",\"2024-03\",\"2024-03\",\"2024-03\",\"2024-03\",\"2024-03\",\"2024-03\",\"2024-03\",\"2024-03\",\"2024-03\",\"2024-03\",\"2024-03\",\"2024-03\",\"2024-03\",\"2024-03\",\"2024-03\",\"2024-03\",\"2024-03\",\"2024-03\",\"2024-03\",\"2024-03\",\"2024-03\",\"2024-03\",\"2024-03\",\"2024-03\",\"2024-03\",\"2024-03\",\"2024-03\",\"2024-03\",\"2024-03\",\"2024-03\",\"2024-03\",\"2024-03\",\"2024-03\",\"2024-03\",\"2024-03\",\"2024-03\",\"2024-03\",\"2024-03\",\"2024-03\",\"2024-03\",\"2024-03\",\"2024-03\",\"2024-03\",\"2024-03\",\"2024-03\",\"2024-03\",\"2024-03\",\"2024-03\"],\"x0\":\" \",\"xaxis\":\"x\",\"y\":[100,-40,80,60,60,100,40,100,100,100,100,100,100,100,-40,-40,100,100,100,100,-40,40,100,100,80,100,100,40,80,-40,100,100,60,80,100,100,100,80,80,80,100,100,100,100,60,100,100,-40,100,80,100,100,-40,100,100,100,80,100,40,-40,100,60,-40,60,100,-40,100,80,100,60,-40,100,100,100,100,60,80,100,-40,100,100,60,100,80,100,100,100,100,100,100,100,100,100,80,100,100,100,-40,100,80,100,100,100,100,60,60,40,100,-40,100,40,100,100,100,80,80,100,100,100,-40,100,100,-40,100,100,100,100,100,100,60,100,100,100,100,-40,-40,100,80,100,-40,40,100,100,100,100,100,100,100,80,80,80,-40,100],\"y0\":\" \",\"yaxis\":\"y\",\"type\":\"box\"},{\"alignmentgroup\":\"True\",\"hovertemplate\":\"month=%{x}\\u003cbr\\u003eestimated_return=%{y}\\u003cextra\\u003e\\u003c\\u002fextra\\u003e\",\"legendgroup\":\"2024-04\",\"marker\":{\"color\":\"rgb(251,128,114)\"},\"name\":\"2024-04\",\"notched\":false,\"offsetgroup\":\"2024-04\",\"orientation\":\"v\",\"showlegend\":true,\"x\":[\"2024-04\",\"2024-04\",\"2024-04\",\"2024-04\",\"2024-04\",\"2024-04\",\"2024-04\",\"2024-04\",\"2024-04\",\"2024-04\",\"2024-04\",\"2024-04\",\"2024-04\",\"2024-04\",\"2024-04\",\"2024-04\",\"2024-04\",\"2024-04\",\"2024-04\",\"2024-04\",\"2024-04\",\"2024-04\",\"2024-04\",\"2024-04\",\"2024-04\",\"2024-04\",\"2024-04\",\"2024-04\",\"2024-04\",\"2024-04\",\"2024-04\",\"2024-04\",\"2024-04\",\"2024-04\",\"2024-04\",\"2024-04\",\"2024-04\",\"2024-04\",\"2024-04\",\"2024-04\",\"2024-04\",\"2024-04\",\"2024-04\",\"2024-04\",\"2024-04\",\"2024-04\",\"2024-04\",\"2024-04\",\"2024-04\",\"2024-04\",\"2024-04\",\"2024-04\",\"2024-04\",\"2024-04\",\"2024-04\",\"2024-04\",\"2024-04\",\"2024-04\",\"2024-04\",\"2024-04\",\"2024-04\",\"2024-04\",\"2024-04\",\"2024-04\",\"2024-04\",\"2024-04\",\"2024-04\",\"2024-04\",\"2024-04\",\"2024-04\",\"2024-04\",\"2024-04\",\"2024-04\",\"2024-04\",\"2024-04\",\"2024-04\",\"2024-04\",\"2024-04\",\"2024-04\",\"2024-04\",\"2024-04\",\"2024-04\",\"2024-04\",\"2024-04\",\"2024-04\",\"2024-04\",\"2024-04\",\"2024-04\",\"2024-04\",\"2024-04\",\"2024-04\",\"2024-04\",\"2024-04\",\"2024-04\",\"2024-04\",\"2024-04\",\"2024-04\",\"2024-04\",\"2024-04\",\"2024-04\",\"2024-04\",\"2024-04\",\"2024-04\",\"2024-04\",\"2024-04\",\"2024-04\",\"2024-04\",\"2024-04\",\"2024-04\",\"2024-04\",\"2024-04\",\"2024-04\",\"2024-04\",\"2024-04\",\"2024-04\",\"2024-04\",\"2024-04\",\"2024-04\",\"2024-04\",\"2024-04\",\"2024-04\",\"2024-04\",\"2024-04\",\"2024-04\",\"2024-04\",\"2024-04\",\"2024-04\",\"2024-04\",\"2024-04\",\"2024-04\",\"2024-04\",\"2024-04\",\"2024-04\",\"2024-04\",\"2024-04\",\"2024-04\",\"2024-04\"],\"x0\":\" \",\"xaxis\":\"x\",\"y\":[100,100,100,100,100,100,100,100,100,100,80,80,100,80,80,100,60,100,100,-40,80,100,100,100,100,80,100,80,100,100,80,40,100,80,60,-40,-40,100,100,-40,60,100,100,80,100,60,100,100,80,100,80,60,40,60,80,100,100,100,80,-40,60,100,100,100,100,80,60,-40,100,100,-40,100,100,40,100,100,100,100,100,100,80,80,80,100,100,100,100,100,100,80,100,100,60,80,100,60,100,100,-40,100,60,-40,100,80,100,80,40,-40,100,-40,100,100,100,100,-40,100,80,80,100,100,100,100,100,80,60,100,100,100,100,100,100,100,100,80,100,100,100],\"y0\":\" \",\"yaxis\":\"y\",\"type\":\"box\"},{\"alignmentgroup\":\"True\",\"hovertemplate\":\"month=%{x}\\u003cbr\\u003eestimated_return=%{y}\\u003cextra\\u003e\\u003c\\u002fextra\\u003e\",\"legendgroup\":\"2024-05\",\"marker\":{\"color\":\"rgb(128,177,211)\"},\"name\":\"2024-05\",\"notched\":false,\"offsetgroup\":\"2024-05\",\"orientation\":\"v\",\"showlegend\":true,\"x\":[\"2024-05\",\"2024-05\",\"2024-05\",\"2024-05\",\"2024-05\",\"2024-05\",\"2024-05\",\"2024-05\",\"2024-05\",\"2024-05\",\"2024-05\",\"2024-05\",\"2024-05\",\"2024-05\",\"2024-05\",\"2024-05\",\"2024-05\",\"2024-05\",\"2024-05\",\"2024-05\",\"2024-05\",\"2024-05\",\"2024-05\",\"2024-05\",\"2024-05\",\"2024-05\",\"2024-05\",\"2024-05\",\"2024-05\",\"2024-05\",\"2024-05\",\"2024-05\",\"2024-05\",\"2024-05\",\"2024-05\",\"2024-05\",\"2024-05\",\"2024-05\",\"2024-05\",\"2024-05\",\"2024-05\",\"2024-05\",\"2024-05\",\"2024-05\",\"2024-05\",\"2024-05\",\"2024-05\",\"2024-05\",\"2024-05\",\"2024-05\",\"2024-05\",\"2024-05\",\"2024-05\",\"2024-05\",\"2024-05\",\"2024-05\",\"2024-05\",\"2024-05\",\"2024-05\",\"2024-05\",\"2024-05\",\"2024-05\",\"2024-05\",\"2024-05\",\"2024-05\",\"2024-05\",\"2024-05\",\"2024-05\",\"2024-05\",\"2024-05\",\"2024-05\",\"2024-05\",\"2024-05\",\"2024-05\",\"2024-05\",\"2024-05\",\"2024-05\",\"2024-05\",\"2024-05\",\"2024-05\",\"2024-05\",\"2024-05\",\"2024-05\",\"2024-05\",\"2024-05\",\"2024-05\",\"2024-05\",\"2024-05\",\"2024-05\",\"2024-05\",\"2024-05\",\"2024-05\",\"2024-05\",\"2024-05\",\"2024-05\",\"2024-05\",\"2024-05\",\"2024-05\",\"2024-05\",\"2024-05\",\"2024-05\",\"2024-05\",\"2024-05\",\"2024-05\",\"2024-05\",\"2024-05\",\"2024-05\",\"2024-05\",\"2024-05\",\"2024-05\",\"2024-05\",\"2024-05\",\"2024-05\",\"2024-05\",\"2024-05\",\"2024-05\",\"2024-05\",\"2024-05\",\"2024-05\",\"2024-05\",\"2024-05\",\"2024-05\",\"2024-05\",\"2024-05\",\"2024-05\",\"2024-05\",\"2024-05\",\"2024-05\",\"2024-05\",\"2024-05\",\"2024-05\",\"2024-05\",\"2024-05\",\"2024-05\",\"2024-05\"],\"x0\":\" \",\"xaxis\":\"x\",\"y\":[100,100,80,60,100,60,100,100,100,100,100,100,100,100,80,100,80,80,60,-40,100,60,100,100,-40,100,80,100,80,100,100,40,100,100,100,100,100,100,80,60,100,100,80,-40,80,-40,100,100,100,100,100,40,100,100,100,80,100,40,100,80,100,80,80,40,-40,100,100,40,100,100,100,100,40,100,-40,100,60,100,100,100,100,100,100,100,100,40,100,-40,60,100,100,100,100,40,100,100,100,100,-40,80,-40,80,100,-40,100,100,100,100,100,100,100,60,60,100,100,100,80,100,100,100,100,100,100,-40,100,100,60,-40,80,100,60,-40,40,-40,100],\"y0\":\" \",\"yaxis\":\"y\",\"type\":\"box\"},{\"alignmentgroup\":\"True\",\"hovertemplate\":\"month=%{x}\\u003cbr\\u003eestimated_return=%{y}\\u003cextra\\u003e\\u003c\\u002fextra\\u003e\",\"legendgroup\":\"2024-06\",\"marker\":{\"color\":\"rgb(253,180,98)\"},\"name\":\"2024-06\",\"notched\":false,\"offsetgroup\":\"2024-06\",\"orientation\":\"v\",\"showlegend\":true,\"x\":[\"2024-06\",\"2024-06\",\"2024-06\",\"2024-06\",\"2024-06\",\"2024-06\",\"2024-06\",\"2024-06\",\"2024-06\",\"2024-06\",\"2024-06\",\"2024-06\",\"2024-06\",\"2024-06\",\"2024-06\",\"2024-06\",\"2024-06\",\"2024-06\",\"2024-06\",\"2024-06\",\"2024-06\",\"2024-06\",\"2024-06\",\"2024-06\",\"2024-06\",\"2024-06\",\"2024-06\",\"2024-06\",\"2024-06\",\"2024-06\",\"2024-06\",\"2024-06\",\"2024-06\",\"2024-06\",\"2024-06\",\"2024-06\",\"2024-06\",\"2024-06\",\"2024-06\",\"2024-06\",\"2024-06\",\"2024-06\",\"2024-06\",\"2024-06\",\"2024-06\",\"2024-06\",\"2024-06\",\"2024-06\",\"2024-06\",\"2024-06\",\"2024-06\",\"2024-06\",\"2024-06\",\"2024-06\",\"2024-06\",\"2024-06\",\"2024-06\",\"2024-06\",\"2024-06\",\"2024-06\",\"2024-06\",\"2024-06\",\"2024-06\",\"2024-06\",\"2024-06\",\"2024-06\",\"2024-06\",\"2024-06\",\"2024-06\",\"2024-06\",\"2024-06\",\"2024-06\",\"2024-06\",\"2024-06\",\"2024-06\",\"2024-06\",\"2024-06\",\"2024-06\",\"2024-06\",\"2024-06\",\"2024-06\",\"2024-06\",\"2024-06\",\"2024-06\",\"2024-06\",\"2024-06\",\"2024-06\",\"2024-06\",\"2024-06\",\"2024-06\",\"2024-06\",\"2024-06\",\"2024-06\",\"2024-06\",\"2024-06\",\"2024-06\",\"2024-06\",\"2024-06\",\"2024-06\",\"2024-06\",\"2024-06\",\"2024-06\",\"2024-06\",\"2024-06\",\"2024-06\",\"2024-06\",\"2024-06\",\"2024-06\",\"2024-06\",\"2024-06\",\"2024-06\",\"2024-06\",\"2024-06\",\"2024-06\",\"2024-06\",\"2024-06\",\"2024-06\"],\"x0\":\" \",\"xaxis\":\"x\",\"y\":[40,100,40,100,80,100,100,100,100,60,100,-40,60,-40,100,40,40,100,40,80,100,100,100,40,100,100,40,100,60,100,100,80,60,100,-40,100,100,80,100,100,80,100,60,100,100,100,100,80,80,100,100,100,80,100,80,-40,100,-40,100,100,80,100,80,100,100,60,100,100,80,100,100,100,100,-40,100,100,100,-40,100,80,60,100,80,80,100,100,100,40,100,100,100,40,100,80,100,40,100,100,100,100,40,100,100,40,-40,40,-40,100,80,100,100,60,100,100,100,100,100],\"y0\":\" \",\"yaxis\":\"y\",\"type\":\"box\"},{\"alignmentgroup\":\"True\",\"hovertemplate\":\"month=%{x}\\u003cbr\\u003eestimated_return=%{y}\\u003cextra\\u003e\\u003c\\u002fextra\\u003e\",\"legendgroup\":\"2024-07\",\"marker\":{\"color\":\"rgb(179,222,105)\"},\"name\":\"2024-07\",\"notched\":false,\"offsetgroup\":\"2024-07\",\"orientation\":\"v\",\"showlegend\":true,\"x\":[\"2024-07\",\"2024-07\",\"2024-07\",\"2024-07\",\"2024-07\",\"2024-07\",\"2024-07\",\"2024-07\",\"2024-07\",\"2024-07\",\"2024-07\",\"2024-07\",\"2024-07\",\"2024-07\",\"2024-07\",\"2024-07\",\"2024-07\",\"2024-07\",\"2024-07\",\"2024-07\",\"2024-07\",\"2024-07\",\"2024-07\",\"2024-07\",\"2024-07\",\"2024-07\",\"2024-07\",\"2024-07\",\"2024-07\",\"2024-07\",\"2024-07\",\"2024-07\",\"2024-07\",\"2024-07\",\"2024-07\",\"2024-07\",\"2024-07\",\"2024-07\",\"2024-07\",\"2024-07\",\"2024-07\",\"2024-07\",\"2024-07\",\"2024-07\",\"2024-07\",\"2024-07\",\"2024-07\",\"2024-07\",\"2024-07\",\"2024-07\",\"2024-07\",\"2024-07\",\"2024-07\",\"2024-07\",\"2024-07\",\"2024-07\",\"2024-07\",\"2024-07\",\"2024-07\",\"2024-07\",\"2024-07\",\"2024-07\",\"2024-07\",\"2024-07\",\"2024-07\",\"2024-07\",\"2024-07\",\"2024-07\",\"2024-07\",\"2024-07\",\"2024-07\",\"2024-07\",\"2024-07\",\"2024-07\",\"2024-07\",\"2024-07\",\"2024-07\",\"2024-07\",\"2024-07\",\"2024-07\",\"2024-07\",\"2024-07\",\"2024-07\",\"2024-07\",\"2024-07\",\"2024-07\",\"2024-07\",\"2024-07\",\"2024-07\",\"2024-07\",\"2024-07\",\"2024-07\",\"2024-07\",\"2024-07\",\"2024-07\",\"2024-07\",\"2024-07\",\"2024-07\",\"2024-07\",\"2024-07\",\"2024-07\",\"2024-07\",\"2024-07\",\"2024-07\",\"2024-07\",\"2024-07\",\"2024-07\",\"2024-07\",\"2024-07\",\"2024-07\",\"2024-07\",\"2024-07\",\"2024-07\",\"2024-07\",\"2024-07\",\"2024-07\",\"2024-07\",\"2024-07\",\"2024-07\",\"2024-07\",\"2024-07\"],\"x0\":\" \",\"xaxis\":\"x\",\"y\":[-40,100,80,60,80,100,100,100,100,60,100,100,60,80,80,-40,80,100,80,100,100,100,100,100,100,100,100,100,100,100,100,-40,-40,80,100,100,100,100,100,-40,60,100,100,100,60,80,100,100,100,100,60,-40,100,-40,100,80,100,100,100,100,100,100,100,40,80,100,100,100,-40,100,100,40,80,60,40,80,40,-40,60,40,100,100,60,60,80,-40,100,100,60,100,100,100,-40,100,80,100,100,100,100,100,100,100,80,100,80,80,100,80,80,100,100,80,100,100,100,80,100,100,40,100,80],\"y0\":\" \",\"yaxis\":\"y\",\"type\":\"box\"},{\"alignmentgroup\":\"True\",\"hovertemplate\":\"month=%{x}\\u003cbr\\u003eestimated_return=%{y}\\u003cextra\\u003e\\u003c\\u002fextra\\u003e\",\"legendgroup\":\"2024-08\",\"marker\":{\"color\":\"rgb(252,205,229)\"},\"name\":\"2024-08\",\"notched\":false,\"offsetgroup\":\"2024-08\",\"orientation\":\"v\",\"showlegend\":true,\"x\":[\"2024-08\",\"2024-08\",\"2024-08\",\"2024-08\",\"2024-08\",\"2024-08\",\"2024-08\",\"2024-08\",\"2024-08\",\"2024-08\",\"2024-08\",\"2024-08\",\"2024-08\",\"2024-08\",\"2024-08\",\"2024-08\",\"2024-08\",\"2024-08\",\"2024-08\",\"2024-08\",\"2024-08\",\"2024-08\",\"2024-08\",\"2024-08\",\"2024-08\",\"2024-08\",\"2024-08\",\"2024-08\",\"2024-08\",\"2024-08\",\"2024-08\",\"2024-08\",\"2024-08\",\"2024-08\",\"2024-08\",\"2024-08\",\"2024-08\",\"2024-08\",\"2024-08\",\"2024-08\",\"2024-08\",\"2024-08\",\"2024-08\",\"2024-08\",\"2024-08\",\"2024-08\",\"2024-08\",\"2024-08\",\"2024-08\",\"2024-08\",\"2024-08\",\"2024-08\",\"2024-08\",\"2024-08\",\"2024-08\",\"2024-08\",\"2024-08\",\"2024-08\",\"2024-08\",\"2024-08\",\"2024-08\",\"2024-08\",\"2024-08\",\"2024-08\",\"2024-08\",\"2024-08\",\"2024-08\",\"2024-08\",\"2024-08\",\"2024-08\",\"2024-08\",\"2024-08\",\"2024-08\",\"2024-08\",\"2024-08\",\"2024-08\",\"2024-08\",\"2024-08\",\"2024-08\",\"2024-08\",\"2024-08\",\"2024-08\",\"2024-08\",\"2024-08\",\"2024-08\",\"2024-08\",\"2024-08\",\"2024-08\",\"2024-08\",\"2024-08\",\"2024-08\",\"2024-08\",\"2024-08\",\"2024-08\",\"2024-08\",\"2024-08\",\"2024-08\",\"2024-08\",\"2024-08\",\"2024-08\",\"2024-08\",\"2024-08\",\"2024-08\",\"2024-08\",\"2024-08\",\"2024-08\",\"2024-08\",\"2024-08\",\"2024-08\",\"2024-08\",\"2024-08\",\"2024-08\",\"2024-08\",\"2024-08\",\"2024-08\",\"2024-08\",\"2024-08\",\"2024-08\",\"2024-08\",\"2024-08\",\"2024-08\",\"2024-08\",\"2024-08\",\"2024-08\",\"2024-08\",\"2024-08\",\"2024-08\",\"2024-08\",\"2024-08\",\"2024-08\",\"2024-08\",\"2024-08\",\"2024-08\",\"2024-08\",\"2024-08\",\"2024-08\",\"2024-08\",\"2024-08\",\"2024-08\",\"2024-08\",\"2024-08\",\"2024-08\",\"2024-08\",\"2024-08\"],\"x0\":\" \",\"xaxis\":\"x\",\"y\":[60,100,100,100,100,-40,100,-40,80,100,100,100,100,80,100,100,100,80,100,80,-40,100,100,100,80,100,100,100,80,100,100,40,60,100,100,100,80,80,80,100,100,-40,40,100,40,100,100,80,80,100,100,100,100,40,100,80,-40,100,80,100,80,100,100,100,80,80,100,100,100,100,80,-40,100,60,60,100,100,100,80,100,80,60,100,100,-40,-40,-40,80,100,100,80,100,100,100,100,100,80,100,100,-40,100,100,100,100,100,100,60,60,60,-40,60,-40,100,80,100,100,100,100,100,100,100,100,100,100,-40,100,100,100,100,100,40,100,80,100,80,100,100,100,-40,100,100,-40,60,100],\"y0\":\" \",\"yaxis\":\"y\",\"type\":\"box\"},{\"alignmentgroup\":\"True\",\"hovertemplate\":\"month=%{x}\\u003cbr\\u003eestimated_return=%{y}\\u003cextra\\u003e\\u003c\\u002fextra\\u003e\",\"legendgroup\":\"2024-09\",\"marker\":{\"color\":\"rgb(217,217,217)\"},\"name\":\"2024-09\",\"notched\":false,\"offsetgroup\":\"2024-09\",\"orientation\":\"v\",\"showlegend\":true,\"x\":[\"2024-09\",\"2024-09\",\"2024-09\",\"2024-09\",\"2024-09\",\"2024-09\",\"2024-09\",\"2024-09\",\"2024-09\",\"2024-09\",\"2024-09\",\"2024-09\",\"2024-09\",\"2024-09\",\"2024-09\",\"2024-09\",\"2024-09\",\"2024-09\",\"2024-09\",\"2024-09\",\"2024-09\",\"2024-09\",\"2024-09\",\"2024-09\",\"2024-09\",\"2024-09\",\"2024-09\",\"2024-09\",\"2024-09\",\"2024-09\",\"2024-09\",\"2024-09\",\"2024-09\",\"2024-09\",\"2024-09\",\"2024-09\",\"2024-09\",\"2024-09\",\"2024-09\",\"2024-09\",\"2024-09\",\"2024-09\",\"2024-09\",\"2024-09\",\"2024-09\",\"2024-09\",\"2024-09\",\"2024-09\",\"2024-09\",\"2024-09\",\"2024-09\",\"2024-09\",\"2024-09\",\"2024-09\",\"2024-09\",\"2024-09\",\"2024-09\",\"2024-09\",\"2024-09\",\"2024-09\",\"2024-09\",\"2024-09\",\"2024-09\",\"2024-09\",\"2024-09\",\"2024-09\",\"2024-09\",\"2024-09\",\"2024-09\",\"2024-09\",\"2024-09\",\"2024-09\",\"2024-09\",\"2024-09\",\"2024-09\",\"2024-09\",\"2024-09\",\"2024-09\",\"2024-09\",\"2024-09\",\"2024-09\",\"2024-09\",\"2024-09\",\"2024-09\",\"2024-09\",\"2024-09\",\"2024-09\",\"2024-09\",\"2024-09\",\"2024-09\",\"2024-09\",\"2024-09\",\"2024-09\",\"2024-09\",\"2024-09\",\"2024-09\",\"2024-09\",\"2024-09\",\"2024-09\",\"2024-09\",\"2024-09\",\"2024-09\",\"2024-09\",\"2024-09\",\"2024-09\",\"2024-09\",\"2024-09\",\"2024-09\",\"2024-09\",\"2024-09\",\"2024-09\",\"2024-09\",\"2024-09\",\"2024-09\",\"2024-09\",\"2024-09\",\"2024-09\",\"2024-09\",\"2024-09\",\"2024-09\",\"2024-09\",\"2024-09\",\"2024-09\",\"2024-09\",\"2024-09\",\"2024-09\",\"2024-09\",\"2024-09\",\"2024-09\",\"2024-09\"],\"x0\":\" \",\"xaxis\":\"x\",\"y\":[-40,-40,100,100,-40,100,100,60,80,100,100,80,100,100,100,80,80,40,100,100,100,100,80,100,100,100,100,100,80,100,80,80,100,100,100,80,100,100,40,100,100,80,40,100,100,100,100,100,80,100,100,60,100,100,100,100,100,100,60,100,80,80,80,100,-40,100,100,100,40,-40,-40,40,-40,40,60,100,100,100,100,100,40,100,80,80,80,80,80,100,80,80,-40,60,80,-40,80,100,80,100,100,100,100,100,100,100,100,100,100,-40,100,100,-40,-40,100,100,100,80,60,80,60,100,-40,100,-40,-40,40,100,80,80,100,40],\"y0\":\" \",\"yaxis\":\"y\",\"type\":\"box\"},{\"alignmentgroup\":\"True\",\"hovertemplate\":\"month=%{x}\\u003cbr\\u003eestimated_return=%{y}\\u003cextra\\u003e\\u003c\\u002fextra\\u003e\",\"legendgroup\":\"2024-10\",\"marker\":{\"color\":\"rgb(188,128,189)\"},\"name\":\"2024-10\",\"notched\":false,\"offsetgroup\":\"2024-10\",\"orientation\":\"v\",\"showlegend\":true,\"x\":[\"2024-10\",\"2024-10\",\"2024-10\",\"2024-10\",\"2024-10\",\"2024-10\",\"2024-10\",\"2024-10\",\"2024-10\",\"2024-10\",\"2024-10\",\"2024-10\",\"2024-10\",\"2024-10\",\"2024-10\",\"2024-10\",\"2024-10\",\"2024-10\",\"2024-10\",\"2024-10\",\"2024-10\",\"2024-10\",\"2024-10\",\"2024-10\",\"2024-10\",\"2024-10\",\"2024-10\",\"2024-10\",\"2024-10\",\"2024-10\",\"2024-10\",\"2024-10\",\"2024-10\",\"2024-10\",\"2024-10\",\"2024-10\",\"2024-10\",\"2024-10\",\"2024-10\",\"2024-10\",\"2024-10\",\"2024-10\",\"2024-10\",\"2024-10\",\"2024-10\",\"2024-10\",\"2024-10\",\"2024-10\",\"2024-10\",\"2024-10\",\"2024-10\",\"2024-10\",\"2024-10\",\"2024-10\",\"2024-10\",\"2024-10\",\"2024-10\",\"2024-10\",\"2024-10\",\"2024-10\",\"2024-10\",\"2024-10\",\"2024-10\",\"2024-10\",\"2024-10\",\"2024-10\",\"2024-10\",\"2024-10\",\"2024-10\",\"2024-10\",\"2024-10\",\"2024-10\",\"2024-10\",\"2024-10\",\"2024-10\",\"2024-10\",\"2024-10\",\"2024-10\",\"2024-10\",\"2024-10\",\"2024-10\",\"2024-10\",\"2024-10\",\"2024-10\",\"2024-10\",\"2024-10\",\"2024-10\",\"2024-10\",\"2024-10\",\"2024-10\",\"2024-10\",\"2024-10\",\"2024-10\",\"2024-10\",\"2024-10\",\"2024-10\",\"2024-10\",\"2024-10\",\"2024-10\",\"2024-10\",\"2024-10\",\"2024-10\",\"2024-10\",\"2024-10\",\"2024-10\",\"2024-10\",\"2024-10\",\"2024-10\",\"2024-10\",\"2024-10\",\"2024-10\",\"2024-10\",\"2024-10\",\"2024-10\",\"2024-10\",\"2024-10\",\"2024-10\",\"2024-10\",\"2024-10\",\"2024-10\",\"2024-10\",\"2024-10\",\"2024-10\",\"2024-10\",\"2024-10\"],\"x0\":\" \",\"xaxis\":\"x\",\"y\":[100,100,100,100,80,-40,100,100,-40,-40,80,-40,100,80,80,100,80,100,80,100,100,80,100,100,100,40,-40,100,100,100,100,100,-40,100,100,60,80,100,80,100,80,100,100,80,80,-40,80,-40,-40,60,80,100,80,80,100,100,80,100,100,100,40,100,100,80,100,100,60,100,100,-40,100,80,-40,80,-40,-40,100,80,100,100,100,100,100,100,100,100,100,80,100,100,40,60,100,40,100,100,100,100,80,60,80,100,-40,100,80,40,40,80,-40,80,60,60,100,80,100,100,-40,100,100,100,100,40,80,80,60],\"y0\":\" \",\"yaxis\":\"y\",\"type\":\"box\"},{\"alignmentgroup\":\"True\",\"hovertemplate\":\"month=%{x}\\u003cbr\\u003eestimated_return=%{y}\\u003cextra\\u003e\\u003c\\u002fextra\\u003e\",\"legendgroup\":\"2024-11\",\"marker\":{\"color\":\"rgb(204,235,197)\"},\"name\":\"2024-11\",\"notched\":false,\"offsetgroup\":\"2024-11\",\"orientation\":\"v\",\"showlegend\":true,\"x\":[\"2024-11\",\"2024-11\",\"2024-11\",\"2024-11\",\"2024-11\",\"2024-11\",\"2024-11\",\"2024-11\",\"2024-11\",\"2024-11\",\"2024-11\",\"2024-11\",\"2024-11\",\"2024-11\",\"2024-11\",\"2024-11\",\"2024-11\",\"2024-11\",\"2024-11\",\"2024-11\",\"2024-11\",\"2024-11\",\"2024-11\",\"2024-11\",\"2024-11\",\"2024-11\",\"2024-11\",\"2024-11\",\"2024-11\",\"2024-11\",\"2024-11\",\"2024-11\",\"2024-11\",\"2024-11\",\"2024-11\",\"2024-11\",\"2024-11\",\"2024-11\",\"2024-11\",\"2024-11\",\"2024-11\",\"2024-11\",\"2024-11\",\"2024-11\",\"2024-11\",\"2024-11\",\"2024-11\",\"2024-11\",\"2024-11\",\"2024-11\",\"2024-11\",\"2024-11\",\"2024-11\",\"2024-11\",\"2024-11\",\"2024-11\",\"2024-11\",\"2024-11\",\"2024-11\",\"2024-11\",\"2024-11\",\"2024-11\",\"2024-11\",\"2024-11\",\"2024-11\",\"2024-11\",\"2024-11\",\"2024-11\",\"2024-11\",\"2024-11\",\"2024-11\",\"2024-11\",\"2024-11\",\"2024-11\",\"2024-11\",\"2024-11\",\"2024-11\",\"2024-11\",\"2024-11\",\"2024-11\",\"2024-11\",\"2024-11\",\"2024-11\",\"2024-11\",\"2024-11\",\"2024-11\",\"2024-11\",\"2024-11\",\"2024-11\",\"2024-11\",\"2024-11\",\"2024-11\",\"2024-11\",\"2024-11\",\"2024-11\",\"2024-11\",\"2024-11\",\"2024-11\",\"2024-11\",\"2024-11\",\"2024-11\",\"2024-11\",\"2024-11\",\"2024-11\",\"2024-11\",\"2024-11\",\"2024-11\",\"2024-11\",\"2024-11\",\"2024-11\",\"2024-11\",\"2024-11\",\"2024-11\",\"2024-11\",\"2024-11\",\"2024-11\",\"2024-11\",\"2024-11\",\"2024-11\",\"2024-11\"],\"x0\":\" \",\"xaxis\":\"x\",\"y\":[-40,100,100,80,100,80,100,80,60,100,-40,100,-40,100,60,100,-40,60,100,100,60,100,100,100,80,60,100,-40,80,80,80,-40,40,60,100,100,100,100,-40,60,40,60,60,80,60,-40,60,80,100,100,100,100,80,100,100,100,100,100,60,60,40,100,100,100,80,60,100,100,60,60,80,60,60,100,-40,60,100,60,80,-40,-40,60,60,80,80,-40,100,-40,60,-40,100,100,60,100,100,40,-40,100,100,100,100,100,60,40,80,100,40,100,100,80,100,40,60,100,100,100,100,100,100,100],\"y0\":\" \",\"yaxis\":\"y\",\"type\":\"box\"},{\"alignmentgroup\":\"True\",\"hovertemplate\":\"month=%{x}\\u003cbr\\u003eestimated_return=%{y}\\u003cextra\\u003e\\u003c\\u002fextra\\u003e\",\"legendgroup\":\"2024-12\",\"marker\":{\"color\":\"rgb(255,237,111)\"},\"name\":\"2024-12\",\"notched\":false,\"offsetgroup\":\"2024-12\",\"orientation\":\"v\",\"showlegend\":true,\"x\":[\"2024-12\",\"2024-12\",\"2024-12\",\"2024-12\",\"2024-12\",\"2024-12\",\"2024-12\",\"2024-12\",\"2024-12\",\"2024-12\",\"2024-12\",\"2024-12\",\"2024-12\",\"2024-12\",\"2024-12\",\"2024-12\",\"2024-12\",\"2024-12\",\"2024-12\",\"2024-12\",\"2024-12\",\"2024-12\",\"2024-12\",\"2024-12\",\"2024-12\",\"2024-12\",\"2024-12\",\"2024-12\",\"2024-12\",\"2024-12\",\"2024-12\",\"2024-12\",\"2024-12\",\"2024-12\",\"2024-12\",\"2024-12\",\"2024-12\",\"2024-12\",\"2024-12\",\"2024-12\",\"2024-12\",\"2024-12\",\"2024-12\",\"2024-12\",\"2024-12\",\"2024-12\",\"2024-12\",\"2024-12\",\"2024-12\",\"2024-12\",\"2024-12\",\"2024-12\",\"2024-12\",\"2024-12\",\"2024-12\",\"2024-12\",\"2024-12\",\"2024-12\",\"2024-12\",\"2024-12\",\"2024-12\",\"2024-12\",\"2024-12\",\"2024-12\",\"2024-12\",\"2024-12\",\"2024-12\",\"2024-12\",\"2024-12\",\"2024-12\",\"2024-12\",\"2024-12\",\"2024-12\",\"2024-12\",\"2024-12\",\"2024-12\",\"2024-12\",\"2024-12\",\"2024-12\",\"2024-12\",\"2024-12\",\"2024-12\",\"2024-12\",\"2024-12\",\"2024-12\",\"2024-12\",\"2024-12\",\"2024-12\",\"2024-12\",\"2024-12\",\"2024-12\",\"2024-12\",\"2024-12\",\"2024-12\",\"2024-12\",\"2024-12\",\"2024-12\",\"2024-12\",\"2024-12\",\"2024-12\",\"2024-12\",\"2024-12\",\"2024-12\",\"2024-12\",\"2024-12\",\"2024-12\",\"2024-12\",\"2024-12\",\"2024-12\",\"2024-12\",\"2024-12\",\"2024-12\",\"2024-12\",\"2024-12\",\"2024-12\",\"2024-12\",\"2024-12\",\"2024-12\",\"2024-12\",\"2024-12\",\"2024-12\"],\"x0\":\" \",\"xaxis\":\"x\",\"y\":[80,100,-40,100,-40,100,100,80,100,80,100,80,60,80,-40,100,-40,40,100,-40,100,-40,60,80,-40,100,80,40,100,80,80,-40,-40,100,80,40,80,100,100,40,100,60,80,60,-40,80,80,-40,100,40,100,80,100,100,100,60,100,-40,100,100,-40,100,40,-40,100,100,-40,-40,80,40,100,100,100,100,100,60,100,80,100,60,60,40,100,100,40,100,100,80,100,100,80,60,80,100,100,100,60,100,60,100,100,100,60,100,100,100,80,40,80,60,100,100,100,100,100,100,100,100,40,60,100],\"y0\":\" \",\"yaxis\":\"y\",\"type\":\"box\"},{\"alignmentgroup\":\"True\",\"hovertemplate\":\"month=%{x}\\u003cbr\\u003eestimated_return=%{y}\\u003cextra\\u003e\\u003c\\u002fextra\\u003e\",\"legendgroup\":\"2025-01\",\"marker\":{\"color\":\"rgb(141,211,199)\"},\"name\":\"2025-01\",\"notched\":false,\"offsetgroup\":\"2025-01\",\"orientation\":\"v\",\"showlegend\":true,\"x\":[\"2025-01\",\"2025-01\",\"2025-01\",\"2025-01\",\"2025-01\",\"2025-01\",\"2025-01\",\"2025-01\",\"2025-01\",\"2025-01\",\"2025-01\",\"2025-01\",\"2025-01\",\"2025-01\",\"2025-01\",\"2025-01\",\"2025-01\",\"2025-01\",\"2025-01\",\"2025-01\",\"2025-01\",\"2025-01\",\"2025-01\",\"2025-01\",\"2025-01\",\"2025-01\",\"2025-01\",\"2025-01\",\"2025-01\",\"2025-01\",\"2025-01\",\"2025-01\",\"2025-01\",\"2025-01\",\"2025-01\",\"2025-01\",\"2025-01\",\"2025-01\",\"2025-01\",\"2025-01\",\"2025-01\",\"2025-01\",\"2025-01\",\"2025-01\",\"2025-01\",\"2025-01\",\"2025-01\",\"2025-01\",\"2025-01\",\"2025-01\",\"2025-01\",\"2025-01\",\"2025-01\",\"2025-01\",\"2025-01\",\"2025-01\",\"2025-01\",\"2025-01\",\"2025-01\",\"2025-01\",\"2025-01\",\"2025-01\",\"2025-01\",\"2025-01\",\"2025-01\",\"2025-01\",\"2025-01\",\"2025-01\",\"2025-01\",\"2025-01\",\"2025-01\",\"2025-01\",\"2025-01\",\"2025-01\",\"2025-01\",\"2025-01\",\"2025-01\",\"2025-01\",\"2025-01\",\"2025-01\",\"2025-01\",\"2025-01\",\"2025-01\",\"2025-01\",\"2025-01\",\"2025-01\",\"2025-01\",\"2025-01\",\"2025-01\",\"2025-01\",\"2025-01\",\"2025-01\",\"2025-01\",\"2025-01\",\"2025-01\",\"2025-01\",\"2025-01\",\"2025-01\",\"2025-01\",\"2025-01\",\"2025-01\",\"2025-01\",\"2025-01\",\"2025-01\",\"2025-01\",\"2025-01\",\"2025-01\",\"2025-01\",\"2025-01\",\"2025-01\",\"2025-01\",\"2025-01\",\"2025-01\",\"2025-01\",\"2025-01\",\"2025-01\",\"2025-01\",\"2025-01\",\"2025-01\",\"2025-01\",\"2025-01\",\"2025-01\",\"2025-01\",\"2025-01\"],\"x0\":\" \",\"xaxis\":\"x\",\"y\":[100,100,-40,80,80,80,100,60,40,80,-40,40,80,100,80,60,100,100,60,100,100,-40,60,-40,100,80,80,80,60,100,80,80,80,-40,80,100,40,-40,100,100,100,100,100,100,-40,100,100,40,100,100,100,100,100,60,40,100,100,60,100,80,80,40,-40,60,-40,100,-40,-40,40,80,60,100,100,100,-40,100,100,100,-40,80,80,-40,60,100,40,100,40,100,-40,100,80,-40,100,100,100,100,100,80,100,60,100,100,80,-40,40,100,100,40,100,100,40,80,80,100,40,100,-40,80,100,100,80,-40,-40,100],\"y0\":\" \",\"yaxis\":\"y\",\"type\":\"box\"},{\"alignmentgroup\":\"True\",\"hovertemplate\":\"month=%{x}\\u003cbr\\u003eestimated_return=%{y}\\u003cextra\\u003e\\u003c\\u002fextra\\u003e\",\"legendgroup\":\"2025-02\",\"marker\":{\"color\":\"rgb(255,255,179)\"},\"name\":\"2025-02\",\"notched\":false,\"offsetgroup\":\"2025-02\",\"orientation\":\"v\",\"showlegend\":true,\"x\":[\"2025-02\",\"2025-02\",\"2025-02\",\"2025-02\",\"2025-02\",\"2025-02\",\"2025-02\",\"2025-02\",\"2025-02\",\"2025-02\",\"2025-02\",\"2025-02\",\"2025-02\",\"2025-02\",\"2025-02\",\"2025-02\",\"2025-02\",\"2025-02\",\"2025-02\",\"2025-02\",\"2025-02\",\"2025-02\",\"2025-02\",\"2025-02\",\"2025-02\",\"2025-02\",\"2025-02\",\"2025-02\",\"2025-02\",\"2025-02\",\"2025-02\",\"2025-02\",\"2025-02\",\"2025-02\",\"2025-02\",\"2025-02\",\"2025-02\",\"2025-02\",\"2025-02\",\"2025-02\",\"2025-02\",\"2025-02\",\"2025-02\",\"2025-02\",\"2025-02\",\"2025-02\",\"2025-02\",\"2025-02\",\"2025-02\",\"2025-02\",\"2025-02\",\"2025-02\",\"2025-02\",\"2025-02\",\"2025-02\",\"2025-02\",\"2025-02\",\"2025-02\",\"2025-02\",\"2025-02\",\"2025-02\",\"2025-02\",\"2025-02\",\"2025-02\",\"2025-02\",\"2025-02\",\"2025-02\",\"2025-02\",\"2025-02\",\"2025-02\",\"2025-02\",\"2025-02\",\"2025-02\",\"2025-02\",\"2025-02\",\"2025-02\",\"2025-02\",\"2025-02\",\"2025-02\",\"2025-02\",\"2025-02\",\"2025-02\",\"2025-02\",\"2025-02\",\"2025-02\",\"2025-02\",\"2025-02\",\"2025-02\",\"2025-02\",\"2025-02\",\"2025-02\",\"2025-02\",\"2025-02\",\"2025-02\",\"2025-02\",\"2025-02\",\"2025-02\",\"2025-02\",\"2025-02\",\"2025-02\",\"2025-02\",\"2025-02\",\"2025-02\",\"2025-02\",\"2025-02\",\"2025-02\",\"2025-02\",\"2025-02\",\"2025-02\",\"2025-02\",\"2025-02\",\"2025-02\"],\"x0\":\" \",\"xaxis\":\"x\",\"y\":[-40,80,80,100,100,80,100,60,60,80,60,40,40,100,80,100,80,100,100,-40,60,100,80,60,100,40,80,60,100,100,80,100,40,80,80,100,60,100,60,100,60,60,40,100,100,100,60,60,60,100,100,80,100,-40,40,100,100,100,100,100,-40,-40,100,-40,80,100,100,-40,100,80,-40,40,100,100,80,100,-40,100,100,100,100,80,100,80,80,100,80,-40,-40,100,100,60,100,-40,-40,60,60,60,40,80,100,-40,100,-40,100,100,100,60,40,80,80,100],\"y0\":\" \",\"yaxis\":\"y\",\"type\":\"box\"},{\"alignmentgroup\":\"True\",\"hovertemplate\":\"month=%{x}\\u003cbr\\u003eestimated_return=%{y}\\u003cextra\\u003e\\u003c\\u002fextra\\u003e\",\"legendgroup\":\"2025-03\",\"marker\":{\"color\":\"rgb(190,186,218)\"},\"name\":\"2025-03\",\"notched\":false,\"offsetgroup\":\"2025-03\",\"orientation\":\"v\",\"showlegend\":true,\"x\":[\"2025-03\",\"2025-03\",\"2025-03\",\"2025-03\",\"2025-03\",\"2025-03\",\"2025-03\",\"2025-03\",\"2025-03\",\"2025-03\",\"2025-03\",\"2025-03\",\"2025-03\",\"2025-03\",\"2025-03\",\"2025-03\",\"2025-03\",\"2025-03\",\"2025-03\",\"2025-03\",\"2025-03\",\"2025-03\",\"2025-03\",\"2025-03\",\"2025-03\",\"2025-03\",\"2025-03\",\"2025-03\",\"2025-03\",\"2025-03\",\"2025-03\",\"2025-03\",\"2025-03\",\"2025-03\",\"2025-03\",\"2025-03\",\"2025-03\",\"2025-03\",\"2025-03\",\"2025-03\",\"2025-03\",\"2025-03\",\"2025-03\",\"2025-03\",\"2025-03\",\"2025-03\",\"2025-03\",\"2025-03\",\"2025-03\",\"2025-03\",\"2025-03\",\"2025-03\",\"2025-03\",\"2025-03\",\"2025-03\",\"2025-03\",\"2025-03\",\"2025-03\",\"2025-03\",\"2025-03\",\"2025-03\",\"2025-03\",\"2025-03\",\"2025-03\",\"2025-03\",\"2025-03\",\"2025-03\",\"2025-03\",\"2025-03\",\"2025-03\",\"2025-03\",\"2025-03\",\"2025-03\",\"2025-03\",\"2025-03\",\"2025-03\",\"2025-03\",\"2025-03\",\"2025-03\",\"2025-03\",\"2025-03\",\"2025-03\",\"2025-03\",\"2025-03\",\"2025-03\",\"2025-03\",\"2025-03\",\"2025-03\",\"2025-03\",\"2025-03\",\"2025-03\",\"2025-03\",\"2025-03\",\"2025-03\",\"2025-03\",\"2025-03\",\"2025-03\",\"2025-03\",\"2025-03\",\"2025-03\",\"2025-03\",\"2025-03\",\"2025-03\",\"2025-03\",\"2025-03\",\"2025-03\",\"2025-03\",\"2025-03\",\"2025-03\",\"2025-03\",\"2025-03\",\"2025-03\",\"2025-03\",\"2025-03\",\"2025-03\",\"2025-03\",\"2025-03\",\"2025-03\",\"2025-03\",\"2025-03\",\"2025-03\",\"2025-03\",\"2025-03\",\"2025-03\"],\"x0\":\" \",\"xaxis\":\"x\",\"y\":[80,100,100,40,60,100,100,-40,-40,100,100,100,100,40,60,60,60,100,80,100,60,80,100,100,-40,100,100,100,40,80,100,100,80,100,100,100,80,-40,80,-40,-40,100,-40,100,80,-40,100,40,60,-40,100,100,100,40,100,40,100,60,60,100,100,60,100,60,100,-40,60,-40,100,80,-40,-40,80,100,80,80,100,100,100,80,80,60,80,100,100,100,100,-40,60,60,60,80,100,40,100,80,80,40,80,80,80,80,80,100,-40,-40,100,80,80,-40,60,100,100,-40,100,100,40,60,100,60,-40,40,100,60],\"y0\":\" \",\"yaxis\":\"y\",\"type\":\"box\"},{\"alignmentgroup\":\"True\",\"hovertemplate\":\"month=%{x}\\u003cbr\\u003eestimated_return=%{y}\\u003cextra\\u003e\\u003c\\u002fextra\\u003e\",\"legendgroup\":\"2025-04\",\"marker\":{\"color\":\"rgb(251,128,114)\"},\"name\":\"2025-04\",\"notched\":false,\"offsetgroup\":\"2025-04\",\"orientation\":\"v\",\"showlegend\":true,\"x\":[\"2025-04\",\"2025-04\",\"2025-04\",\"2025-04\",\"2025-04\",\"2025-04\",\"2025-04\",\"2025-04\",\"2025-04\",\"2025-04\",\"2025-04\",\"2025-04\",\"2025-04\",\"2025-04\",\"2025-04\",\"2025-04\",\"2025-04\",\"2025-04\",\"2025-04\",\"2025-04\",\"2025-04\",\"2025-04\",\"2025-04\",\"2025-04\",\"2025-04\",\"2025-04\",\"2025-04\",\"2025-04\",\"2025-04\",\"2025-04\",\"2025-04\",\"2025-04\",\"2025-04\",\"2025-04\",\"2025-04\",\"2025-04\",\"2025-04\",\"2025-04\",\"2025-04\",\"2025-04\",\"2025-04\",\"2025-04\",\"2025-04\",\"2025-04\",\"2025-04\",\"2025-04\",\"2025-04\",\"2025-04\",\"2025-04\",\"2025-04\",\"2025-04\",\"2025-04\",\"2025-04\",\"2025-04\",\"2025-04\",\"2025-04\",\"2025-04\",\"2025-04\",\"2025-04\",\"2025-04\",\"2025-04\",\"2025-04\",\"2025-04\",\"2025-04\",\"2025-04\",\"2025-04\",\"2025-04\",\"2025-04\",\"2025-04\",\"2025-04\",\"2025-04\",\"2025-04\",\"2025-04\",\"2025-04\",\"2025-04\",\"2025-04\",\"2025-04\",\"2025-04\",\"2025-04\",\"2025-04\",\"2025-04\",\"2025-04\",\"2025-04\",\"2025-04\",\"2025-04\",\"2025-04\",\"2025-04\",\"2025-04\",\"2025-04\",\"2025-04\",\"2025-04\",\"2025-04\",\"2025-04\",\"2025-04\",\"2025-04\",\"2025-04\",\"2025-04\",\"2025-04\",\"2025-04\",\"2025-04\",\"2025-04\",\"2025-04\",\"2025-04\",\"2025-04\",\"2025-04\",\"2025-04\",\"2025-04\",\"2025-04\",\"2025-04\",\"2025-04\",\"2025-04\",\"2025-04\",\"2025-04\",\"2025-04\",\"2025-04\",\"2025-04\",\"2025-04\",\"2025-04\",\"2025-04\",\"2025-04\"],\"x0\":\" \",\"xaxis\":\"x\",\"y\":[80,-40,100,100,80,-40,-40,100,100,100,80,80,100,-40,100,60,80,80,60,40,100,60,-40,100,-40,100,80,100,-40,60,100,60,100,100,80,-40,-40,100,60,60,80,100,100,100,80,100,100,80,80,40,100,-40,100,100,80,100,100,80,80,-40,80,100,100,40,100,100,100,60,80,-40,80,60,60,60,60,-40,100,100,80,80,80,-40,60,60,-40,100,80,100,100,100,60,-40,100,100,-40,100,100,100,60,100,60,100,40,100,-40,-40,100,60,100,-40,-40,100,100,100,40,80,100,-40,-40,100],\"y0\":\" \",\"yaxis\":\"y\",\"type\":\"box\"},{\"alignmentgroup\":\"True\",\"hovertemplate\":\"month=%{x}\\u003cbr\\u003eestimated_return=%{y}\\u003cextra\\u003e\\u003c\\u002fextra\\u003e\",\"legendgroup\":\"2025-05\",\"marker\":{\"color\":\"rgb(128,177,211)\"},\"name\":\"2025-05\",\"notched\":false,\"offsetgroup\":\"2025-05\",\"orientation\":\"v\",\"showlegend\":true,\"x\":[\"2025-05\",\"2025-05\",\"2025-05\",\"2025-05\",\"2025-05\",\"2025-05\",\"2025-05\",\"2025-05\",\"2025-05\",\"2025-05\",\"2025-05\",\"2025-05\",\"2025-05\",\"2025-05\",\"2025-05\",\"2025-05\",\"2025-05\",\"2025-05\",\"2025-05\",\"2025-05\",\"2025-05\",\"2025-05\",\"2025-05\",\"2025-05\",\"2025-05\",\"2025-05\",\"2025-05\",\"2025-05\",\"2025-05\",\"2025-05\",\"2025-05\",\"2025-05\",\"2025-05\",\"2025-05\",\"2025-05\",\"2025-05\",\"2025-05\",\"2025-05\",\"2025-05\",\"2025-05\",\"2025-05\",\"2025-05\",\"2025-05\",\"2025-05\",\"2025-05\",\"2025-05\",\"2025-05\",\"2025-05\",\"2025-05\",\"2025-05\",\"2025-05\",\"2025-05\",\"2025-05\",\"2025-05\",\"2025-05\",\"2025-05\",\"2025-05\",\"2025-05\",\"2025-05\",\"2025-05\",\"2025-05\",\"2025-05\",\"2025-05\",\"2025-05\",\"2025-05\",\"2025-05\",\"2025-05\",\"2025-05\",\"2025-05\",\"2025-05\",\"2025-05\",\"2025-05\",\"2025-05\",\"2025-05\",\"2025-05\",\"2025-05\",\"2025-05\",\"2025-05\",\"2025-05\",\"2025-05\",\"2025-05\",\"2025-05\",\"2025-05\",\"2025-05\",\"2025-05\",\"2025-05\",\"2025-05\",\"2025-05\",\"2025-05\"],\"x0\":\" \",\"xaxis\":\"x\",\"y\":[80,100,60,80,100,100,-40,60,-40,80,100,80,-40,40,-40,60,-40,80,40,100,60,100,80,100,60,100,100,40,80,80,60,-40,100,80,100,80,100,80,100,100,80,100,100,100,100,60,100,100,60,100,100,80,-40,-40,-40,-40,40,40,100,-40,100,-40,60,100,100,-40,100,100,100,80,80,100,100,100,100,40,100,80,100,-40,100,100,80,80,80,100,80,100,-40],\"y0\":\" \",\"yaxis\":\"y\",\"type\":\"box\"}],                        {\"template\":{\"data\":{\"histogram2dcontour\":[{\"type\":\"histogram2dcontour\",\"colorbar\":{\"outlinewidth\":0,\"ticks\":\"\"},\"colorscale\":[[0.0,\"#0d0887\"],[0.1111111111111111,\"#46039f\"],[0.2222222222222222,\"#7201a8\"],[0.3333333333333333,\"#9c179e\"],[0.4444444444444444,\"#bd3786\"],[0.5555555555555556,\"#d8576b\"],[0.6666666666666666,\"#ed7953\"],[0.7777777777777778,\"#fb9f3a\"],[0.8888888888888888,\"#fdca26\"],[1.0,\"#f0f921\"]]}],\"choropleth\":[{\"type\":\"choropleth\",\"colorbar\":{\"outlinewidth\":0,\"ticks\":\"\"}}],\"histogram2d\":[{\"type\":\"histogram2d\",\"colorbar\":{\"outlinewidth\":0,\"ticks\":\"\"},\"colorscale\":[[0.0,\"#0d0887\"],[0.1111111111111111,\"#46039f\"],[0.2222222222222222,\"#7201a8\"],[0.3333333333333333,\"#9c179e\"],[0.4444444444444444,\"#bd3786\"],[0.5555555555555556,\"#d8576b\"],[0.6666666666666666,\"#ed7953\"],[0.7777777777777778,\"#fb9f3a\"],[0.8888888888888888,\"#fdca26\"],[1.0,\"#f0f921\"]]}],\"heatmap\":[{\"type\":\"heatmap\",\"colorbar\":{\"outlinewidth\":0,\"ticks\":\"\"},\"colorscale\":[[0.0,\"#0d0887\"],[0.1111111111111111,\"#46039f\"],[0.2222222222222222,\"#7201a8\"],[0.3333333333333333,\"#9c179e\"],[0.4444444444444444,\"#bd3786\"],[0.5555555555555556,\"#d8576b\"],[0.6666666666666666,\"#ed7953\"],[0.7777777777777778,\"#fb9f3a\"],[0.8888888888888888,\"#fdca26\"],[1.0,\"#f0f921\"]]}],\"heatmapgl\":[{\"type\":\"heatmapgl\",\"colorbar\":{\"outlinewidth\":0,\"ticks\":\"\"},\"colorscale\":[[0.0,\"#0d0887\"],[0.1111111111111111,\"#46039f\"],[0.2222222222222222,\"#7201a8\"],[0.3333333333333333,\"#9c179e\"],[0.4444444444444444,\"#bd3786\"],[0.5555555555555556,\"#d8576b\"],[0.6666666666666666,\"#ed7953\"],[0.7777777777777778,\"#fb9f3a\"],[0.8888888888888888,\"#fdca26\"],[1.0,\"#f0f921\"]]}],\"contourcarpet\":[{\"type\":\"contourcarpet\",\"colorbar\":{\"outlinewidth\":0,\"ticks\":\"\"}}],\"contour\":[{\"type\":\"contour\",\"colorbar\":{\"outlinewidth\":0,\"ticks\":\"\"},\"colorscale\":[[0.0,\"#0d0887\"],[0.1111111111111111,\"#46039f\"],[0.2222222222222222,\"#7201a8\"],[0.3333333333333333,\"#9c179e\"],[0.4444444444444444,\"#bd3786\"],[0.5555555555555556,\"#d8576b\"],[0.6666666666666666,\"#ed7953\"],[0.7777777777777778,\"#fb9f3a\"],[0.8888888888888888,\"#fdca26\"],[1.0,\"#f0f921\"]]}],\"surface\":[{\"type\":\"surface\",\"colorbar\":{\"outlinewidth\":0,\"ticks\":\"\"},\"colorscale\":[[0.0,\"#0d0887\"],[0.1111111111111111,\"#46039f\"],[0.2222222222222222,\"#7201a8\"],[0.3333333333333333,\"#9c179e\"],[0.4444444444444444,\"#bd3786\"],[0.5555555555555556,\"#d8576b\"],[0.6666666666666666,\"#ed7953\"],[0.7777777777777778,\"#fb9f3a\"],[0.8888888888888888,\"#fdca26\"],[1.0,\"#f0f921\"]]}],\"mesh3d\":[{\"type\":\"mesh3d\",\"colorbar\":{\"outlinewidth\":0,\"ticks\":\"\"}}],\"scatter\":[{\"fillpattern\":{\"fillmode\":\"overlay\",\"size\":10,\"solidity\":0.2},\"type\":\"scatter\"}],\"parcoords\":[{\"type\":\"parcoords\",\"line\":{\"colorbar\":{\"outlinewidth\":0,\"ticks\":\"\"}}}],\"scatterpolargl\":[{\"type\":\"scatterpolargl\",\"marker\":{\"colorbar\":{\"outlinewidth\":0,\"ticks\":\"\"}}}],\"bar\":[{\"error_x\":{\"color\":\"#2a3f5f\"},\"error_y\":{\"color\":\"#2a3f5f\"},\"marker\":{\"line\":{\"color\":\"#E5ECF6\",\"width\":0.5},\"pattern\":{\"fillmode\":\"overlay\",\"size\":10,\"solidity\":0.2}},\"type\":\"bar\"}],\"scattergeo\":[{\"type\":\"scattergeo\",\"marker\":{\"colorbar\":{\"outlinewidth\":0,\"ticks\":\"\"}}}],\"scatterpolar\":[{\"type\":\"scatterpolar\",\"marker\":{\"colorbar\":{\"outlinewidth\":0,\"ticks\":\"\"}}}],\"histogram\":[{\"marker\":{\"pattern\":{\"fillmode\":\"overlay\",\"size\":10,\"solidity\":0.2}},\"type\":\"histogram\"}],\"scattergl\":[{\"type\":\"scattergl\",\"marker\":{\"colorbar\":{\"outlinewidth\":0,\"ticks\":\"\"}}}],\"scatter3d\":[{\"type\":\"scatter3d\",\"line\":{\"colorbar\":{\"outlinewidth\":0,\"ticks\":\"\"}},\"marker\":{\"colorbar\":{\"outlinewidth\":0,\"ticks\":\"\"}}}],\"scattermapbox\":[{\"type\":\"scattermapbox\",\"marker\":{\"colorbar\":{\"outlinewidth\":0,\"ticks\":\"\"}}}],\"scatterternary\":[{\"type\":\"scatterternary\",\"marker\":{\"colorbar\":{\"outlinewidth\":0,\"ticks\":\"\"}}}],\"scattercarpet\":[{\"type\":\"scattercarpet\",\"marker\":{\"colorbar\":{\"outlinewidth\":0,\"ticks\":\"\"}}}],\"carpet\":[{\"aaxis\":{\"endlinecolor\":\"#2a3f5f\",\"gridcolor\":\"white\",\"linecolor\":\"white\",\"minorgridcolor\":\"white\",\"startlinecolor\":\"#2a3f5f\"},\"baxis\":{\"endlinecolor\":\"#2a3f5f\",\"gridcolor\":\"white\",\"linecolor\":\"white\",\"minorgridcolor\":\"white\",\"startlinecolor\":\"#2a3f5f\"},\"type\":\"carpet\"}],\"table\":[{\"cells\":{\"fill\":{\"color\":\"#EBF0F8\"},\"line\":{\"color\":\"white\"}},\"header\":{\"fill\":{\"color\":\"#C8D4E3\"},\"line\":{\"color\":\"white\"}},\"type\":\"table\"}],\"barpolar\":[{\"marker\":{\"line\":{\"color\":\"#E5ECF6\",\"width\":0.5},\"pattern\":{\"fillmode\":\"overlay\",\"size\":10,\"solidity\":0.2}},\"type\":\"barpolar\"}],\"pie\":[{\"automargin\":true,\"type\":\"pie\"}]},\"layout\":{\"autotypenumbers\":\"strict\",\"colorway\":[\"#636efa\",\"#EF553B\",\"#00cc96\",\"#ab63fa\",\"#FFA15A\",\"#19d3f3\",\"#FF6692\",\"#B6E880\",\"#FF97FF\",\"#FECB52\"],\"font\":{\"color\":\"#2a3f5f\"},\"hovermode\":\"closest\",\"hoverlabel\":{\"align\":\"left\"},\"paper_bgcolor\":\"white\",\"plot_bgcolor\":\"#E5ECF6\",\"polar\":{\"bgcolor\":\"#E5ECF6\",\"angularaxis\":{\"gridcolor\":\"white\",\"linecolor\":\"white\",\"ticks\":\"\"},\"radialaxis\":{\"gridcolor\":\"white\",\"linecolor\":\"white\",\"ticks\":\"\"}},\"ternary\":{\"bgcolor\":\"#E5ECF6\",\"aaxis\":{\"gridcolor\":\"white\",\"linecolor\":\"white\",\"ticks\":\"\"},\"baxis\":{\"gridcolor\":\"white\",\"linecolor\":\"white\",\"ticks\":\"\"},\"caxis\":{\"gridcolor\":\"white\",\"linecolor\":\"white\",\"ticks\":\"\"}},\"coloraxis\":{\"colorbar\":{\"outlinewidth\":0,\"ticks\":\"\"}},\"colorscale\":{\"sequential\":[[0.0,\"#0d0887\"],[0.1111111111111111,\"#46039f\"],[0.2222222222222222,\"#7201a8\"],[0.3333333333333333,\"#9c179e\"],[0.4444444444444444,\"#bd3786\"],[0.5555555555555556,\"#d8576b\"],[0.6666666666666666,\"#ed7953\"],[0.7777777777777778,\"#fb9f3a\"],[0.8888888888888888,\"#fdca26\"],[1.0,\"#f0f921\"]],\"sequentialminus\":[[0.0,\"#0d0887\"],[0.1111111111111111,\"#46039f\"],[0.2222222222222222,\"#7201a8\"],[0.3333333333333333,\"#9c179e\"],[0.4444444444444444,\"#bd3786\"],[0.5555555555555556,\"#d8576b\"],[0.6666666666666666,\"#ed7953\"],[0.7777777777777778,\"#fb9f3a\"],[0.8888888888888888,\"#fdca26\"],[1.0,\"#f0f921\"]],\"diverging\":[[0,\"#8e0152\"],[0.1,\"#c51b7d\"],[0.2,\"#de77ae\"],[0.3,\"#f1b6da\"],[0.4,\"#fde0ef\"],[0.5,\"#f7f7f7\"],[0.6,\"#e6f5d0\"],[0.7,\"#b8e186\"],[0.8,\"#7fbc41\"],[0.9,\"#4d9221\"],[1,\"#276419\"]]},\"xaxis\":{\"gridcolor\":\"white\",\"linecolor\":\"white\",\"ticks\":\"\",\"title\":{\"standoff\":15},\"zerolinecolor\":\"white\",\"automargin\":true,\"zerolinewidth\":2},\"yaxis\":{\"gridcolor\":\"white\",\"linecolor\":\"white\",\"ticks\":\"\",\"title\":{\"standoff\":15},\"zerolinecolor\":\"white\",\"automargin\":true,\"zerolinewidth\":2},\"scene\":{\"xaxis\":{\"backgroundcolor\":\"#E5ECF6\",\"gridcolor\":\"white\",\"linecolor\":\"white\",\"showbackground\":true,\"ticks\":\"\",\"zerolinecolor\":\"white\",\"gridwidth\":2},\"yaxis\":{\"backgroundcolor\":\"#E5ECF6\",\"gridcolor\":\"white\",\"linecolor\":\"white\",\"showbackground\":true,\"ticks\":\"\",\"zerolinecolor\":\"white\",\"gridwidth\":2},\"zaxis\":{\"backgroundcolor\":\"#E5ECF6\",\"gridcolor\":\"white\",\"linecolor\":\"white\",\"showbackground\":true,\"ticks\":\"\",\"zerolinecolor\":\"white\",\"gridwidth\":2}},\"shapedefaults\":{\"line\":{\"color\":\"#2a3f5f\"}},\"annotationdefaults\":{\"arrowcolor\":\"#2a3f5f\",\"arrowhead\":0,\"arrowwidth\":1},\"geo\":{\"bgcolor\":\"white\",\"landcolor\":\"#E5ECF6\",\"subunitcolor\":\"white\",\"showland\":true,\"showlakes\":true,\"lakecolor\":\"white\"},\"title\":{\"x\":0.05},\"mapbox\":{\"style\":\"light\"}}},\"xaxis\":{\"anchor\":\"y\",\"domain\":[0.0,1.0],\"title\":{\"text\":\"Month\"},\"categoryorder\":\"array\",\"categoryarray\":[\"2024-01\",\"2024-02\",\"2024-03\",\"2024-04\",\"2024-05\",\"2024-06\",\"2024-07\",\"2024-08\",\"2024-09\",\"2024-10\",\"2024-11\",\"2024-12\",\"2025-01\",\"2025-02\",\"2025-03\",\"2025-04\",\"2025-05\"]},\"yaxis\":{\"anchor\":\"x\",\"domain\":[0.0,1.0],\"title\":{\"text\":\"Estimated Return ($)\"}},\"legend\":{\"title\":{\"text\":\"month\"},\"tracegroupgap\":0},\"title\":{\"text\":\"Estimated Returns Distribution per Month (Boxplot)\"},\"boxmode\":\"overlay\",\"plot_bgcolor\":\"white\",\"showlegend\":false},                        {\"responsive\": true}                    ).then(function(){\n",
       "                            \n",
       "var gd = document.getElementById('0db14a69-c713-4551-9a57-5b7927e40f7a');\n",
       "var x = new MutationObserver(function (mutations, observer) {{\n",
       "        var display = window.getComputedStyle(gd).display;\n",
       "        if (!display || display === 'none') {{\n",
       "            console.log([gd, 'removed!']);\n",
       "            Plotly.purge(gd);\n",
       "            observer.disconnect();\n",
       "        }}\n",
       "}});\n",
       "\n",
       "// Listen for the removal of the full notebook cells\n",
       "var notebookContainer = gd.closest('#notebook-container');\n",
       "if (notebookContainer) {{\n",
       "    x.observe(notebookContainer, {childList: true});\n",
       "}}\n",
       "\n",
       "// Listen for the clearing of the current output cell\n",
       "var outputEl = gd.closest('.output');\n",
       "if (outputEl) {{\n",
       "    x.observe(outputEl, {childList: true});\n",
       "}}\n",
       "\n",
       "                        })                };                });            </script>        </div>"
      ]
     },
     "metadata": {},
     "output_type": "display_data"
    }
   ],
   "source": [
    "# Load cleaned signals data with estimated returns \n",
    "df = pd.read_csv(\"../data/clean/signals_tp_clean_with_returns.csv\")\n",
    "df[\"timestamp\"] = pd.to_datetime(df[\"timestamp\"])\n",
    "df[\"month\"] = df[\"timestamp\"].dt.to_period(\"M\").astype(str)\n",
    "\n",
    "# Create boxplot chart \n",
    "fig = px.box(\n",
    "    df,\n",
    "    x=\"month\",\n",
    "    y=\"estimated_return\",\n",
    "    color=\"month\",\n",
    "    title=\"Estimated Returns Distribution per Month (Boxplot)\",\n",
    "    color_discrete_sequence=px.colors.qualitative.Set3\n",
    ")\n",
    "\n",
    "fig.update_layout(\n",
    "    xaxis_title=\"Month\",\n",
    "    yaxis_title=\"Estimated Return ($)\",\n",
    "    plot_bgcolor=\"white\",\n",
    "    showlegend=False\n",
    ")\n",
    "\n",
    "# Save chart as HTML \n",
    "output_path = Path(\"../outputs/plots/returns_histogram_by_month.html\")\n",
    "output_path.parent.mkdir(parents=True, exist_ok=True)\n",
    "fig.write_html(str(output_path), include_plotlyjs=\"cdn\")\n",
    "\n",
    "# Show in notebook\n",
    "fig.show()"
   ]
  },
  {
   "cell_type": "markdown",
   "id": "0a4ec6cb-ba40-4c32-9af9-bbb487f734eb",
   "metadata": {},
   "source": [
    "This boxplot shows the monthly distribution of returns based on a $100 investment per signal.\n",
    "\n",
    "Some months have more consistent returns, others are volatile.\n",
    "\n",
    "Negative returns are common in some periods.\n",
    "\n",
    "Outliers highlight occasional high or low performances."
   ]
  },
  {
   "cell_type": "code",
   "execution_count": 33,
   "id": "f18ff50f-484d-4ce7-8363-0bebcd0235ca",
   "metadata": {},
   "outputs": [
    {
     "name": "stdout",
     "output_type": "stream",
     "text": [
      "      month direction  total_signals  avg_return  total_return\n",
      "0   2024-01      Long            106       63.96          6780\n",
      "1   2024-01     Short             82       64.15          5260\n",
      "2   2024-02      Long             88       77.27          6800\n",
      "3   2024-02     Short             51       58.82          3000\n",
      "4   2024-03      Long             94       70.21          6600\n",
      "5   2024-03     Short             59       77.97          4600\n",
      "6   2024-04      Long             60       73.00          4380\n",
      "7   2024-04     Short             77       83.12          6400\n",
      "8   2024-05      Long             81       81.98          6640\n",
      "9   2024-05     Short             54       66.30          3580\n",
      "10  2024-06      Long             43       56.74          2440\n",
      "11  2024-06     Short             74       88.65          6560\n",
      "12  2024-07      Long             67       77.01          5160\n",
      "13  2024-07     Short             54       77.04          4160\n",
      "14  2024-08      Long             55       71.64          3940\n",
      "15  2024-08     Short             89       80.45          7160\n",
      "16  2024-09      Long             71       81.97          5820\n",
      "17  2024-09     Short             59       62.71          3700\n",
      "18  2024-10      Long             44       68.18          3000\n",
      "19  2024-10     Short             81       73.09          5920\n",
      "20  2024-11      Long             56       72.50          4060\n",
      "21  2024-11     Short             64       63.12          4040\n",
      "22  2024-12      Long             70       62.57          4380\n",
      "23  2024-12     Short             51       74.90          3820\n",
      "24  2025-01      Long             66       50.30          3320\n",
      "25  2025-01     Short             58       78.62          4560\n",
      "26  2025-02      Long             64       66.25          4240\n",
      "27  2025-02     Short             48       65.83          3160\n",
      "28  2025-03      Long             85       55.53          4720\n",
      "29  2025-03     Short             39       81.03          3160\n",
      "30  2025-04      Long             78       66.92          5220\n",
      "31  2025-04     Short             42       49.52          2080\n",
      "32  2025-05      Long             51       63.53          3240\n",
      "33  2025-05     Short             38       64.21          2440\n"
     ]
    },
    {
     "name": "stderr",
     "output_type": "stream",
     "text": [
      "C:\\Users\\PcVIP\\AppData\\Local\\Temp\\ipykernel_18796\\4267185788.py:5: UserWarning:\n",
      "\n",
      "Converting to PeriodArray/Index representation will drop timezone information.\n",
      "\n"
     ]
    }
   ],
   "source": [
    "# Load the cleaned data with estimated returns\n",
    "df = pd.read_csv(\"../data/clean/signals_tp_clean_with_returns.csv\", parse_dates=[\"timestamp\"])\n",
    "\n",
    "# Extract month\n",
    "df[\"month\"] = df[\"timestamp\"].dt.to_period(\"M\").astype(str)\n",
    "\n",
    "# Group by month and direction\n",
    "long_short_summary = df.groupby([\"month\", \"direction\"]).agg(\n",
    "    total_signals=(\"estimated_return\", \"count\"),\n",
    "    avg_return=(\"estimated_return\", \"mean\"),\n",
    "    total_return=(\"estimated_return\", \"sum\")\n",
    ").reset_index()\n",
    "\n",
    "# Round results\n",
    "long_short_summary[\"avg_return\"] = long_short_summary[\"avg_return\"].round(2)\n",
    "long_short_summary[\"total_return\"] = long_short_summary[\"total_return\"].round(2)\n",
    "\n",
    "# Show the table\n",
    "print(long_short_summary)\n"
   ]
  },
  {
   "cell_type": "code",
   "execution_count": 34,
   "id": "c4c20531-32d3-43c3-97d0-d4b48a4a32dd",
   "metadata": {},
   "outputs": [
    {
     "data": {
      "application/vnd.plotly.v1+json": {
       "config": {
        "plotlyServerURL": "https://plot.ly"
       },
       "data": [
        {
         "alignmentgroup": "True",
         "hovertemplate": "direction=Long<br>Month=%{x}<br>Total Return ($)=%{y}<extra></extra>",
         "legendgroup": "Long",
         "marker": {
          "color": "green",
          "pattern": {
           "shape": ""
          }
         },
         "name": "Long",
         "offsetgroup": "Long",
         "orientation": "v",
         "showlegend": true,
         "textposition": "auto",
         "type": "bar",
         "x": [
          "2024-01",
          "2024-02",
          "2024-03",
          "2024-04",
          "2024-05",
          "2024-06",
          "2024-07",
          "2024-08",
          "2024-09",
          "2024-10",
          "2024-11",
          "2024-12",
          "2025-01",
          "2025-02",
          "2025-03",
          "2025-04",
          "2025-05"
         ],
         "xaxis": "x",
         "y": [
          6780,
          6800,
          6600,
          4380,
          6640,
          2440,
          5160,
          3940,
          5820,
          3000,
          4060,
          4380,
          3320,
          4240,
          4720,
          5220,
          3240
         ],
         "yaxis": "y"
        },
        {
         "alignmentgroup": "True",
         "hovertemplate": "direction=Short<br>Month=%{x}<br>Total Return ($)=%{y}<extra></extra>",
         "legendgroup": "Short",
         "marker": {
          "color": "red",
          "pattern": {
           "shape": ""
          }
         },
         "name": "Short",
         "offsetgroup": "Short",
         "orientation": "v",
         "showlegend": true,
         "textposition": "auto",
         "type": "bar",
         "x": [
          "2024-01",
          "2024-02",
          "2024-03",
          "2024-04",
          "2024-05",
          "2024-06",
          "2024-07",
          "2024-08",
          "2024-09",
          "2024-10",
          "2024-11",
          "2024-12",
          "2025-01",
          "2025-02",
          "2025-03",
          "2025-04",
          "2025-05"
         ],
         "xaxis": "x",
         "y": [
          5260,
          3000,
          4600,
          6400,
          3580,
          6560,
          4160,
          7160,
          3700,
          5920,
          4040,
          3820,
          4560,
          3160,
          3160,
          2080,
          2440
         ],
         "yaxis": "y"
        }
       ],
       "layout": {
        "barmode": "group",
        "legend": {
         "title": {
          "text": "direction"
         },
         "tracegroupgap": 0
        },
        "plot_bgcolor": "white",
        "template": {
         "data": {
          "bar": [
           {
            "error_x": {
             "color": "#2a3f5f"
            },
            "error_y": {
             "color": "#2a3f5f"
            },
            "marker": {
             "line": {
              "color": "#E5ECF6",
              "width": 0.5
             },
             "pattern": {
              "fillmode": "overlay",
              "size": 10,
              "solidity": 0.2
             }
            },
            "type": "bar"
           }
          ],
          "barpolar": [
           {
            "marker": {
             "line": {
              "color": "#E5ECF6",
              "width": 0.5
             },
             "pattern": {
              "fillmode": "overlay",
              "size": 10,
              "solidity": 0.2
             }
            },
            "type": "barpolar"
           }
          ],
          "carpet": [
           {
            "aaxis": {
             "endlinecolor": "#2a3f5f",
             "gridcolor": "white",
             "linecolor": "white",
             "minorgridcolor": "white",
             "startlinecolor": "#2a3f5f"
            },
            "baxis": {
             "endlinecolor": "#2a3f5f",
             "gridcolor": "white",
             "linecolor": "white",
             "minorgridcolor": "white",
             "startlinecolor": "#2a3f5f"
            },
            "type": "carpet"
           }
          ],
          "choropleth": [
           {
            "colorbar": {
             "outlinewidth": 0,
             "ticks": ""
            },
            "type": "choropleth"
           }
          ],
          "contour": [
           {
            "colorbar": {
             "outlinewidth": 0,
             "ticks": ""
            },
            "colorscale": [
             [
              0,
              "#0d0887"
             ],
             [
              0.1111111111111111,
              "#46039f"
             ],
             [
              0.2222222222222222,
              "#7201a8"
             ],
             [
              0.3333333333333333,
              "#9c179e"
             ],
             [
              0.4444444444444444,
              "#bd3786"
             ],
             [
              0.5555555555555556,
              "#d8576b"
             ],
             [
              0.6666666666666666,
              "#ed7953"
             ],
             [
              0.7777777777777778,
              "#fb9f3a"
             ],
             [
              0.8888888888888888,
              "#fdca26"
             ],
             [
              1,
              "#f0f921"
             ]
            ],
            "type": "contour"
           }
          ],
          "contourcarpet": [
           {
            "colorbar": {
             "outlinewidth": 0,
             "ticks": ""
            },
            "type": "contourcarpet"
           }
          ],
          "heatmap": [
           {
            "colorbar": {
             "outlinewidth": 0,
             "ticks": ""
            },
            "colorscale": [
             [
              0,
              "#0d0887"
             ],
             [
              0.1111111111111111,
              "#46039f"
             ],
             [
              0.2222222222222222,
              "#7201a8"
             ],
             [
              0.3333333333333333,
              "#9c179e"
             ],
             [
              0.4444444444444444,
              "#bd3786"
             ],
             [
              0.5555555555555556,
              "#d8576b"
             ],
             [
              0.6666666666666666,
              "#ed7953"
             ],
             [
              0.7777777777777778,
              "#fb9f3a"
             ],
             [
              0.8888888888888888,
              "#fdca26"
             ],
             [
              1,
              "#f0f921"
             ]
            ],
            "type": "heatmap"
           }
          ],
          "heatmapgl": [
           {
            "colorbar": {
             "outlinewidth": 0,
             "ticks": ""
            },
            "colorscale": [
             [
              0,
              "#0d0887"
             ],
             [
              0.1111111111111111,
              "#46039f"
             ],
             [
              0.2222222222222222,
              "#7201a8"
             ],
             [
              0.3333333333333333,
              "#9c179e"
             ],
             [
              0.4444444444444444,
              "#bd3786"
             ],
             [
              0.5555555555555556,
              "#d8576b"
             ],
             [
              0.6666666666666666,
              "#ed7953"
             ],
             [
              0.7777777777777778,
              "#fb9f3a"
             ],
             [
              0.8888888888888888,
              "#fdca26"
             ],
             [
              1,
              "#f0f921"
             ]
            ],
            "type": "heatmapgl"
           }
          ],
          "histogram": [
           {
            "marker": {
             "pattern": {
              "fillmode": "overlay",
              "size": 10,
              "solidity": 0.2
             }
            },
            "type": "histogram"
           }
          ],
          "histogram2d": [
           {
            "colorbar": {
             "outlinewidth": 0,
             "ticks": ""
            },
            "colorscale": [
             [
              0,
              "#0d0887"
             ],
             [
              0.1111111111111111,
              "#46039f"
             ],
             [
              0.2222222222222222,
              "#7201a8"
             ],
             [
              0.3333333333333333,
              "#9c179e"
             ],
             [
              0.4444444444444444,
              "#bd3786"
             ],
             [
              0.5555555555555556,
              "#d8576b"
             ],
             [
              0.6666666666666666,
              "#ed7953"
             ],
             [
              0.7777777777777778,
              "#fb9f3a"
             ],
             [
              0.8888888888888888,
              "#fdca26"
             ],
             [
              1,
              "#f0f921"
             ]
            ],
            "type": "histogram2d"
           }
          ],
          "histogram2dcontour": [
           {
            "colorbar": {
             "outlinewidth": 0,
             "ticks": ""
            },
            "colorscale": [
             [
              0,
              "#0d0887"
             ],
             [
              0.1111111111111111,
              "#46039f"
             ],
             [
              0.2222222222222222,
              "#7201a8"
             ],
             [
              0.3333333333333333,
              "#9c179e"
             ],
             [
              0.4444444444444444,
              "#bd3786"
             ],
             [
              0.5555555555555556,
              "#d8576b"
             ],
             [
              0.6666666666666666,
              "#ed7953"
             ],
             [
              0.7777777777777778,
              "#fb9f3a"
             ],
             [
              0.8888888888888888,
              "#fdca26"
             ],
             [
              1,
              "#f0f921"
             ]
            ],
            "type": "histogram2dcontour"
           }
          ],
          "mesh3d": [
           {
            "colorbar": {
             "outlinewidth": 0,
             "ticks": ""
            },
            "type": "mesh3d"
           }
          ],
          "parcoords": [
           {
            "line": {
             "colorbar": {
              "outlinewidth": 0,
              "ticks": ""
             }
            },
            "type": "parcoords"
           }
          ],
          "pie": [
           {
            "automargin": true,
            "type": "pie"
           }
          ],
          "scatter": [
           {
            "fillpattern": {
             "fillmode": "overlay",
             "size": 10,
             "solidity": 0.2
            },
            "type": "scatter"
           }
          ],
          "scatter3d": [
           {
            "line": {
             "colorbar": {
              "outlinewidth": 0,
              "ticks": ""
             }
            },
            "marker": {
             "colorbar": {
              "outlinewidth": 0,
              "ticks": ""
             }
            },
            "type": "scatter3d"
           }
          ],
          "scattercarpet": [
           {
            "marker": {
             "colorbar": {
              "outlinewidth": 0,
              "ticks": ""
             }
            },
            "type": "scattercarpet"
           }
          ],
          "scattergeo": [
           {
            "marker": {
             "colorbar": {
              "outlinewidth": 0,
              "ticks": ""
             }
            },
            "type": "scattergeo"
           }
          ],
          "scattergl": [
           {
            "marker": {
             "colorbar": {
              "outlinewidth": 0,
              "ticks": ""
             }
            },
            "type": "scattergl"
           }
          ],
          "scattermapbox": [
           {
            "marker": {
             "colorbar": {
              "outlinewidth": 0,
              "ticks": ""
             }
            },
            "type": "scattermapbox"
           }
          ],
          "scatterpolar": [
           {
            "marker": {
             "colorbar": {
              "outlinewidth": 0,
              "ticks": ""
             }
            },
            "type": "scatterpolar"
           }
          ],
          "scatterpolargl": [
           {
            "marker": {
             "colorbar": {
              "outlinewidth": 0,
              "ticks": ""
             }
            },
            "type": "scatterpolargl"
           }
          ],
          "scatterternary": [
           {
            "marker": {
             "colorbar": {
              "outlinewidth": 0,
              "ticks": ""
             }
            },
            "type": "scatterternary"
           }
          ],
          "surface": [
           {
            "colorbar": {
             "outlinewidth": 0,
             "ticks": ""
            },
            "colorscale": [
             [
              0,
              "#0d0887"
             ],
             [
              0.1111111111111111,
              "#46039f"
             ],
             [
              0.2222222222222222,
              "#7201a8"
             ],
             [
              0.3333333333333333,
              "#9c179e"
             ],
             [
              0.4444444444444444,
              "#bd3786"
             ],
             [
              0.5555555555555556,
              "#d8576b"
             ],
             [
              0.6666666666666666,
              "#ed7953"
             ],
             [
              0.7777777777777778,
              "#fb9f3a"
             ],
             [
              0.8888888888888888,
              "#fdca26"
             ],
             [
              1,
              "#f0f921"
             ]
            ],
            "type": "surface"
           }
          ],
          "table": [
           {
            "cells": {
             "fill": {
              "color": "#EBF0F8"
             },
             "line": {
              "color": "white"
             }
            },
            "header": {
             "fill": {
              "color": "#C8D4E3"
             },
             "line": {
              "color": "white"
             }
            },
            "type": "table"
           }
          ]
         },
         "layout": {
          "annotationdefaults": {
           "arrowcolor": "#2a3f5f",
           "arrowhead": 0,
           "arrowwidth": 1
          },
          "autotypenumbers": "strict",
          "coloraxis": {
           "colorbar": {
            "outlinewidth": 0,
            "ticks": ""
           }
          },
          "colorscale": {
           "diverging": [
            [
             0,
             "#8e0152"
            ],
            [
             0.1,
             "#c51b7d"
            ],
            [
             0.2,
             "#de77ae"
            ],
            [
             0.3,
             "#f1b6da"
            ],
            [
             0.4,
             "#fde0ef"
            ],
            [
             0.5,
             "#f7f7f7"
            ],
            [
             0.6,
             "#e6f5d0"
            ],
            [
             0.7,
             "#b8e186"
            ],
            [
             0.8,
             "#7fbc41"
            ],
            [
             0.9,
             "#4d9221"
            ],
            [
             1,
             "#276419"
            ]
           ],
           "sequential": [
            [
             0,
             "#0d0887"
            ],
            [
             0.1111111111111111,
             "#46039f"
            ],
            [
             0.2222222222222222,
             "#7201a8"
            ],
            [
             0.3333333333333333,
             "#9c179e"
            ],
            [
             0.4444444444444444,
             "#bd3786"
            ],
            [
             0.5555555555555556,
             "#d8576b"
            ],
            [
             0.6666666666666666,
             "#ed7953"
            ],
            [
             0.7777777777777778,
             "#fb9f3a"
            ],
            [
             0.8888888888888888,
             "#fdca26"
            ],
            [
             1,
             "#f0f921"
            ]
           ],
           "sequentialminus": [
            [
             0,
             "#0d0887"
            ],
            [
             0.1111111111111111,
             "#46039f"
            ],
            [
             0.2222222222222222,
             "#7201a8"
            ],
            [
             0.3333333333333333,
             "#9c179e"
            ],
            [
             0.4444444444444444,
             "#bd3786"
            ],
            [
             0.5555555555555556,
             "#d8576b"
            ],
            [
             0.6666666666666666,
             "#ed7953"
            ],
            [
             0.7777777777777778,
             "#fb9f3a"
            ],
            [
             0.8888888888888888,
             "#fdca26"
            ],
            [
             1,
             "#f0f921"
            ]
           ]
          },
          "colorway": [
           "#636efa",
           "#EF553B",
           "#00cc96",
           "#ab63fa",
           "#FFA15A",
           "#19d3f3",
           "#FF6692",
           "#B6E880",
           "#FF97FF",
           "#FECB52"
          ],
          "font": {
           "color": "#2a3f5f"
          },
          "geo": {
           "bgcolor": "white",
           "lakecolor": "white",
           "landcolor": "#E5ECF6",
           "showlakes": true,
           "showland": true,
           "subunitcolor": "white"
          },
          "hoverlabel": {
           "align": "left"
          },
          "hovermode": "closest",
          "mapbox": {
           "style": "light"
          },
          "paper_bgcolor": "white",
          "plot_bgcolor": "#E5ECF6",
          "polar": {
           "angularaxis": {
            "gridcolor": "white",
            "linecolor": "white",
            "ticks": ""
           },
           "bgcolor": "#E5ECF6",
           "radialaxis": {
            "gridcolor": "white",
            "linecolor": "white",
            "ticks": ""
           }
          },
          "scene": {
           "xaxis": {
            "backgroundcolor": "#E5ECF6",
            "gridcolor": "white",
            "gridwidth": 2,
            "linecolor": "white",
            "showbackground": true,
            "ticks": "",
            "zerolinecolor": "white"
           },
           "yaxis": {
            "backgroundcolor": "#E5ECF6",
            "gridcolor": "white",
            "gridwidth": 2,
            "linecolor": "white",
            "showbackground": true,
            "ticks": "",
            "zerolinecolor": "white"
           },
           "zaxis": {
            "backgroundcolor": "#E5ECF6",
            "gridcolor": "white",
            "gridwidth": 2,
            "linecolor": "white",
            "showbackground": true,
            "ticks": "",
            "zerolinecolor": "white"
           }
          },
          "shapedefaults": {
           "line": {
            "color": "#2a3f5f"
           }
          },
          "ternary": {
           "aaxis": {
            "gridcolor": "white",
            "linecolor": "white",
            "ticks": ""
           },
           "baxis": {
            "gridcolor": "white",
            "linecolor": "white",
            "ticks": ""
           },
           "bgcolor": "#E5ECF6",
           "caxis": {
            "gridcolor": "white",
            "linecolor": "white",
            "ticks": ""
           }
          },
          "title": {
           "x": 0.05
          },
          "xaxis": {
           "automargin": true,
           "gridcolor": "white",
           "linecolor": "white",
           "ticks": "",
           "title": {
            "standoff": 15
           },
           "zerolinecolor": "white",
           "zerolinewidth": 2
          },
          "yaxis": {
           "automargin": true,
           "gridcolor": "white",
           "linecolor": "white",
           "ticks": "",
           "title": {
            "standoff": 15
           },
           "zerolinecolor": "white",
           "zerolinewidth": 2
          }
         }
        },
        "title": {
         "text": "Monthly Total Return: Long vs Short"
        },
        "xaxis": {
         "anchor": "y",
         "domain": [
          0,
          1
         ],
         "tickangle": -45,
         "title": {
          "text": "Month"
         }
        },
        "yaxis": {
         "anchor": "x",
         "domain": [
          0,
          1
         ],
         "title": {
          "text": "Total Return ($)"
         }
        }
       }
      },
      "image/png": "[encoded data removed]",
      "text/html": [
       "<div>                            <div id=\"445804f5-b274-4667-aaff-3dd77d8d91ed\" class=\"plotly-graph-div\" style=\"height:525px; width:100%;\"></div>            <script type=\"text/javascript\">                require([\"plotly\"], function(Plotly) {                    window.PLOTLYENV=window.PLOTLYENV || {};                                    if (document.getElementById(\"445804f5-b274-4667-aaff-3dd77d8d91ed\")) {                    Plotly.newPlot(                        \"445804f5-b274-4667-aaff-3dd77d8d91ed\",                        [{\"alignmentgroup\":\"True\",\"hovertemplate\":\"direction=Long\\u003cbr\\u003eMonth=%{x}\\u003cbr\\u003eTotal Return ($)=%{y}\\u003cextra\\u003e\\u003c\\u002fextra\\u003e\",\"legendgroup\":\"Long\",\"marker\":{\"color\":\"green\",\"pattern\":{\"shape\":\"\"}},\"name\":\"Long\",\"offsetgroup\":\"Long\",\"orientation\":\"v\",\"showlegend\":true,\"textposition\":\"auto\",\"x\":[\"2024-01\",\"2024-02\",\"2024-03\",\"2024-04\",\"2024-05\",\"2024-06\",\"2024-07\",\"2024-08\",\"2024-09\",\"2024-10\",\"2024-11\",\"2024-12\",\"2025-01\",\"2025-02\",\"2025-03\",\"2025-04\",\"2025-05\"],\"xaxis\":\"x\",\"y\":[6780,6800,6600,4380,6640,2440,5160,3940,5820,3000,4060,4380,3320,4240,4720,5220,3240],\"yaxis\":\"y\",\"type\":\"bar\"},{\"alignmentgroup\":\"True\",\"hovertemplate\":\"direction=Short\\u003cbr\\u003eMonth=%{x}\\u003cbr\\u003eTotal Return ($)=%{y}\\u003cextra\\u003e\\u003c\\u002fextra\\u003e\",\"legendgroup\":\"Short\",\"marker\":{\"color\":\"red\",\"pattern\":{\"shape\":\"\"}},\"name\":\"Short\",\"offsetgroup\":\"Short\",\"orientation\":\"v\",\"showlegend\":true,\"textposition\":\"auto\",\"x\":[\"2024-01\",\"2024-02\",\"2024-03\",\"2024-04\",\"2024-05\",\"2024-06\",\"2024-07\",\"2024-08\",\"2024-09\",\"2024-10\",\"2024-11\",\"2024-12\",\"2025-01\",\"2025-02\",\"2025-03\",\"2025-04\",\"2025-05\"],\"xaxis\":\"x\",\"y\":[5260,3000,4600,6400,3580,6560,4160,7160,3700,5920,4040,3820,4560,3160,3160,2080,2440],\"yaxis\":\"y\",\"type\":\"bar\"}],                        {\"template\":{\"data\":{\"histogram2dcontour\":[{\"type\":\"histogram2dcontour\",\"colorbar\":{\"outlinewidth\":0,\"ticks\":\"\"},\"colorscale\":[[0.0,\"#0d0887\"],[0.1111111111111111,\"#46039f\"],[0.2222222222222222,\"#7201a8\"],[0.3333333333333333,\"#9c179e\"],[0.4444444444444444,\"#bd3786\"],[0.5555555555555556,\"#d8576b\"],[0.6666666666666666,\"#ed7953\"],[0.7777777777777778,\"#fb9f3a\"],[0.8888888888888888,\"#fdca26\"],[1.0,\"#f0f921\"]]}],\"choropleth\":[{\"type\":\"choropleth\",\"colorbar\":{\"outlinewidth\":0,\"ticks\":\"\"}}],\"histogram2d\":[{\"type\":\"histogram2d\",\"colorbar\":{\"outlinewidth\":0,\"ticks\":\"\"},\"colorscale\":[[0.0,\"#0d0887\"],[0.1111111111111111,\"#46039f\"],[0.2222222222222222,\"#7201a8\"],[0.3333333333333333,\"#9c179e\"],[0.4444444444444444,\"#bd3786\"],[0.5555555555555556,\"#d8576b\"],[0.6666666666666666,\"#ed7953\"],[0.7777777777777778,\"#fb9f3a\"],[0.8888888888888888,\"#fdca26\"],[1.0,\"#f0f921\"]]}],\"heatmap\":[{\"type\":\"heatmap\",\"colorbar\":{\"outlinewidth\":0,\"ticks\":\"\"},\"colorscale\":[[0.0,\"#0d0887\"],[0.1111111111111111,\"#46039f\"],[0.2222222222222222,\"#7201a8\"],[0.3333333333333333,\"#9c179e\"],[0.4444444444444444,\"#bd3786\"],[0.5555555555555556,\"#d8576b\"],[0.6666666666666666,\"#ed7953\"],[0.7777777777777778,\"#fb9f3a\"],[0.8888888888888888,\"#fdca26\"],[1.0,\"#f0f921\"]]}],\"heatmapgl\":[{\"type\":\"heatmapgl\",\"colorbar\":{\"outlinewidth\":0,\"ticks\":\"\"},\"colorscale\":[[0.0,\"#0d0887\"],[0.1111111111111111,\"#46039f\"],[0.2222222222222222,\"#7201a8\"],[0.3333333333333333,\"#9c179e\"],[0.4444444444444444,\"#bd3786\"],[0.5555555555555556,\"#d8576b\"],[0.6666666666666666,\"#ed7953\"],[0.7777777777777778,\"#fb9f3a\"],[0.8888888888888888,\"#fdca26\"],[1.0,\"#f0f921\"]]}],\"contourcarpet\":[{\"type\":\"contourcarpet\",\"colorbar\":{\"outlinewidth\":0,\"ticks\":\"\"}}],\"contour\":[{\"type\":\"contour\",\"colorbar\":{\"outlinewidth\":0,\"ticks\":\"\"},\"colorscale\":[[0.0,\"#0d0887\"],[0.1111111111111111,\"#46039f\"],[0.2222222222222222,\"#7201a8\"],[0.3333333333333333,\"#9c179e\"],[0.4444444444444444,\"#bd3786\"],[0.5555555555555556,\"#d8576b\"],[0.6666666666666666,\"#ed7953\"],[0.7777777777777778,\"#fb9f3a\"],[0.8888888888888888,\"#fdca26\"],[1.0,\"#f0f921\"]]}],\"surface\":[{\"type\":\"surface\",\"colorbar\":{\"outlinewidth\":0,\"ticks\":\"\"},\"colorscale\":[[0.0,\"#0d0887\"],[0.1111111111111111,\"#46039f\"],[0.2222222222222222,\"#7201a8\"],[0.3333333333333333,\"#9c179e\"],[0.4444444444444444,\"#bd3786\"],[0.5555555555555556,\"#d8576b\"],[0.6666666666666666,\"#ed7953\"],[0.7777777777777778,\"#fb9f3a\"],[0.8888888888888888,\"#fdca26\"],[1.0,\"#f0f921\"]]}],\"mesh3d\":[{\"type\":\"mesh3d\",\"colorbar\":{\"outlinewidth\":0,\"ticks\":\"\"}}],\"scatter\":[{\"fillpattern\":{\"fillmode\":\"overlay\",\"size\":10,\"solidity\":0.2},\"type\":\"scatter\"}],\"parcoords\":[{\"type\":\"parcoords\",\"line\":{\"colorbar\":{\"outlinewidth\":0,\"ticks\":\"\"}}}],\"scatterpolargl\":[{\"type\":\"scatterpolargl\",\"marker\":{\"colorbar\":{\"outlinewidth\":0,\"ticks\":\"\"}}}],\"bar\":[{\"error_x\":{\"color\":\"#2a3f5f\"},\"error_y\":{\"color\":\"#2a3f5f\"},\"marker\":{\"line\":{\"color\":\"#E5ECF6\",\"width\":0.5},\"pattern\":{\"fillmode\":\"overlay\",\"size\":10,\"solidity\":0.2}},\"type\":\"bar\"}],\"scattergeo\":[{\"type\":\"scattergeo\",\"marker\":{\"colorbar\":{\"outlinewidth\":0,\"ticks\":\"\"}}}],\"scatterpolar\":[{\"type\":\"scatterpolar\",\"marker\":{\"colorbar\":{\"outlinewidth\":0,\"ticks\":\"\"}}}],\"histogram\":[{\"marker\":{\"pattern\":{\"fillmode\":\"overlay\",\"size\":10,\"solidity\":0.2}},\"type\":\"histogram\"}],\"scattergl\":[{\"type\":\"scattergl\",\"marker\":{\"colorbar\":{\"outlinewidth\":0,\"ticks\":\"\"}}}],\"scatter3d\":[{\"type\":\"scatter3d\",\"line\":{\"colorbar\":{\"outlinewidth\":0,\"ticks\":\"\"}},\"marker\":{\"colorbar\":{\"outlinewidth\":0,\"ticks\":\"\"}}}],\"scattermapbox\":[{\"type\":\"scattermapbox\",\"marker\":{\"colorbar\":{\"outlinewidth\":0,\"ticks\":\"\"}}}],\"scatterternary\":[{\"type\":\"scatterternary\",\"marker\":{\"colorbar\":{\"outlinewidth\":0,\"ticks\":\"\"}}}],\"scattercarpet\":[{\"type\":\"scattercarpet\",\"marker\":{\"colorbar\":{\"outlinewidth\":0,\"ticks\":\"\"}}}],\"carpet\":[{\"aaxis\":{\"endlinecolor\":\"#2a3f5f\",\"gridcolor\":\"white\",\"linecolor\":\"white\",\"minorgridcolor\":\"white\",\"startlinecolor\":\"#2a3f5f\"},\"baxis\":{\"endlinecolor\":\"#2a3f5f\",\"gridcolor\":\"white\",\"linecolor\":\"white\",\"minorgridcolor\":\"white\",\"startlinecolor\":\"#2a3f5f\"},\"type\":\"carpet\"}],\"table\":[{\"cells\":{\"fill\":{\"color\":\"#EBF0F8\"},\"line\":{\"color\":\"white\"}},\"header\":{\"fill\":{\"color\":\"#C8D4E3\"},\"line\":{\"color\":\"white\"}},\"type\":\"table\"}],\"barpolar\":[{\"marker\":{\"line\":{\"color\":\"#E5ECF6\",\"width\":0.5},\"pattern\":{\"fillmode\":\"overlay\",\"size\":10,\"solidity\":0.2}},\"type\":\"barpolar\"}],\"pie\":[{\"automargin\":true,\"type\":\"pie\"}]},\"layout\":{\"autotypenumbers\":\"strict\",\"colorway\":[\"#636efa\",\"#EF553B\",\"#00cc96\",\"#ab63fa\",\"#FFA15A\",\"#19d3f3\",\"#FF6692\",\"#B6E880\",\"#FF97FF\",\"#FECB52\"],\"font\":{\"color\":\"#2a3f5f\"},\"hovermode\":\"closest\",\"hoverlabel\":{\"align\":\"left\"},\"paper_bgcolor\":\"white\",\"plot_bgcolor\":\"#E5ECF6\",\"polar\":{\"bgcolor\":\"#E5ECF6\",\"angularaxis\":{\"gridcolor\":\"white\",\"linecolor\":\"white\",\"ticks\":\"\"},\"radialaxis\":{\"gridcolor\":\"white\",\"linecolor\":\"white\",\"ticks\":\"\"}},\"ternary\":{\"bgcolor\":\"#E5ECF6\",\"aaxis\":{\"gridcolor\":\"white\",\"linecolor\":\"white\",\"ticks\":\"\"},\"baxis\":{\"gridcolor\":\"white\",\"linecolor\":\"white\",\"ticks\":\"\"},\"caxis\":{\"gridcolor\":\"white\",\"linecolor\":\"white\",\"ticks\":\"\"}},\"coloraxis\":{\"colorbar\":{\"outlinewidth\":0,\"ticks\":\"\"}},\"colorscale\":{\"sequential\":[[0.0,\"#0d0887\"],[0.1111111111111111,\"#46039f\"],[0.2222222222222222,\"#7201a8\"],[0.3333333333333333,\"#9c179e\"],[0.4444444444444444,\"#bd3786\"],[0.5555555555555556,\"#d8576b\"],[0.6666666666666666,\"#ed7953\"],[0.7777777777777778,\"#fb9f3a\"],[0.8888888888888888,\"#fdca26\"],[1.0,\"#f0f921\"]],\"sequentialminus\":[[0.0,\"#0d0887\"],[0.1111111111111111,\"#46039f\"],[0.2222222222222222,\"#7201a8\"],[0.3333333333333333,\"#9c179e\"],[0.4444444444444444,\"#bd3786\"],[0.5555555555555556,\"#d8576b\"],[0.6666666666666666,\"#ed7953\"],[0.7777777777777778,\"#fb9f3a\"],[0.8888888888888888,\"#fdca26\"],[1.0,\"#f0f921\"]],\"diverging\":[[0,\"#8e0152\"],[0.1,\"#c51b7d\"],[0.2,\"#de77ae\"],[0.3,\"#f1b6da\"],[0.4,\"#fde0ef\"],[0.5,\"#f7f7f7\"],[0.6,\"#e6f5d0\"],[0.7,\"#b8e186\"],[0.8,\"#7fbc41\"],[0.9,\"#4d9221\"],[1,\"#276419\"]]},\"xaxis\":{\"gridcolor\":\"white\",\"linecolor\":\"white\",\"ticks\":\"\",\"title\":{\"standoff\":15},\"zerolinecolor\":\"white\",\"automargin\":true,\"zerolinewidth\":2},\"yaxis\":{\"gridcolor\":\"white\",\"linecolor\":\"white\",\"ticks\":\"\",\"title\":{\"standoff\":15},\"zerolinecolor\":\"white\",\"automargin\":true,\"zerolinewidth\":2},\"scene\":{\"xaxis\":{\"backgroundcolor\":\"#E5ECF6\",\"gridcolor\":\"white\",\"linecolor\":\"white\",\"showbackground\":true,\"ticks\":\"\",\"zerolinecolor\":\"white\",\"gridwidth\":2},\"yaxis\":{\"backgroundcolor\":\"#E5ECF6\",\"gridcolor\":\"white\",\"linecolor\":\"white\",\"showbackground\":true,\"ticks\":\"\",\"zerolinecolor\":\"white\",\"gridwidth\":2},\"zaxis\":{\"backgroundcolor\":\"#E5ECF6\",\"gridcolor\":\"white\",\"linecolor\":\"white\",\"showbackground\":true,\"ticks\":\"\",\"zerolinecolor\":\"white\",\"gridwidth\":2}},\"shapedefaults\":{\"line\":{\"color\":\"#2a3f5f\"}},\"annotationdefaults\":{\"arrowcolor\":\"#2a3f5f\",\"arrowhead\":0,\"arrowwidth\":1},\"geo\":{\"bgcolor\":\"white\",\"landcolor\":\"#E5ECF6\",\"subunitcolor\":\"white\",\"showland\":true,\"showlakes\":true,\"lakecolor\":\"white\"},\"title\":{\"x\":0.05},\"mapbox\":{\"style\":\"light\"}}},\"xaxis\":{\"anchor\":\"y\",\"domain\":[0.0,1.0],\"title\":{\"text\":\"Month\"},\"tickangle\":-45},\"yaxis\":{\"anchor\":\"x\",\"domain\":[0.0,1.0],\"title\":{\"text\":\"Total Return ($)\"}},\"legend\":{\"title\":{\"text\":\"direction\"},\"tracegroupgap\":0},\"title\":{\"text\":\"Monthly Total Return: Long vs Short\"},\"barmode\":\"group\",\"plot_bgcolor\":\"white\"},                        {\"responsive\": true}                    ).then(function(){\n",
       "                            \n",
       "var gd = document.getElementById('445804f5-b274-4667-aaff-3dd77d8d91ed');\n",
       "var x = new MutationObserver(function (mutations, observer) {{\n",
       "        var display = window.getComputedStyle(gd).display;\n",
       "        if (!display || display === 'none') {{\n",
       "            console.log([gd, 'removed!']);\n",
       "            Plotly.purge(gd);\n",
       "            observer.disconnect();\n",
       "        }}\n",
       "}});\n",
       "\n",
       "// Listen for the removal of the full notebook cells\n",
       "var notebookContainer = gd.closest('#notebook-container');\n",
       "if (notebookContainer) {{\n",
       "    x.observe(notebookContainer, {childList: true});\n",
       "}}\n",
       "\n",
       "// Listen for the clearing of the current output cell\n",
       "var outputEl = gd.closest('.output');\n",
       "if (outputEl) {{\n",
       "    x.observe(outputEl, {childList: true});\n",
       "}}\n",
       "\n",
       "                        })                };                });            </script>        </div>"
      ]
     },
     "metadata": {},
     "output_type": "display_data"
    }
   ],
   "source": [
    "\n",
    "# Create grouped bar chart\n",
    "fig = px.bar(\n",
    "    long_short_summary,\n",
    "    x=\"month\",\n",
    "    y=\"total_return\",\n",
    "    color=\"direction\",\n",
    "    barmode=\"group\",\n",
    "    title=\"Monthly Total Return: Long vs Short\",\n",
    "    labels={\"total_return\": \"Total Return ($)\", \"month\": \"Month\"},\n",
    "    color_discrete_map={\"Long\": \"green\", \"Short\": \"red\"}\n",
    ")\n",
    "\n",
    "fig.update_layout(\n",
    "    plot_bgcolor=\"white\",\n",
    "    xaxis_tickangle=-45\n",
    ")\n",
    "\n",
    "# Save as HTML\n",
    "output_path = Path(\"../outputs/plots/monthly_total_return_long_short.html\")\n",
    "output_path.parent.mkdir(parents=True, exist_ok=True)\n",
    "fig.write_html(str(output_path), include_plotlyjs=\"cdn\")\n",
    "\n",
    "# Display in notebook\n",
    "fig.show()"
   ]
  },
  {
   "cell_type": "markdown",
   "id": "196cb27e-a9f4-40ef-b841-2fd23c1fa462",
   "metadata": {},
   "source": [
    "This chart highlights the monthly total return comparison between Long and Short signals. In most months, Long signals outperformed Short signals in terms of cumulative returns, suggesting that Long strategies were generally more profitable during this period. However, there are months where Short signals achieved higher returns, indicating that directional effectiveness can vary depending on market conditions."
   ]
  },
  {
   "cell_type": "code",
   "execution_count": null,
   "id": "d9842602-ea06-402d-9d86-399d7dbeadd7",
   "metadata": {},
   "outputs": [],
   "source": []
  }
 ],
 "metadata": {
  "kernelspec": {
   "display_name": "Python (final_proyect_env)",
   "language": "python",
   "name": "final_proyect_env"
  },
  "language_info": {
   "codemirror_mode": {
    "name": "ipython",
    "version": 3
   },
   "file_extension": ".py",
   "mimetype": "text/x-python",
   "name": "python",
   "nbconvert_exporter": "python",
   "pygments_lexer": "ipython3",
   "version": "3.13.2"
  }
 },
 "nbformat": 4,
 "nbformat_minor": 5
}
